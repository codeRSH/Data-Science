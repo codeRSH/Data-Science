{
 "cells": [
  {
   "cell_type": "markdown",
   "metadata": {},
   "source": [
    "# Statistics in R"
   ]
  },
  {
   "cell_type": "markdown",
   "metadata": {},
   "source": [
    "## Binomial Distribution"
   ]
  },
  {
   "cell_type": "markdown",
   "metadata": {},
   "source": [
    "### Calculate Probability P(X<=k) for Binomial Distribution \n",
    "\n",
    "#### P <- pbinom(k, n, p)\n",
    "\n",
    "Here n = Number of trials  \n",
    "p = probability of success in each trial\n",
    "\n",
    "### To Get Probability P(X>k) = 1 - P(X<=k)\n",
    "\n",
    "#### pbinom(k, n, p, lower_tail = FALSE)"
   ]
  },
  {
   "cell_type": "code",
   "execution_count": 33,
   "metadata": {},
   "outputs": [
    {
     "data": {
      "text/html": [
       "1"
      ],
      "text/latex": [
       "1"
      ],
      "text/markdown": [
       "1"
      ],
      "text/plain": [
       "[1] 1"
      ]
     },
     "metadata": {},
     "output_type": "display_data"
    }
   ],
   "source": [
    "n <- 100\n",
    "p <- 0.02\n",
    "\n",
    "k <- 50\n",
    "\n",
    "P <- pbinom(k, n, p)\n",
    "P\n",
    "# ?pbinom"
   ]
  },
  {
   "cell_type": "markdown",
   "metadata": {},
   "source": [
    "### Calculate k for Binomial Distribution if Probability P(X<=k) is given\n",
    "\n",
    "#### k <- qbinom(P, n, p)\n",
    "\n",
    "Here also lower.tail works as explained in pnorm above. \n",
    "\n",
    "**Note** : qbinom will give the approximate value to closest integer. "
   ]
  },
  {
   "cell_type": "code",
   "execution_count": 25,
   "metadata": {},
   "outputs": [
    {
     "data": {
      "text/html": [
       "6"
      ],
      "text/latex": [
       "6"
      ],
      "text/markdown": [
       "6"
      ],
      "text/plain": [
       "[1] 6"
      ]
     },
     "metadata": {},
     "output_type": "display_data"
    }
   ],
   "source": [
    "n <- 100\n",
    "p <- 0.02\n",
    "\n",
    "P <- 0.99\n",
    "\n",
    "k <- qbinom(P, n, p)\n",
    "k"
   ]
  },
  {
   "cell_type": "markdown",
   "metadata": {},
   "source": [
    "### Calculate Probability P(X=k) for Binomial Distribution \n",
    "\n",
    "#### P <- dbinom(k, n, p)\n",
    "\n",
    "Here n = Number of trials  \n",
    "p = probability of success in each trial"
   ]
  },
  {
   "cell_type": "markdown",
   "metadata": {},
   "source": [
    "## Possion Distribution"
   ]
  },
  {
   "cell_type": "markdown",
   "metadata": {},
   "source": [
    "### Calculate Probability P(X<=k) for Possion Distribution \n",
    "\n",
    "#### P <- ppois(k, lambda)\n",
    "\n",
    "Here lambda = rate = n * p  \n",
    "n = Number of trials  \n",
    "p = probability of success in each trial\n",
    "\n",
    "### To Get Probability P(X>k) = 1 - P(X<=k)\n",
    "\n",
    "#### ppois(k, lambda, lower_tail = FALSE)"
   ]
  },
  {
   "cell_type": "code",
   "execution_count": 34,
   "metadata": {},
   "outputs": [
    {
     "data": {
      "text/html": [
       "0.999968085978528"
      ],
      "text/latex": [
       "0.999968085978528"
      ],
      "text/markdown": [
       "0.999968085978528"
      ],
      "text/plain": [
       "[1] 0.9999681"
      ]
     },
     "metadata": {},
     "output_type": "display_data"
    }
   ],
   "source": [
    "lambda = 23\n",
    "\n",
    "k = 44\n",
    "\n",
    "P <- ppois(k, lambda)\n",
    "P\n",
    "#?ppois"
   ]
  },
  {
   "cell_type": "markdown",
   "metadata": {},
   "source": [
    "### Calculate k for Possion Distribution if Probability P(X<=k) is given\n",
    "\n",
    "#### k <- qpois(P, lambda)\n",
    "\n",
    "Here also lower.tail works as explained in pnorm above. "
   ]
  },
  {
   "cell_type": "code",
   "execution_count": 39,
   "metadata": {},
   "outputs": [
    {
     "data": {
      "text/html": [
       "35"
      ],
      "text/latex": [
       "35"
      ],
      "text/markdown": [
       "35"
      ],
      "text/plain": [
       "[1] 35"
      ]
     },
     "metadata": {},
     "output_type": "display_data"
    }
   ],
   "source": [
    "lambda = 23\n",
    "\n",
    "P = 0.99\n",
    "\n",
    "k <- qpois(P, lambda)\n",
    "k"
   ]
  },
  {
   "cell_type": "markdown",
   "metadata": {},
   "source": [
    "### Calculate Probability P(X=k) for Possion Distribution \n",
    "\n",
    "#### P <- dpois(k, lambda)\n",
    "\n",
    "Here, lambda = rate = n * p  \n",
    "n = Number of trials    \n",
    "p = probability of success in each trial"
   ]
  },
  {
   "cell_type": "markdown",
   "metadata": {},
   "source": [
    "## Normal Distribution"
   ]
  },
  {
   "cell_type": "markdown",
   "metadata": {},
   "source": [
    "### Calculate Probability P(X<=k) for Normal Distribution \n",
    "\n",
    "#### P <- pnorm(k, mu, sigma)\n",
    "\n",
    "If we don't specify mu and sigma it becomes Standard Normal i.e. mu = 0 and sigma = 1 (used in Z Score)\n",
    "\n",
    "### To Get Probability P(X>k) = 1 - P(X<=k)\n",
    "\n",
    "#### pnorm(k, mu, sigma, lower_tail = FALSE)"
   ]
  },
  {
   "cell_type": "code",
   "execution_count": 12,
   "metadata": {},
   "outputs": [
    {
     "data": {
      "text/html": [
       "0.0227501319481792"
      ],
      "text/latex": [
       "0.0227501319481792"
      ],
      "text/markdown": [
       "0.0227501319481792"
      ],
      "text/plain": [
       "[1] 0.02275013"
      ]
     },
     "metadata": {},
     "output_type": "display_data"
    }
   ],
   "source": [
    "mu <- 45\n",
    "sigma <-10 \n",
    "\n",
    "k <-25\n",
    "\n",
    "P <- pnorm(k, mu, sigma)\n",
    "P"
   ]
  },
  {
   "cell_type": "markdown",
   "metadata": {},
   "source": [
    "### Calculate k for Normal Distribution if Probability (P) is given\n",
    "\n",
    "#### k <- qnorm(P, mu, sigma)\n",
    "\n",
    "If we don't specify mu and sigma it becomes Standard Normal i.e. mu = 0 and sigma = 1 (used in Z Score)\n",
    "Here also lower.tail works as explained in pnorm above. "
   ]
  },
  {
   "cell_type": "code",
   "execution_count": 14,
   "metadata": {},
   "outputs": [
    {
     "data": {
      "text/html": [
       "68.2634787404084"
      ],
      "text/latex": [
       "68.2634787404084"
      ],
      "text/markdown": [
       "68.2634787404084"
      ],
      "text/plain": [
       "[1] 68.26348"
      ]
     },
     "metadata": {},
     "output_type": "display_data"
    }
   ],
   "source": [
    "mu <- 45\n",
    "sigma <- 10\n",
    "\n",
    "P <- 0.99\n",
    "\n",
    "k <- qnorm(P, mu, sigma)\n",
    "k"
   ]
  },
  {
   "cell_type": "code",
   "execution_count": null,
   "metadata": {},
   "outputs": [],
   "source": []
  }
 ],
 "metadata": {
  "kernelspec": {
   "display_name": "R",
   "language": "R",
   "name": "ir"
  },
  "language_info": {
   "codemirror_mode": "r",
   "file_extension": ".r",
   "mimetype": "text/x-r-source",
   "name": "R",
   "pygments_lexer": "r",
   "version": "3.6.1"
  }
 },
 "nbformat": 4,
 "nbformat_minor": 4
}
