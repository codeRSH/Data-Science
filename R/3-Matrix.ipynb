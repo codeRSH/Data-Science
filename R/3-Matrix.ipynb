{
 "cells": [
  {
   "cell_type": "markdown",
   "metadata": {},
   "source": [
    "# Matrices\n",
    "\n",
    "A Matrix is 2-D representation of a Vector. It means it can contain data of only same type. \n",
    " \n",
    "* A Matrix data is represented as A[3,4]\n",
    "* Full row : A[2, ]\n",
    "* Full column : A[,3]"
   ]
  },
  {
   "cell_type": "markdown",
   "metadata": {},
   "source": [
    "### Ways to create Matrixes"
   ]
  },
  {
   "cell_type": "code",
   "execution_count": 73,
   "metadata": {},
   "outputs": [
    {
     "data": {
      "text/html": [
       "<table>\n",
       "<tbody>\n",
       "\t<tr><td>1 </td><td>5 </td><td> 9</td><td>13</td><td>17</td></tr>\n",
       "\t<tr><td>2 </td><td>6 </td><td>10</td><td>14</td><td>18</td></tr>\n",
       "\t<tr><td>3 </td><td>7 </td><td>11</td><td>15</td><td>19</td></tr>\n",
       "\t<tr><td>4 </td><td>8 </td><td>12</td><td>16</td><td>20</td></tr>\n",
       "</tbody>\n",
       "</table>\n"
      ],
      "text/latex": [
       "\\begin{tabular}{lllll}\n",
       "\t 1  & 5  &  9 & 13 & 17\\\\\n",
       "\t 2  & 6  & 10 & 14 & 18\\\\\n",
       "\t 3  & 7  & 11 & 15 & 19\\\\\n",
       "\t 4  & 8  & 12 & 16 & 20\\\\\n",
       "\\end{tabular}\n"
      ],
      "text/markdown": [
       "\n",
       "| 1  | 5  |  9 | 13 | 17 |\n",
       "| 2  | 6  | 10 | 14 | 18 |\n",
       "| 3  | 7  | 11 | 15 | 19 |\n",
       "| 4  | 8  | 12 | 16 | 20 |\n",
       "\n"
      ],
      "text/plain": [
       "     [,1] [,2] [,3] [,4] [,5]\n",
       "[1,] 1    5     9   13   17  \n",
       "[2,] 2    6    10   14   18  \n",
       "[3,] 3    7    11   15   19  \n",
       "[4,] 4    8    12   16   20  "
      ]
     },
     "metadata": {},
     "output_type": "display_data"
    },
    {
     "data": {
      "text/html": [
       "10"
      ],
      "text/latex": [
       "10"
      ],
      "text/markdown": [
       "10"
      ],
      "text/plain": [
       "[1] 10"
      ]
     },
     "metadata": {},
     "output_type": "display_data"
    }
   ],
   "source": [
    "# 1.   matrix()\n",
    "v <- 1:20\n",
    "\n",
    "m1 <- matrix(v, 4, 5)\n",
    "m1\n",
    "\n",
    "m1[2,3]"
   ]
  },
  {
   "cell_type": "code",
   "execution_count": 74,
   "metadata": {},
   "outputs": [
    {
     "data": {
      "text/html": [
       "<table>\n",
       "<tbody>\n",
       "\t<tr><td> 1</td><td> 2</td><td> 3</td><td> 4</td><td> 5</td></tr>\n",
       "\t<tr><td> 6</td><td> 7</td><td> 8</td><td> 9</td><td>10</td></tr>\n",
       "\t<tr><td>11</td><td>12</td><td>13</td><td>14</td><td>15</td></tr>\n",
       "\t<tr><td>16</td><td>17</td><td>18</td><td>19</td><td>20</td></tr>\n",
       "</tbody>\n",
       "</table>\n"
      ],
      "text/latex": [
       "\\begin{tabular}{lllll}\n",
       "\t  1 &  2 &  3 &  4 &  5\\\\\n",
       "\t  6 &  7 &  8 &  9 & 10\\\\\n",
       "\t 11 & 12 & 13 & 14 & 15\\\\\n",
       "\t 16 & 17 & 18 & 19 & 20\\\\\n",
       "\\end{tabular}\n"
      ],
      "text/markdown": [
       "\n",
       "|  1 |  2 |  3 |  4 |  5 |\n",
       "|  6 |  7 |  8 |  9 | 10 |\n",
       "| 11 | 12 | 13 | 14 | 15 |\n",
       "| 16 | 17 | 18 | 19 | 20 |\n",
       "\n"
      ],
      "text/plain": [
       "     [,1] [,2] [,3] [,4] [,5]\n",
       "[1,]  1    2    3    4    5  \n",
       "[2,]  6    7    8    9   10  \n",
       "[3,] 11   12   13   14   15  \n",
       "[4,] 16   17   18   19   20  "
      ]
     },
     "metadata": {},
     "output_type": "display_data"
    },
    {
     "data": {
      "text/html": [
       "10"
      ],
      "text/latex": [
       "10"
      ],
      "text/markdown": [
       "10"
      ],
      "text/plain": [
       "[1] 10"
      ]
     },
     "metadata": {},
     "output_type": "display_data"
    }
   ],
   "source": [
    "m2 <- matrix(v, 4, 5, byrow = TRUE)\n",
    "m2\n",
    "\n",
    "m2[2,5]"
   ]
  },
  {
   "cell_type": "code",
   "execution_count": 75,
   "metadata": {},
   "outputs": [
    {
     "data": {
      "text/html": [
       "<table>\n",
       "<tbody>\n",
       "\t<tr><th scope=row>r1</th><td>I    </td><td>am   </td><td>happy</td></tr>\n",
       "\t<tr><th scope=row>r2</th><td>What </td><td>a    </td><td>day  </td></tr>\n",
       "\t<tr><th scope=row>r3</th><td>1    </td><td>2    </td><td>3    </td></tr>\n",
       "</tbody>\n",
       "</table>\n"
      ],
      "text/latex": [
       "\\begin{tabular}{r|lll}\n",
       "\tr1 & I     & am    & happy\\\\\n",
       "\tr2 & What  & a     & day  \\\\\n",
       "\tr3 & 1     & 2     & 3    \\\\\n",
       "\\end{tabular}\n"
      ],
      "text/markdown": [
       "\n",
       "| r1 | I     | am    | happy |\n",
       "| r2 | What  | a     | day   |\n",
       "| r3 | 1     | 2     | 3     |\n",
       "\n"
      ],
      "text/plain": [
       "   [,1] [,2] [,3] \n",
       "r1 I    am   happy\n",
       "r2 What a    day  \n",
       "r3 1    2    3    "
      ]
     },
     "metadata": {},
     "output_type": "display_data"
    }
   ],
   "source": [
    "# 2. rbind()\n",
    "r1 <- c(\"I\", \"am\", \"happy\")\n",
    "r2 <- c(\"What\", \"a\", \"day\")\n",
    "r3 <- c(1, 2, 3)  # this will get converted to character in matrix.\n",
    "\n",
    "m3 <- rbind(r1, r2, r3)\n",
    "m3"
   ]
  },
  {
   "cell_type": "code",
   "execution_count": 76,
   "metadata": {},
   "outputs": [
    {
     "data": {
      "text/html": [
       "<table>\n",
       "<thead><tr><th scope=col>c1</th><th scope=col>c2</th></tr></thead>\n",
       "<tbody>\n",
       "\t<tr><td>1 </td><td>-1</td></tr>\n",
       "\t<tr><td>2 </td><td>-2</td></tr>\n",
       "\t<tr><td>3 </td><td>-3</td></tr>\n",
       "\t<tr><td>4 </td><td>-4</td></tr>\n",
       "\t<tr><td>5 </td><td>-5</td></tr>\n",
       "</tbody>\n",
       "</table>\n"
      ],
      "text/latex": [
       "\\begin{tabular}{ll}\n",
       " c1 & c2\\\\\n",
       "\\hline\n",
       "\t 1  & -1\\\\\n",
       "\t 2  & -2\\\\\n",
       "\t 3  & -3\\\\\n",
       "\t 4  & -4\\\\\n",
       "\t 5  & -5\\\\\n",
       "\\end{tabular}\n"
      ],
      "text/markdown": [
       "\n",
       "| c1 | c2 |\n",
       "|---|---|\n",
       "| 1  | -1 |\n",
       "| 2  | -2 |\n",
       "| 3  | -3 |\n",
       "| 4  | -4 |\n",
       "| 5  | -5 |\n",
       "\n"
      ],
      "text/plain": [
       "     c1 c2\n",
       "[1,] 1  -1\n",
       "[2,] 2  -2\n",
       "[3,] 3  -3\n",
       "[4,] 4  -4\n",
       "[5,] 5  -5"
      ]
     },
     "metadata": {},
     "output_type": "display_data"
    }
   ],
   "source": [
    "# 3. cbind()\n",
    "c1 <- 1:5\n",
    "c2 <- -1:-5\n",
    "\n",
    "m4 <- cbind(c1, c2)\n",
    "m4"
   ]
  },
  {
   "cell_type": "markdown",
   "metadata": {},
   "source": [
    "## Naming Dimensions"
   ]
  },
  {
   "cell_type": "code",
   "execution_count": 79,
   "metadata": {},
   "outputs": [
    {
     "data": {
      "text/plain": [
       "NULL"
      ]
     },
     "metadata": {},
     "output_type": "display_data"
    }
   ],
   "source": [
    "# Named Vector\n",
    "Charlie <- 1:5\n",
    "\n",
    "names(Charlie) # No name currently"
   ]
  },
  {
   "cell_type": "code",
   "execution_count": 82,
   "metadata": {},
   "outputs": [
    {
     "data": {
      "text/html": [
       "<ol class=list-inline>\n",
       "\t<li>'a'</li>\n",
       "\t<li>'b'</li>\n",
       "\t<li>'c'</li>\n",
       "\t<li>'d'</li>\n",
       "\t<li>'e'</li>\n",
       "</ol>\n"
      ],
      "text/latex": [
       "\\begin{enumerate*}\n",
       "\\item 'a'\n",
       "\\item 'b'\n",
       "\\item 'c'\n",
       "\\item 'd'\n",
       "\\item 'e'\n",
       "\\end{enumerate*}\n"
      ],
      "text/markdown": [
       "1. 'a'\n",
       "2. 'b'\n",
       "3. 'c'\n",
       "4. 'd'\n",
       "5. 'e'\n",
       "\n",
       "\n"
      ],
      "text/plain": [
       "[1] \"a\" \"b\" \"c\" \"d\" \"e\""
      ]
     },
     "metadata": {},
     "output_type": "display_data"
    }
   ],
   "source": [
    "# Give Names\n",
    "names(Charlie) <- c(\"a\", \"b\", \"c\", \"d\", \"e\")\n",
    "\n",
    "names(Charlie)"
   ]
  },
  {
   "cell_type": "code",
   "execution_count": 83,
   "metadata": {},
   "outputs": [
    {
     "data": {
      "text/html": [
       "<dl class=dl-horizontal>\n",
       "\t<dt>a</dt>\n",
       "\t\t<dd>1</dd>\n",
       "\t<dt>b</dt>\n",
       "\t\t<dd>2</dd>\n",
       "\t<dt>c</dt>\n",
       "\t\t<dd>3</dd>\n",
       "\t<dt>d</dt>\n",
       "\t\t<dd>4</dd>\n",
       "\t<dt>e</dt>\n",
       "\t\t<dd>5</dd>\n",
       "</dl>\n"
      ],
      "text/latex": [
       "\\begin{description*}\n",
       "\\item[a] 1\n",
       "\\item[b] 2\n",
       "\\item[c] 3\n",
       "\\item[d] 4\n",
       "\\item[e] 5\n",
       "\\end{description*}\n"
      ],
      "text/markdown": [
       "a\n",
       ":   1b\n",
       ":   2c\n",
       ":   3d\n",
       ":   4e\n",
       ":   5\n",
       "\n"
      ],
      "text/plain": [
       "a b c d e \n",
       "1 2 3 4 5 "
      ]
     },
     "metadata": {},
     "output_type": "display_data"
    }
   ],
   "source": [
    "Charlie"
   ]
  },
  {
   "cell_type": "code",
   "execution_count": 84,
   "metadata": {},
   "outputs": [
    {
     "data": {
      "text/html": [
       "<strong>d:</strong> 4"
      ],
      "text/latex": [
       "\\textbf{d:} 4"
      ],
      "text/markdown": [
       "**d:** 4"
      ],
      "text/plain": [
       "d \n",
       "4 "
      ]
     },
     "metadata": {},
     "output_type": "display_data"
    },
    {
     "data": {
      "text/html": [
       "<strong>b:</strong> 2"
      ],
      "text/latex": [
       "\\textbf{b:} 2"
      ],
      "text/markdown": [
       "**b:** 2"
      ],
      "text/plain": [
       "b \n",
       "2 "
      ]
     },
     "metadata": {},
     "output_type": "display_data"
    }
   ],
   "source": [
    "# Accessing element by name\n",
    "Charlie[\"d\"]\n",
    "\n",
    "# Accessing element by position\n",
    "Charlie[2]"
   ]
  },
  {
   "cell_type": "code",
   "execution_count": 85,
   "metadata": {},
   "outputs": [
    {
     "data": {
      "text/html": [
       "<ol class=list-inline>\n",
       "\t<li>1</li>\n",
       "\t<li>2</li>\n",
       "\t<li>3</li>\n",
       "\t<li>4</li>\n",
       "\t<li>5</li>\n",
       "</ol>\n"
      ],
      "text/latex": [
       "\\begin{enumerate*}\n",
       "\\item 1\n",
       "\\item 2\n",
       "\\item 3\n",
       "\\item 4\n",
       "\\item 5\n",
       "\\end{enumerate*}\n"
      ],
      "text/markdown": [
       "1. 1\n",
       "2. 2\n",
       "3. 3\n",
       "4. 4\n",
       "5. 5\n",
       "\n",
       "\n"
      ],
      "text/plain": [
       "[1] 1 2 3 4 5"
      ]
     },
     "metadata": {},
     "output_type": "display_data"
    },
    {
     "data": {
      "text/html": [
       "&lt;NA&gt;"
      ],
      "text/latex": [
       "<NA>"
      ],
      "text/markdown": [
       "&lt;NA&gt;"
      ],
      "text/plain": [
       "[1] NA"
      ]
     },
     "metadata": {},
     "output_type": "display_data"
    }
   ],
   "source": [
    "# Clear Names\n",
    "names(Charlie) <- NULL\n",
    "Charlie\n",
    "\n",
    "Charlie[\"d\"]"
   ]
  },
  {
   "cell_type": "code",
   "execution_count": 86,
   "metadata": {},
   "outputs": [
    {
     "data": {
      "text/html": [
       "<ol class=list-inline>\n",
       "\t<li>'a'</li>\n",
       "\t<li>'a'</li>\n",
       "\t<li>'a'</li>\n",
       "\t<li>'b'</li>\n",
       "\t<li>'b'</li>\n",
       "\t<li>'b'</li>\n",
       "\t<li>'c'</li>\n",
       "\t<li>'c'</li>\n",
       "\t<li>'c'</li>\n",
       "</ol>\n"
      ],
      "text/latex": [
       "\\begin{enumerate*}\n",
       "\\item 'a'\n",
       "\\item 'a'\n",
       "\\item 'a'\n",
       "\\item 'b'\n",
       "\\item 'b'\n",
       "\\item 'b'\n",
       "\\item 'c'\n",
       "\\item 'c'\n",
       "\\item 'c'\n",
       "\\end{enumerate*}\n"
      ],
      "text/markdown": [
       "1. 'a'\n",
       "2. 'a'\n",
       "3. 'a'\n",
       "4. 'b'\n",
       "5. 'b'\n",
       "6. 'b'\n",
       "7. 'c'\n",
       "8. 'c'\n",
       "9. 'c'\n",
       "\n",
       "\n"
      ],
      "text/plain": [
       "[1] \"a\" \"a\" \"a\" \"b\" \"b\" \"b\" \"c\" \"c\" \"c\""
      ]
     },
     "metadata": {},
     "output_type": "display_data"
    }
   ],
   "source": [
    "# Named Matrix\n",
    "temp_vec <- rep(c(\"a\", 'b', 'c'), each = 3)\n",
    "temp_vec"
   ]
  },
  {
   "cell_type": "code",
   "execution_count": 87,
   "metadata": {},
   "outputs": [
    {
     "data": {
      "text/html": [
       "<table>\n",
       "<tbody>\n",
       "\t<tr><td>a</td><td>b</td><td>c</td></tr>\n",
       "\t<tr><td>a</td><td>b</td><td>c</td></tr>\n",
       "\t<tr><td>a</td><td>b</td><td>c</td></tr>\n",
       "</tbody>\n",
       "</table>\n"
      ],
      "text/latex": [
       "\\begin{tabular}{lll}\n",
       "\t a & b & c\\\\\n",
       "\t a & b & c\\\\\n",
       "\t a & b & c\\\\\n",
       "\\end{tabular}\n"
      ],
      "text/markdown": [
       "\n",
       "| a | b | c |\n",
       "| a | b | c |\n",
       "| a | b | c |\n",
       "\n"
      ],
      "text/plain": [
       "     [,1] [,2] [,3]\n",
       "[1,] a    b    c   \n",
       "[2,] a    b    c   \n",
       "[3,] a    b    c   "
      ]
     },
     "metadata": {},
     "output_type": "display_data"
    }
   ],
   "source": [
    "Bravo <- matrix(temp_vec, 3, 3)\n",
    "Bravo"
   ]
  },
  {
   "cell_type": "code",
   "execution_count": 88,
   "metadata": {},
   "outputs": [
    {
     "data": {
      "text/plain": [
       "NULL"
      ]
     },
     "metadata": {},
     "output_type": "display_data"
    }
   ],
   "source": [
    "rownames(Bravo)"
   ]
  },
  {
   "cell_type": "code",
   "execution_count": 90,
   "metadata": {},
   "outputs": [
    {
     "data": {
      "text/html": [
       "<table>\n",
       "<tbody>\n",
       "\t<tr><th scope=row>How</th><td>a</td><td>b</td><td>c</td></tr>\n",
       "\t<tr><th scope=row>are</th><td>a</td><td>b</td><td>c</td></tr>\n",
       "\t<tr><th scope=row>you</th><td>a</td><td>b</td><td>c</td></tr>\n",
       "</tbody>\n",
       "</table>\n"
      ],
      "text/latex": [
       "\\begin{tabular}{r|lll}\n",
       "\tHow & a & b & c\\\\\n",
       "\tare & a & b & c\\\\\n",
       "\tyou & a & b & c\\\\\n",
       "\\end{tabular}\n"
      ],
      "text/markdown": [
       "\n",
       "| How | a | b | c |\n",
       "| are | a | b | c |\n",
       "| you | a | b | c |\n",
       "\n"
      ],
      "text/plain": [
       "    [,1] [,2] [,3]\n",
       "How a    b    c   \n",
       "are a    b    c   \n",
       "you a    b    c   "
      ]
     },
     "metadata": {},
     "output_type": "display_data"
    }
   ],
   "source": [
    "rownames(Bravo) <- c(\"How\", 'are', 'you')\n",
    "\n",
    "Bravo"
   ]
  },
  {
   "cell_type": "code",
   "execution_count": 91,
   "metadata": {},
   "outputs": [
    {
     "data": {
      "text/html": [
       "<table>\n",
       "<thead><tr><th></th><th scope=col>x</th><th scope=col>y</th><th scope=col>z</th></tr></thead>\n",
       "<tbody>\n",
       "\t<tr><th scope=row>How</th><td>a</td><td>b</td><td>c</td></tr>\n",
       "\t<tr><th scope=row>are</th><td>a</td><td>b</td><td>c</td></tr>\n",
       "\t<tr><th scope=row>you</th><td>a</td><td>b</td><td>c</td></tr>\n",
       "</tbody>\n",
       "</table>\n"
      ],
      "text/latex": [
       "\\begin{tabular}{r|lll}\n",
       "  & x & y & z\\\\\n",
       "\\hline\n",
       "\tHow & a & b & c\\\\\n",
       "\tare & a & b & c\\\\\n",
       "\tyou & a & b & c\\\\\n",
       "\\end{tabular}\n"
      ],
      "text/markdown": [
       "\n",
       "| <!--/--> | x | y | z |\n",
       "|---|---|---|---|\n",
       "| How | a | b | c |\n",
       "| are | a | b | c |\n",
       "| you | a | b | c |\n",
       "\n"
      ],
      "text/plain": [
       "    x y z\n",
       "How a b c\n",
       "are a b c\n",
       "you a b c"
      ]
     },
     "metadata": {},
     "output_type": "display_data"
    }
   ],
   "source": [
    "colnames(Bravo) <- c(\"x\", 'y', 'z')\n",
    "Bravo"
   ]
  },
  {
   "cell_type": "code",
   "execution_count": 92,
   "metadata": {},
   "outputs": [
    {
     "data": {
      "text/html": [
       "'c'"
      ],
      "text/latex": [
       "'c'"
      ],
      "text/markdown": [
       "'c'"
      ],
      "text/plain": [
       "[1] \"c\""
      ]
     },
     "metadata": {},
     "output_type": "display_data"
    }
   ],
   "source": [
    "Bravo[\"How\", 'z'] # Access element"
   ]
  },
  {
   "cell_type": "code",
   "execution_count": 93,
   "metadata": {},
   "outputs": [
    {
     "data": {
      "text/html": [
       "<dl class=dl-horizontal>\n",
       "\t<dt>x</dt>\n",
       "\t\t<dd>'a'</dd>\n",
       "\t<dt>y</dt>\n",
       "\t\t<dd>'b'</dd>\n",
       "\t<dt>z</dt>\n",
       "\t\t<dd>'c'</dd>\n",
       "</dl>\n"
      ],
      "text/latex": [
       "\\begin{description*}\n",
       "\\item[x] 'a'\n",
       "\\item[y] 'b'\n",
       "\\item[z] 'c'\n",
       "\\end{description*}\n"
      ],
      "text/markdown": [
       "x\n",
       ":   'a'y\n",
       ":   'b'z\n",
       ":   'c'\n",
       "\n"
      ],
      "text/plain": [
       "  x   y   z \n",
       "\"a\" \"b\" \"c\" "
      ]
     },
     "metadata": {},
     "output_type": "display_data"
    }
   ],
   "source": [
    "Bravo[\"How\",] # Access row using name"
   ]
  },
  {
   "cell_type": "code",
   "execution_count": 95,
   "metadata": {},
   "outputs": [
    {
     "data": {
      "text/html": [
       "<dl class=dl-horizontal>\n",
       "\t<dt>How</dt>\n",
       "\t\t<dd>'a'</dd>\n",
       "\t<dt>are</dt>\n",
       "\t\t<dd>'a'</dd>\n",
       "\t<dt>you</dt>\n",
       "\t\t<dd>'a'</dd>\n",
       "</dl>\n"
      ],
      "text/latex": [
       "\\begin{description*}\n",
       "\\item[How] 'a'\n",
       "\\item[are] 'a'\n",
       "\\item[you] 'a'\n",
       "\\end{description*}\n"
      ],
      "text/markdown": [
       "How\n",
       ":   'a'are\n",
       ":   'a'you\n",
       ":   'a'\n",
       "\n"
      ],
      "text/plain": [
       "How are you \n",
       "\"a\" \"a\" \"a\" "
      ]
     },
     "metadata": {},
     "output_type": "display_data"
    }
   ],
   "source": [
    "Bravo[, 'x'] # Access column using name"
   ]
  },
  {
   "cell_type": "code",
   "execution_count": 96,
   "metadata": {},
   "outputs": [
    {
     "data": {
      "text/html": [
       "'a'"
      ],
      "text/latex": [
       "'a'"
      ],
      "text/markdown": [
       "'a'"
      ],
      "text/plain": [
       "[1] \"a\""
      ]
     },
     "metadata": {},
     "output_type": "display_data"
    },
    {
     "data": {
      "text/html": [
       "'c'"
      ],
      "text/latex": [
       "'c'"
      ],
      "text/markdown": [
       "'c'"
      ],
      "text/plain": [
       "[1] \"c\""
      ]
     },
     "metadata": {},
     "output_type": "display_data"
    }
   ],
   "source": [
    "# Combining number and name to acess elements\n",
    "\n",
    "Bravo[2, 'x']\n",
    "Bravo[\"are\", 3]"
   ]
  },
  {
   "cell_type": "code",
   "execution_count": 97,
   "metadata": {},
   "outputs": [
    {
     "data": {
      "text/html": [
       "'c'"
      ],
      "text/latex": [
       "'c'"
      ],
      "text/markdown": [
       "'c'"
      ],
      "text/plain": [
       "[1] \"c\""
      ]
     },
     "metadata": {},
     "output_type": "display_data"
    }
   ],
   "source": [
    "# Accessing element only using index\n",
    "\n",
    "Bravo[1, 3]"
   ]
  },
  {
   "cell_type": "code",
   "execution_count": 98,
   "metadata": {},
   "outputs": [],
   "source": [
    "# Removing the existing names \n",
    "\n",
    "rownames(Bravo) <- NULL\n",
    "colnames(Bravo) <- NULL"
   ]
  },
  {
   "cell_type": "code",
   "execution_count": 100,
   "metadata": {},
   "outputs": [
    {
     "data": {
      "text/html": [
       "<ol class=list-inline>\n",
       "\t<li>'a'</li>\n",
       "\t<li>'a'</li>\n",
       "\t<li>'a'</li>\n",
       "\t<li>'b'</li>\n",
       "\t<li>'b'</li>\n",
       "\t<li>'b'</li>\n",
       "\t<li>'c'</li>\n",
       "\t<li>'c'</li>\n",
       "\t<li>'c'</li>\n",
       "</ol>\n"
      ],
      "text/latex": [
       "\\begin{enumerate*}\n",
       "\\item 'a'\n",
       "\\item 'a'\n",
       "\\item 'a'\n",
       "\\item 'b'\n",
       "\\item 'b'\n",
       "\\item 'b'\n",
       "\\item 'c'\n",
       "\\item 'c'\n",
       "\\item 'c'\n",
       "\\end{enumerate*}\n"
      ],
      "text/markdown": [
       "1. 'a'\n",
       "2. 'a'\n",
       "3. 'a'\n",
       "4. 'b'\n",
       "5. 'b'\n",
       "6. 'b'\n",
       "7. 'c'\n",
       "8. 'c'\n",
       "9. 'c'\n",
       "\n",
       "\n"
      ],
      "text/plain": [
       "[1] \"a\" \"a\" \"a\" \"b\" \"b\" \"b\" \"c\" \"c\" \"c\""
      ]
     },
     "metadata": {},
     "output_type": "display_data"
    },
    {
     "name": "stderr",
     "output_type": "stream",
     "text": [
      "Warning message in matrix(temp_vec, 3, 4):\n",
      "\"data length [9] is not a sub-multiple or multiple of the number of columns [4]\""
     ]
    },
    {
     "data": {
      "text/html": [
       "<table>\n",
       "<tbody>\n",
       "\t<tr><td>a</td><td>b</td><td>c</td><td>a</td></tr>\n",
       "\t<tr><td>a</td><td>b</td><td>c</td><td>a</td></tr>\n",
       "\t<tr><td>a</td><td>b</td><td>c</td><td>a</td></tr>\n",
       "</tbody>\n",
       "</table>\n"
      ],
      "text/latex": [
       "\\begin{tabular}{llll}\n",
       "\t a & b & c & a\\\\\n",
       "\t a & b & c & a\\\\\n",
       "\t a & b & c & a\\\\\n",
       "\\end{tabular}\n"
      ],
      "text/markdown": [
       "\n",
       "| a | b | c | a |\n",
       "| a | b | c | a |\n",
       "| a | b | c | a |\n",
       "\n"
      ],
      "text/plain": [
       "     [,1] [,2] [,3] [,4]\n",
       "[1,] a    b    c    a   \n",
       "[2,] a    b    c    a   \n",
       "[3,] a    b    c    a   "
      ]
     },
     "metadata": {},
     "output_type": "display_data"
    }
   ],
   "source": [
    "# Check out the warning below when dimension exceeds the vector length\n",
    "# The vector data will recyle to fill the matrix\n",
    "\n",
    "temp_vec\n",
    "non_bravo <- matrix(temp_vec, 3, 4)\n",
    "non_bravo"
   ]
  },
  {
   "cell_type": "code",
   "execution_count": 101,
   "metadata": {},
   "outputs": [
    {
     "name": "stderr",
     "output_type": "stream",
     "text": [
      "Warning message in matrix(temp_vec, 4, 3):\n",
      "\"data length [9] is not a sub-multiple or multiple of the number of rows [4]\""
     ]
    },
    {
     "data": {
      "text/html": [
       "<table>\n",
       "<tbody>\n",
       "\t<tr><td>a</td><td>b</td><td>c</td></tr>\n",
       "\t<tr><td>a</td><td>b</td><td>a</td></tr>\n",
       "\t<tr><td>a</td><td>c</td><td>a</td></tr>\n",
       "\t<tr><td>b</td><td>c</td><td>a</td></tr>\n",
       "</tbody>\n",
       "</table>\n"
      ],
      "text/latex": [
       "\\begin{tabular}{lll}\n",
       "\t a & b & c\\\\\n",
       "\t a & b & a\\\\\n",
       "\t a & c & a\\\\\n",
       "\t b & c & a\\\\\n",
       "\\end{tabular}\n"
      ],
      "text/markdown": [
       "\n",
       "| a | b | c |\n",
       "| a | b | a |\n",
       "| a | c | a |\n",
       "| b | c | a |\n",
       "\n"
      ],
      "text/plain": [
       "     [,1] [,2] [,3]\n",
       "[1,] a    b    c   \n",
       "[2,] a    b    a   \n",
       "[3,] a    c    a   \n",
       "[4,] b    c    a   "
      ]
     },
     "metadata": {},
     "output_type": "display_data"
    }
   ],
   "source": [
    "non_bravo <- matrix(temp_vec, 4, 3)\n",
    "non_bravo"
   ]
  },
  {
   "cell_type": "markdown",
   "metadata": {},
   "source": [
    "## Matrix Operations\n",
    "\n",
    "**Please run Matrix-Data.r file before proceeding**"
   ]
  },
  {
   "cell_type": "code",
   "execution_count": 122,
   "metadata": {},
   "outputs": [
    {
     "data": {
      "text/html": [
       "<table>\n",
       "<thead><tr><th></th><th scope=col>2005</th><th scope=col>2006</th><th scope=col>2007</th><th scope=col>2008</th><th scope=col>2009</th><th scope=col>2010</th><th scope=col>2011</th><th scope=col>2012</th><th scope=col>2013</th><th scope=col>2014</th></tr></thead>\n",
       "<tbody>\n",
       "\t<tr><th scope=row>KobeBryant</th><td>80</td><td>77</td><td>82</td><td>82</td><td>73</td><td>82</td><td>58</td><td>78</td><td> 6</td><td>35</td></tr>\n",
       "\t<tr><th scope=row>JoeJohnson</th><td>82</td><td>57</td><td>82</td><td>79</td><td>76</td><td>72</td><td>60</td><td>72</td><td>79</td><td>80</td></tr>\n",
       "\t<tr><th scope=row>LeBronJames</th><td>79</td><td>78</td><td>75</td><td>81</td><td>76</td><td>79</td><td>62</td><td>76</td><td>77</td><td>69</td></tr>\n",
       "\t<tr><th scope=row>CarmeloAnthony</th><td>80</td><td>65</td><td>77</td><td>66</td><td>69</td><td>77</td><td>55</td><td>67</td><td>77</td><td>40</td></tr>\n",
       "\t<tr><th scope=row>DwightHoward</th><td>82</td><td>82</td><td>82</td><td>79</td><td>82</td><td>78</td><td>54</td><td>76</td><td>71</td><td>41</td></tr>\n",
       "\t<tr><th scope=row>ChrisBosh</th><td>70</td><td>69</td><td>67</td><td>77</td><td>70</td><td>77</td><td>57</td><td>74</td><td>79</td><td>44</td></tr>\n",
       "\t<tr><th scope=row>ChrisPaul</th><td>78</td><td>64</td><td>80</td><td>78</td><td>45</td><td>80</td><td>60</td><td>70</td><td>62</td><td>82</td></tr>\n",
       "\t<tr><th scope=row>KevinDurant</th><td>35</td><td>35</td><td>80</td><td>74</td><td>82</td><td>78</td><td>66</td><td>81</td><td>81</td><td>27</td></tr>\n",
       "\t<tr><th scope=row>DerrickRose</th><td>40</td><td>40</td><td>40</td><td>81</td><td>78</td><td>81</td><td>39</td><td> 0</td><td>10</td><td>51</td></tr>\n",
       "\t<tr><th scope=row>DwayneWade</th><td>75</td><td>51</td><td>51</td><td>79</td><td>77</td><td>76</td><td>49</td><td>69</td><td>54</td><td>62</td></tr>\n",
       "</tbody>\n",
       "</table>\n"
      ],
      "text/latex": [
       "\\begin{tabular}{r|llllllllll}\n",
       "  & 2005 & 2006 & 2007 & 2008 & 2009 & 2010 & 2011 & 2012 & 2013 & 2014\\\\\n",
       "\\hline\n",
       "\tKobeBryant & 80 & 77 & 82 & 82 & 73 & 82 & 58 & 78 &  6 & 35\\\\\n",
       "\tJoeJohnson & 82 & 57 & 82 & 79 & 76 & 72 & 60 & 72 & 79 & 80\\\\\n",
       "\tLeBronJames & 79 & 78 & 75 & 81 & 76 & 79 & 62 & 76 & 77 & 69\\\\\n",
       "\tCarmeloAnthony & 80 & 65 & 77 & 66 & 69 & 77 & 55 & 67 & 77 & 40\\\\\n",
       "\tDwightHoward & 82 & 82 & 82 & 79 & 82 & 78 & 54 & 76 & 71 & 41\\\\\n",
       "\tChrisBosh & 70 & 69 & 67 & 77 & 70 & 77 & 57 & 74 & 79 & 44\\\\\n",
       "\tChrisPaul & 78 & 64 & 80 & 78 & 45 & 80 & 60 & 70 & 62 & 82\\\\\n",
       "\tKevinDurant & 35 & 35 & 80 & 74 & 82 & 78 & 66 & 81 & 81 & 27\\\\\n",
       "\tDerrickRose & 40 & 40 & 40 & 81 & 78 & 81 & 39 &  0 & 10 & 51\\\\\n",
       "\tDwayneWade & 75 & 51 & 51 & 79 & 77 & 76 & 49 & 69 & 54 & 62\\\\\n",
       "\\end{tabular}\n"
      ],
      "text/markdown": [
       "\n",
       "| <!--/--> | 2005 | 2006 | 2007 | 2008 | 2009 | 2010 | 2011 | 2012 | 2013 | 2014 |\n",
       "|---|---|---|---|---|---|---|---|---|---|---|\n",
       "| KobeBryant | 80 | 77 | 82 | 82 | 73 | 82 | 58 | 78 |  6 | 35 |\n",
       "| JoeJohnson | 82 | 57 | 82 | 79 | 76 | 72 | 60 | 72 | 79 | 80 |\n",
       "| LeBronJames | 79 | 78 | 75 | 81 | 76 | 79 | 62 | 76 | 77 | 69 |\n",
       "| CarmeloAnthony | 80 | 65 | 77 | 66 | 69 | 77 | 55 | 67 | 77 | 40 |\n",
       "| DwightHoward | 82 | 82 | 82 | 79 | 82 | 78 | 54 | 76 | 71 | 41 |\n",
       "| ChrisBosh | 70 | 69 | 67 | 77 | 70 | 77 | 57 | 74 | 79 | 44 |\n",
       "| ChrisPaul | 78 | 64 | 80 | 78 | 45 | 80 | 60 | 70 | 62 | 82 |\n",
       "| KevinDurant | 35 | 35 | 80 | 74 | 82 | 78 | 66 | 81 | 81 | 27 |\n",
       "| DerrickRose | 40 | 40 | 40 | 81 | 78 | 81 | 39 |  0 | 10 | 51 |\n",
       "| DwayneWade | 75 | 51 | 51 | 79 | 77 | 76 | 49 | 69 | 54 | 62 |\n",
       "\n"
      ],
      "text/plain": [
       "               2005 2006 2007 2008 2009 2010 2011 2012 2013 2014\n",
       "KobeBryant     80   77   82   82   73   82   58   78    6   35  \n",
       "JoeJohnson     82   57   82   79   76   72   60   72   79   80  \n",
       "LeBronJames    79   78   75   81   76   79   62   76   77   69  \n",
       "CarmeloAnthony 80   65   77   66   69   77   55   67   77   40  \n",
       "DwightHoward   82   82   82   79   82   78   54   76   71   41  \n",
       "ChrisBosh      70   69   67   77   70   77   57   74   79   44  \n",
       "ChrisPaul      78   64   80   78   45   80   60   70   62   82  \n",
       "KevinDurant    35   35   80   74   82   78   66   81   81   27  \n",
       "DerrickRose    40   40   40   81   78   81   39    0   10   51  \n",
       "DwayneWade     75   51   51   79   77   76   49   69   54   62  "
      ]
     },
     "metadata": {},
     "output_type": "display_data"
    }
   ],
   "source": [
    "#readLines('Matrix-Data.R')\n",
    "\n",
    "# Read the External file which contains definattion of Games Matrix and other Vectors\n",
    "source('Matrix-Data.R')\n",
    "\n",
    "Games"
   ]
  },
  {
   "cell_type": "code",
   "execution_count": 123,
   "metadata": {},
   "outputs": [
    {
     "data": {
      "text/html": [
       "<ol class=list-inline>\n",
       "\t<li>'KobeBryant'</li>\n",
       "\t<li>'JoeJohnson'</li>\n",
       "\t<li>'LeBronJames'</li>\n",
       "\t<li>'CarmeloAnthony'</li>\n",
       "\t<li>'DwightHoward'</li>\n",
       "\t<li>'ChrisBosh'</li>\n",
       "\t<li>'ChrisPaul'</li>\n",
       "\t<li>'KevinDurant'</li>\n",
       "\t<li>'DerrickRose'</li>\n",
       "\t<li>'DwayneWade'</li>\n",
       "</ol>\n"
      ],
      "text/latex": [
       "\\begin{enumerate*}\n",
       "\\item 'KobeBryant'\n",
       "\\item 'JoeJohnson'\n",
       "\\item 'LeBronJames'\n",
       "\\item 'CarmeloAnthony'\n",
       "\\item 'DwightHoward'\n",
       "\\item 'ChrisBosh'\n",
       "\\item 'ChrisPaul'\n",
       "\\item 'KevinDurant'\n",
       "\\item 'DerrickRose'\n",
       "\\item 'DwayneWade'\n",
       "\\end{enumerate*}\n"
      ],
      "text/markdown": [
       "1. 'KobeBryant'\n",
       "2. 'JoeJohnson'\n",
       "3. 'LeBronJames'\n",
       "4. 'CarmeloAnthony'\n",
       "5. 'DwightHoward'\n",
       "6. 'ChrisBosh'\n",
       "7. 'ChrisPaul'\n",
       "8. 'KevinDurant'\n",
       "9. 'DerrickRose'\n",
       "10. 'DwayneWade'\n",
       "\n",
       "\n"
      ],
      "text/plain": [
       " [1] \"KobeBryant\"     \"JoeJohnson\"     \"LeBronJames\"    \"CarmeloAnthony\"\n",
       " [5] \"DwightHoward\"   \"ChrisBosh\"      \"ChrisPaul\"      \"KevinDurant\"   \n",
       " [9] \"DerrickRose\"    \"DwayneWade\"    "
      ]
     },
     "metadata": {},
     "output_type": "display_data"
    }
   ],
   "source": [
    "rownames(Games)"
   ]
  },
  {
   "cell_type": "code",
   "execution_count": 125,
   "metadata": {},
   "outputs": [
    {
     "data": {
      "text/html": [
       "<ol class=list-inline>\n",
       "\t<li>'2005'</li>\n",
       "\t<li>'2006'</li>\n",
       "\t<li>'2007'</li>\n",
       "\t<li>'2008'</li>\n",
       "\t<li>'2009'</li>\n",
       "\t<li>'2010'</li>\n",
       "\t<li>'2011'</li>\n",
       "\t<li>'2012'</li>\n",
       "\t<li>'2013'</li>\n",
       "\t<li>'2014'</li>\n",
       "</ol>\n"
      ],
      "text/latex": [
       "\\begin{enumerate*}\n",
       "\\item '2005'\n",
       "\\item '2006'\n",
       "\\item '2007'\n",
       "\\item '2008'\n",
       "\\item '2009'\n",
       "\\item '2010'\n",
       "\\item '2011'\n",
       "\\item '2012'\n",
       "\\item '2013'\n",
       "\\item '2014'\n",
       "\\end{enumerate*}\n"
      ],
      "text/markdown": [
       "1. '2005'\n",
       "2. '2006'\n",
       "3. '2007'\n",
       "4. '2008'\n",
       "5. '2009'\n",
       "6. '2010'\n",
       "7. '2011'\n",
       "8. '2012'\n",
       "9. '2013'\n",
       "10. '2014'\n",
       "\n",
       "\n"
      ],
      "text/plain": [
       " [1] \"2005\" \"2006\" \"2007\" \"2008\" \"2009\" \"2010\" \"2011\" \"2012\" \"2013\" \"2014\""
      ]
     },
     "metadata": {},
     "output_type": "display_data"
    }
   ],
   "source": [
    "colnames(Games)"
   ]
  },
  {
   "cell_type": "code",
   "execution_count": 126,
   "metadata": {},
   "outputs": [
    {
     "data": {
      "text/html": [
       "<table>\n",
       "<thead><tr><th></th><th scope=col>2005</th><th scope=col>2006</th><th scope=col>2007</th><th scope=col>2008</th><th scope=col>2009</th><th scope=col>2010</th><th scope=col>2011</th><th scope=col>2012</th><th scope=col>2013</th><th scope=col>2014</th></tr></thead>\n",
       "<tbody>\n",
       "\t<tr><th scope=row>KobeBryant</th><td>12.22</td><td>10.56</td><td> 9.45</td><td> 9.76</td><td> 9.81</td><td>9.02 </td><td> 9.90</td><td> 9.46</td><td> 5.17</td><td>7.60 </td></tr>\n",
       "\t<tr><th scope=row>JoeJohnson</th><td> 7.71</td><td> 9.40</td><td> 7.89</td><td> 7.85</td><td> 8.36</td><td>7.14 </td><td> 7.05</td><td> 6.18</td><td> 5.85</td><td>5.58 </td></tr>\n",
       "\t<tr><th scope=row>LeBronJames</th><td>11.08</td><td> 9.90</td><td>10.59</td><td> 9.74</td><td>10.11</td><td>9.59 </td><td>10.02</td><td>10.07</td><td> 9.96</td><td>9.04 </td></tr>\n",
       "\t<tr><th scope=row>CarmeloAnthony</th><td> 9.45</td><td>10.63</td><td> 9.45</td><td> 8.11</td><td> 9.97</td><td>8.88 </td><td> 8.02</td><td> 9.99</td><td> 9.65</td><td>8.95 </td></tr>\n",
       "\t<tr><th scope=row>DwightHoward</th><td> 5.71</td><td> 6.41</td><td> 7.11</td><td> 7.09</td><td> 6.22</td><td>7.94 </td><td> 7.70</td><td> 6.18</td><td> 6.66</td><td>6.12 </td></tr>\n",
       "\t<tr><th scope=row>ChrisBosh</th><td> 7.84</td><td> 7.87</td><td> 7.57</td><td> 7.99</td><td> 8.57</td><td>6.81 </td><td> 6.89</td><td> 6.55</td><td> 6.23</td><td>7.80 </td></tr>\n",
       "\t<tr><th scope=row>ChrisPaul</th><td> 5.22</td><td> 5.95</td><td> 7.88</td><td> 8.09</td><td> 6.98</td><td>5.38 </td><td> 7.08</td><td> 5.89</td><td> 6.55</td><td>6.93 </td></tr>\n",
       "\t<tr><th scope=row>KevinDurant</th><td> 8.74</td><td> 8.74</td><td> 7.34</td><td> 8.93</td><td> 9.68</td><td>9.12 </td><td> 9.74</td><td> 9.02</td><td>10.48</td><td>8.81 </td></tr>\n",
       "\t<tr><th scope=row>DerrickRose</th><td> 5.20</td><td> 5.20</td><td> 5.20</td><td> 7.09</td><td> 8.62</td><td>8.78 </td><td> 7.74</td><td>  NaN</td><td> 5.80</td><td>6.63 </td></tr>\n",
       "\t<tr><th scope=row>DwayneWade</th><td> 9.32</td><td> 9.25</td><td> 8.61</td><td>10.81</td><td> 9.34</td><td>9.11 </td><td> 8.49</td><td> 8.25</td><td> 7.69</td><td>8.21 </td></tr>\n",
       "</tbody>\n",
       "</table>\n"
      ],
      "text/latex": [
       "\\begin{tabular}{r|llllllllll}\n",
       "  & 2005 & 2006 & 2007 & 2008 & 2009 & 2010 & 2011 & 2012 & 2013 & 2014\\\\\n",
       "\\hline\n",
       "\tKobeBryant & 12.22 & 10.56 &  9.45 &  9.76 &  9.81 & 9.02  &  9.90 &  9.46 &  5.17 & 7.60 \\\\\n",
       "\tJoeJohnson &  7.71 &  9.40 &  7.89 &  7.85 &  8.36 & 7.14  &  7.05 &  6.18 &  5.85 & 5.58 \\\\\n",
       "\tLeBronJames & 11.08 &  9.90 & 10.59 &  9.74 & 10.11 & 9.59  & 10.02 & 10.07 &  9.96 & 9.04 \\\\\n",
       "\tCarmeloAnthony &  9.45 & 10.63 &  9.45 &  8.11 &  9.97 & 8.88  &  8.02 &  9.99 &  9.65 & 8.95 \\\\\n",
       "\tDwightHoward &  5.71 &  6.41 &  7.11 &  7.09 &  6.22 & 7.94  &  7.70 &  6.18 &  6.66 & 6.12 \\\\\n",
       "\tChrisBosh &  7.84 &  7.87 &  7.57 &  7.99 &  8.57 & 6.81  &  6.89 &  6.55 &  6.23 & 7.80 \\\\\n",
       "\tChrisPaul &  5.22 &  5.95 &  7.88 &  8.09 &  6.98 & 5.38  &  7.08 &  5.89 &  6.55 & 6.93 \\\\\n",
       "\tKevinDurant &  8.74 &  8.74 &  7.34 &  8.93 &  9.68 & 9.12  &  9.74 &  9.02 & 10.48 & 8.81 \\\\\n",
       "\tDerrickRose &  5.20 &  5.20 &  5.20 &  7.09 &  8.62 & 8.78  &  7.74 &   NaN &  5.80 & 6.63 \\\\\n",
       "\tDwayneWade &  9.32 &  9.25 &  8.61 & 10.81 &  9.34 & 9.11  &  8.49 &  8.25 &  7.69 & 8.21 \\\\\n",
       "\\end{tabular}\n"
      ],
      "text/markdown": [
       "\n",
       "| <!--/--> | 2005 | 2006 | 2007 | 2008 | 2009 | 2010 | 2011 | 2012 | 2013 | 2014 |\n",
       "|---|---|---|---|---|---|---|---|---|---|---|\n",
       "| KobeBryant | 12.22 | 10.56 |  9.45 |  9.76 |  9.81 | 9.02  |  9.90 |  9.46 |  5.17 | 7.60  |\n",
       "| JoeJohnson |  7.71 |  9.40 |  7.89 |  7.85 |  8.36 | 7.14  |  7.05 |  6.18 |  5.85 | 5.58  |\n",
       "| LeBronJames | 11.08 |  9.90 | 10.59 |  9.74 | 10.11 | 9.59  | 10.02 | 10.07 |  9.96 | 9.04  |\n",
       "| CarmeloAnthony |  9.45 | 10.63 |  9.45 |  8.11 |  9.97 | 8.88  |  8.02 |  9.99 |  9.65 | 8.95  |\n",
       "| DwightHoward |  5.71 |  6.41 |  7.11 |  7.09 |  6.22 | 7.94  |  7.70 |  6.18 |  6.66 | 6.12  |\n",
       "| ChrisBosh |  7.84 |  7.87 |  7.57 |  7.99 |  8.57 | 6.81  |  6.89 |  6.55 |  6.23 | 7.80  |\n",
       "| ChrisPaul |  5.22 |  5.95 |  7.88 |  8.09 |  6.98 | 5.38  |  7.08 |  5.89 |  6.55 | 6.93  |\n",
       "| KevinDurant |  8.74 |  8.74 |  7.34 |  8.93 |  9.68 | 9.12  |  9.74 |  9.02 | 10.48 | 8.81  |\n",
       "| DerrickRose |  5.20 |  5.20 |  5.20 |  7.09 |  8.62 | 8.78  |  7.74 |   NaN |  5.80 | 6.63  |\n",
       "| DwayneWade |  9.32 |  9.25 |  8.61 | 10.81 |  9.34 | 9.11  |  8.49 |  8.25 |  7.69 | 8.21  |\n",
       "\n"
      ],
      "text/plain": [
       "               2005  2006  2007  2008  2009  2010 2011  2012  2013  2014\n",
       "KobeBryant     12.22 10.56  9.45  9.76  9.81 9.02  9.90  9.46  5.17 7.60\n",
       "JoeJohnson      7.71  9.40  7.89  7.85  8.36 7.14  7.05  6.18  5.85 5.58\n",
       "LeBronJames    11.08  9.90 10.59  9.74 10.11 9.59 10.02 10.07  9.96 9.04\n",
       "CarmeloAnthony  9.45 10.63  9.45  8.11  9.97 8.88  8.02  9.99  9.65 8.95\n",
       "DwightHoward    5.71  6.41  7.11  7.09  6.22 7.94  7.70  6.18  6.66 6.12\n",
       "ChrisBosh       7.84  7.87  7.57  7.99  8.57 6.81  6.89  6.55  6.23 7.80\n",
       "ChrisPaul       5.22  5.95  7.88  8.09  6.98 5.38  7.08  5.89  6.55 6.93\n",
       "KevinDurant     8.74  8.74  7.34  8.93  9.68 9.12  9.74  9.02 10.48 8.81\n",
       "DerrickRose     5.20  5.20  5.20  7.09  8.62 8.78  7.74   NaN  5.80 6.63\n",
       "DwayneWade      9.32  9.25  8.61 10.81  9.34 9.11  8.49  8.25  7.69 8.21"
      ]
     },
     "metadata": {},
     "output_type": "display_data"
    }
   ],
   "source": [
    "round(FieldGoals / Games, 2)"
   ]
  },
  {
   "cell_type": "code",
   "execution_count": 127,
   "metadata": {},
   "outputs": [
    {
     "data": {
      "text/html": [
       "<table>\n",
       "<thead><tr><th></th><th scope=col>2005</th><th scope=col>2006</th><th scope=col>2007</th><th scope=col>2008</th><th scope=col>2009</th><th scope=col>2010</th><th scope=col>2011</th><th scope=col>2012</th><th scope=col>2013</th><th scope=col>2014</th></tr></thead>\n",
       "<tbody>\n",
       "\t<tr><th scope=row>KobeBryant</th><td>41.0</td><td>40.8</td><td>38.9</td><td>36.1</td><td>38.8</td><td>33.9</td><td>38.5</td><td>38.6</td><td>29.5</td><td>34.5</td></tr>\n",
       "\t<tr><th scope=row>JoeJohnson</th><td>40.7</td><td>41.4</td><td>40.8</td><td>39.5</td><td>38.0</td><td>35.5</td><td>35.5</td><td>36.7</td><td>32.6</td><td>34.9</td></tr>\n",
       "\t<tr><th scope=row>LeBronJames</th><td>42.5</td><td>40.9</td><td>40.4</td><td>37.7</td><td>39.0</td><td>38.8</td><td>37.5</td><td>37.9</td><td>37.7</td><td>36.1</td></tr>\n",
       "\t<tr><th scope=row>CarmeloAnthony</th><td>36.8</td><td>38.2</td><td>36.4</td><td>34.5</td><td>38.2</td><td>35.7</td><td>34.1</td><td>37.0</td><td>38.7</td><td>35.7</td></tr>\n",
       "\t<tr><th scope=row>DwightHoward</th><td>36.8</td><td>36.9</td><td>37.7</td><td>35.7</td><td>34.7</td><td>37.6</td><td>38.3</td><td>35.8</td><td>33.7</td><td>29.8</td></tr>\n",
       "\t<tr><th scope=row>ChrisBosh</th><td>39.3</td><td>38.5</td><td>36.2</td><td>38.0</td><td>36.1</td><td>36.3</td><td>35.2</td><td>33.2</td><td>32.0</td><td>35.4</td></tr>\n",
       "\t<tr><th scope=row>ChrisPaul</th><td>36.0</td><td>36.8</td><td>37.6</td><td>38.5</td><td>38.0</td><td>36.0</td><td>36.4</td><td>33.4</td><td>35.0</td><td>34.8</td></tr>\n",
       "\t<tr><th scope=row>KevinDurant</th><td>35.9</td><td>35.9</td><td>34.6</td><td>39.0</td><td>39.5</td><td>38.9</td><td>38.6</td><td>38.5</td><td>38.5</td><td>33.8</td></tr>\n",
       "\t<tr><th scope=row>DerrickRose</th><td>29.2</td><td>29.2</td><td>29.2</td><td>37.0</td><td>36.8</td><td>37.4</td><td>35.3</td><td> NaN</td><td>31.1</td><td>30.0</td></tr>\n",
       "\t<tr><th scope=row>DwayneWade</th><td>38.6</td><td>37.9</td><td>38.3</td><td>38.6</td><td>36.3</td><td>37.1</td><td>33.2</td><td>34.7</td><td>32.9</td><td>31.8</td></tr>\n",
       "</tbody>\n",
       "</table>\n"
      ],
      "text/latex": [
       "\\begin{tabular}{r|llllllllll}\n",
       "  & 2005 & 2006 & 2007 & 2008 & 2009 & 2010 & 2011 & 2012 & 2013 & 2014\\\\\n",
       "\\hline\n",
       "\tKobeBryant & 41.0 & 40.8 & 38.9 & 36.1 & 38.8 & 33.9 & 38.5 & 38.6 & 29.5 & 34.5\\\\\n",
       "\tJoeJohnson & 40.7 & 41.4 & 40.8 & 39.5 & 38.0 & 35.5 & 35.5 & 36.7 & 32.6 & 34.9\\\\\n",
       "\tLeBronJames & 42.5 & 40.9 & 40.4 & 37.7 & 39.0 & 38.8 & 37.5 & 37.9 & 37.7 & 36.1\\\\\n",
       "\tCarmeloAnthony & 36.8 & 38.2 & 36.4 & 34.5 & 38.2 & 35.7 & 34.1 & 37.0 & 38.7 & 35.7\\\\\n",
       "\tDwightHoward & 36.8 & 36.9 & 37.7 & 35.7 & 34.7 & 37.6 & 38.3 & 35.8 & 33.7 & 29.8\\\\\n",
       "\tChrisBosh & 39.3 & 38.5 & 36.2 & 38.0 & 36.1 & 36.3 & 35.2 & 33.2 & 32.0 & 35.4\\\\\n",
       "\tChrisPaul & 36.0 & 36.8 & 37.6 & 38.5 & 38.0 & 36.0 & 36.4 & 33.4 & 35.0 & 34.8\\\\\n",
       "\tKevinDurant & 35.9 & 35.9 & 34.6 & 39.0 & 39.5 & 38.9 & 38.6 & 38.5 & 38.5 & 33.8\\\\\n",
       "\tDerrickRose & 29.2 & 29.2 & 29.2 & 37.0 & 36.8 & 37.4 & 35.3 &  NaN & 31.1 & 30.0\\\\\n",
       "\tDwayneWade & 38.6 & 37.9 & 38.3 & 38.6 & 36.3 & 37.1 & 33.2 & 34.7 & 32.9 & 31.8\\\\\n",
       "\\end{tabular}\n"
      ],
      "text/markdown": [
       "\n",
       "| <!--/--> | 2005 | 2006 | 2007 | 2008 | 2009 | 2010 | 2011 | 2012 | 2013 | 2014 |\n",
       "|---|---|---|---|---|---|---|---|---|---|---|\n",
       "| KobeBryant | 41.0 | 40.8 | 38.9 | 36.1 | 38.8 | 33.9 | 38.5 | 38.6 | 29.5 | 34.5 |\n",
       "| JoeJohnson | 40.7 | 41.4 | 40.8 | 39.5 | 38.0 | 35.5 | 35.5 | 36.7 | 32.6 | 34.9 |\n",
       "| LeBronJames | 42.5 | 40.9 | 40.4 | 37.7 | 39.0 | 38.8 | 37.5 | 37.9 | 37.7 | 36.1 |\n",
       "| CarmeloAnthony | 36.8 | 38.2 | 36.4 | 34.5 | 38.2 | 35.7 | 34.1 | 37.0 | 38.7 | 35.7 |\n",
       "| DwightHoward | 36.8 | 36.9 | 37.7 | 35.7 | 34.7 | 37.6 | 38.3 | 35.8 | 33.7 | 29.8 |\n",
       "| ChrisBosh | 39.3 | 38.5 | 36.2 | 38.0 | 36.1 | 36.3 | 35.2 | 33.2 | 32.0 | 35.4 |\n",
       "| ChrisPaul | 36.0 | 36.8 | 37.6 | 38.5 | 38.0 | 36.0 | 36.4 | 33.4 | 35.0 | 34.8 |\n",
       "| KevinDurant | 35.9 | 35.9 | 34.6 | 39.0 | 39.5 | 38.9 | 38.6 | 38.5 | 38.5 | 33.8 |\n",
       "| DerrickRose | 29.2 | 29.2 | 29.2 | 37.0 | 36.8 | 37.4 | 35.3 |  NaN | 31.1 | 30.0 |\n",
       "| DwayneWade | 38.6 | 37.9 | 38.3 | 38.6 | 36.3 | 37.1 | 33.2 | 34.7 | 32.9 | 31.8 |\n",
       "\n"
      ],
      "text/plain": [
       "               2005 2006 2007 2008 2009 2010 2011 2012 2013 2014\n",
       "KobeBryant     41.0 40.8 38.9 36.1 38.8 33.9 38.5 38.6 29.5 34.5\n",
       "JoeJohnson     40.7 41.4 40.8 39.5 38.0 35.5 35.5 36.7 32.6 34.9\n",
       "LeBronJames    42.5 40.9 40.4 37.7 39.0 38.8 37.5 37.9 37.7 36.1\n",
       "CarmeloAnthony 36.8 38.2 36.4 34.5 38.2 35.7 34.1 37.0 38.7 35.7\n",
       "DwightHoward   36.8 36.9 37.7 35.7 34.7 37.6 38.3 35.8 33.7 29.8\n",
       "ChrisBosh      39.3 38.5 36.2 38.0 36.1 36.3 35.2 33.2 32.0 35.4\n",
       "ChrisPaul      36.0 36.8 37.6 38.5 38.0 36.0 36.4 33.4 35.0 34.8\n",
       "KevinDurant    35.9 35.9 34.6 39.0 39.5 38.9 38.6 38.5 38.5 33.8\n",
       "DerrickRose    29.2 29.2 29.2 37.0 36.8 37.4 35.3  NaN 31.1 30.0\n",
       "DwayneWade     38.6 37.9 38.3 38.6 36.3 37.1 33.2 34.7 32.9 31.8"
      ]
     },
     "metadata": {},
     "output_type": "display_data"
    }
   ],
   "source": [
    "round(MinutesPlayed / Games, 1)"
   ]
  },
  {
   "cell_type": "code",
   "execution_count": 128,
   "metadata": {},
   "outputs": [
    {
     "data": {
      "text/html": [
       "<table>\n",
       "<thead><tr><th></th><th scope=col>2005</th><th scope=col>2006</th><th scope=col>2007</th><th scope=col>2008</th><th scope=col>2009</th><th scope=col>2010</th><th scope=col>2011</th><th scope=col>2012</th><th scope=col>2013</th><th scope=col>2014</th></tr></thead>\n",
       "<tbody>\n",
       "\t<tr><th scope=row>KobeBryant</th><td>4866  </td><td>5643  </td><td>6106  </td><td>7183  </td><td>8125  </td><td>8926  </td><td>11310 </td><td>9243  </td><td>172055</td><td>19470 </td></tr>\n",
       "\t<tr><th scope=row>JoeJohnson</th><td>3593  </td><td>5402  </td><td>4035  </td><td>4556  </td><td>5189  </td><td>6392  </td><td> 8481 </td><td>7476  </td><td>  8337</td><td> 8306 </td></tr>\n",
       "\t<tr><th scope=row>LeBronJames</th><td>1375  </td><td>1827  </td><td>4308  </td><td>4719  </td><td>5320  </td><td>4734  </td><td> 6888 </td><td>6098  </td><td>  6570</td><td> 8281 </td></tr>\n",
       "\t<tr><th scope=row>CarmeloAnthony</th><td>1263  </td><td>1888  </td><td>4648  </td><td>6329  </td><td>5991  </td><td>6234  </td><td> 9871 </td><td>7836  </td><td>  7514</td><td>15727 </td></tr>\n",
       "\t<tr><th scope=row>DwightHoward</th><td>1487  </td><td>1590  </td><td>1963  </td><td>4877  </td><td>5347  </td><td>5672  </td><td> 8740 </td><td>7177  </td><td>  8561</td><td>17528 </td></tr>\n",
       "\t<tr><th scope=row>ChrisBosh</th><td>1217  </td><td>1593  </td><td>5136  </td><td>4922  </td><td>6247  </td><td>5188  </td><td> 7983 </td><td>7150  </td><td>  7534</td><td>13268 </td></tr>\n",
       "\t<tr><th scope=row>ChrisPaul</th><td>1120  </td><td>1437  </td><td>1203  </td><td>1524  </td><td>7897  </td><td>5188  </td><td> 7501 </td><td>7614  </td><td>  8599</td><td> 7024 </td></tr>\n",
       "\t<tr><th scope=row>KevinDurant</th><td>   0  </td><td>   0  </td><td>1507  </td><td>1554  </td><td>1481  </td><td>1993  </td><td> 6091 </td><td>5345  </td><td>  5712</td><td>20806 </td></tr>\n",
       "\t<tr><th scope=row>DerrickRose</th><td>   0  </td><td>   0  </td><td>   0  </td><td>1608  </td><td>1806  </td><td>1833  </td><td> 5086 </td><td> Inf  </td><td> 56697</td><td>12329 </td></tr>\n",
       "\t<tr><th scope=row>DwayneWade</th><td>1048  </td><td>1989  </td><td>6674  </td><td>4728  </td><td>5652  </td><td>5030  </td><td> 9656 </td><td>7186  </td><td> 10520</td><td> 7610 </td></tr>\n",
       "</tbody>\n",
       "</table>\n"
      ],
      "text/latex": [
       "\\begin{tabular}{r|llllllllll}\n",
       "  & 2005 & 2006 & 2007 & 2008 & 2009 & 2010 & 2011 & 2012 & 2013 & 2014\\\\\n",
       "\\hline\n",
       "\tKobeBryant & 4866   & 5643   & 6106   & 7183   & 8125   & 8926   & 11310  & 9243   & 172055 & 19470 \\\\\n",
       "\tJoeJohnson & 3593   & 5402   & 4035   & 4556   & 5189   & 6392   &  8481  & 7476   &   8337 &  8306 \\\\\n",
       "\tLeBronJames & 1375   & 1827   & 4308   & 4719   & 5320   & 4734   &  6888  & 6098   &   6570 &  8281 \\\\\n",
       "\tCarmeloAnthony & 1263   & 1888   & 4648   & 6329   & 5991   & 6234   &  9871  & 7836   &   7514 & 15727 \\\\\n",
       "\tDwightHoward & 1487   & 1590   & 1963   & 4877   & 5347   & 5672   &  8740  & 7177   &   8561 & 17528 \\\\\n",
       "\tChrisBosh & 1217   & 1593   & 5136   & 4922   & 6247   & 5188   &  7983  & 7150   &   7534 & 13268 \\\\\n",
       "\tChrisPaul & 1120   & 1437   & 1203   & 1524   & 7897   & 5188   &  7501  & 7614   &   8599 &  7024 \\\\\n",
       "\tKevinDurant &    0   &    0   & 1507   & 1554   & 1481   & 1993   &  6091  & 5345   &   5712 & 20806 \\\\\n",
       "\tDerrickRose &    0   &    0   &    0   & 1608   & 1806   & 1833   &  5086  &  Inf   &  56697 & 12329 \\\\\n",
       "\tDwayneWade & 1048   & 1989   & 6674   & 4728   & 5652   & 5030   &  9656  & 7186   &  10520 &  7610 \\\\\n",
       "\\end{tabular}\n"
      ],
      "text/markdown": [
       "\n",
       "| <!--/--> | 2005 | 2006 | 2007 | 2008 | 2009 | 2010 | 2011 | 2012 | 2013 | 2014 |\n",
       "|---|---|---|---|---|---|---|---|---|---|---|\n",
       "| KobeBryant | 4866   | 5643   | 6106   | 7183   | 8125   | 8926   | 11310  | 9243   | 172055 | 19470  |\n",
       "| JoeJohnson | 3593   | 5402   | 4035   | 4556   | 5189   | 6392   |  8481  | 7476   |   8337 |  8306  |\n",
       "| LeBronJames | 1375   | 1827   | 4308   | 4719   | 5320   | 4734   |  6888  | 6098   |   6570 |  8281  |\n",
       "| CarmeloAnthony | 1263   | 1888   | 4648   | 6329   | 5991   | 6234   |  9871  | 7836   |   7514 | 15727  |\n",
       "| DwightHoward | 1487   | 1590   | 1963   | 4877   | 5347   | 5672   |  8740  | 7177   |   8561 | 17528  |\n",
       "| ChrisBosh | 1217   | 1593   | 5136   | 4922   | 6247   | 5188   |  7983  | 7150   |   7534 | 13268  |\n",
       "| ChrisPaul | 1120   | 1437   | 1203   | 1524   | 7897   | 5188   |  7501  | 7614   |   8599 |  7024  |\n",
       "| KevinDurant |    0   |    0   | 1507   | 1554   | 1481   | 1993   |  6091  | 5345   |   5712 | 20806  |\n",
       "| DerrickRose |    0   |    0   |    0   | 1608   | 1806   | 1833   |  5086  |  Inf   |  56697 | 12329  |\n",
       "| DwayneWade | 1048   | 1989   | 6674   | 4728   | 5652   | 5030   |  9656  | 7186   |  10520 |  7610  |\n",
       "\n"
      ],
      "text/plain": [
       "               2005 2006 2007 2008 2009 2010 2011  2012 2013   2014 \n",
       "KobeBryant     4866 5643 6106 7183 8125 8926 11310 9243 172055 19470\n",
       "JoeJohnson     3593 5402 4035 4556 5189 6392  8481 7476   8337  8306\n",
       "LeBronJames    1375 1827 4308 4719 5320 4734  6888 6098   6570  8281\n",
       "CarmeloAnthony 1263 1888 4648 6329 5991 6234  9871 7836   7514 15727\n",
       "DwightHoward   1487 1590 1963 4877 5347 5672  8740 7177   8561 17528\n",
       "ChrisBosh      1217 1593 5136 4922 6247 5188  7983 7150   7534 13268\n",
       "ChrisPaul      1120 1437 1203 1524 7897 5188  7501 7614   8599  7024\n",
       "KevinDurant       0    0 1507 1554 1481 1993  6091 5345   5712 20806\n",
       "DerrickRose       0    0    0 1608 1806 1833  5086  Inf  56697 12329\n",
       "DwayneWade     1048 1989 6674 4728 5652 5030  9656 7186  10520  7610"
      ]
     },
     "metadata": {},
     "output_type": "display_data"
    }
   ],
   "source": [
    "round(Salary / MinutesPlayed)"
   ]
  },
  {
   "cell_type": "code",
   "execution_count": 129,
   "metadata": {},
   "outputs": [
    {
     "data": {
      "text/html": [
       "<table>\n",
       "<thead><tr><th></th><th scope=col>2005</th><th scope=col>2006</th><th scope=col>2007</th><th scope=col>2008</th><th scope=col>2009</th><th scope=col>2010</th><th scope=col>2011</th><th scope=col>2012</th><th scope=col>2013</th><th scope=col>2014</th></tr></thead>\n",
       "<tbody>\n",
       "\t<tr><th scope=row>KobeBryant</th><td>0.45</td><td>0.46</td><td>0.46</td><td>0.47</td><td>0.46</td><td>0.45</td><td>0.43</td><td>0.46</td><td>0.42</td><td>0.37</td></tr>\n",
       "\t<tr><th scope=row>JoeJohnson</th><td>0.45</td><td>0.47</td><td>0.43</td><td>0.44</td><td>0.46</td><td>0.44</td><td>0.45</td><td>0.42</td><td>0.45</td><td>0.44</td></tr>\n",
       "\t<tr><th scope=row>LeBronJames</th><td>0.48</td><td>0.48</td><td>0.48</td><td>0.49</td><td>0.50</td><td>0.51</td><td>0.53</td><td>0.56</td><td>0.57</td><td>0.49</td></tr>\n",
       "\t<tr><th scope=row>CarmeloAnthony</th><td>0.48</td><td>0.48</td><td>0.49</td><td>0.44</td><td>0.46</td><td>0.46</td><td>0.43</td><td>0.45</td><td>0.45</td><td>0.44</td></tr>\n",
       "\t<tr><th scope=row>DwightHoward</th><td>0.53</td><td>0.60</td><td>0.60</td><td>0.57</td><td>0.61</td><td>0.59</td><td>0.57</td><td>0.58</td><td>0.59</td><td>0.59</td></tr>\n",
       "\t<tr><th scope=row>ChrisBosh</th><td>0.51</td><td>0.50</td><td>0.49</td><td>0.49</td><td>0.52</td><td>0.50</td><td>0.49</td><td>0.53</td><td>0.52</td><td>0.46</td></tr>\n",
       "\t<tr><th scope=row>ChrisPaul</th><td>0.43</td><td>0.44</td><td>0.49</td><td>0.50</td><td>0.49</td><td>0.46</td><td>0.48</td><td>0.48</td><td>0.47</td><td>0.49</td></tr>\n",
       "\t<tr><th scope=row>KevinDurant</th><td>0.47</td><td>0.47</td><td>0.43</td><td>0.48</td><td>0.48</td><td>0.46</td><td>0.50</td><td>0.51</td><td>0.50</td><td>0.51</td></tr>\n",
       "\t<tr><th scope=row>DerrickRose</th><td>0.48</td><td>0.48</td><td>0.48</td><td>0.48</td><td>0.49</td><td>0.45</td><td>0.43</td><td> NaN</td><td>0.35</td><td>0.40</td></tr>\n",
       "\t<tr><th scope=row>DwayneWade</th><td>0.49</td><td>0.49</td><td>0.47</td><td>0.49</td><td>0.48</td><td>0.50</td><td>0.50</td><td>0.52</td><td>0.55</td><td>0.47</td></tr>\n",
       "</tbody>\n",
       "</table>\n"
      ],
      "text/latex": [
       "\\begin{tabular}{r|llllllllll}\n",
       "  & 2005 & 2006 & 2007 & 2008 & 2009 & 2010 & 2011 & 2012 & 2013 & 2014\\\\\n",
       "\\hline\n",
       "\tKobeBryant & 0.45 & 0.46 & 0.46 & 0.47 & 0.46 & 0.45 & 0.43 & 0.46 & 0.42 & 0.37\\\\\n",
       "\tJoeJohnson & 0.45 & 0.47 & 0.43 & 0.44 & 0.46 & 0.44 & 0.45 & 0.42 & 0.45 & 0.44\\\\\n",
       "\tLeBronJames & 0.48 & 0.48 & 0.48 & 0.49 & 0.50 & 0.51 & 0.53 & 0.56 & 0.57 & 0.49\\\\\n",
       "\tCarmeloAnthony & 0.48 & 0.48 & 0.49 & 0.44 & 0.46 & 0.46 & 0.43 & 0.45 & 0.45 & 0.44\\\\\n",
       "\tDwightHoward & 0.53 & 0.60 & 0.60 & 0.57 & 0.61 & 0.59 & 0.57 & 0.58 & 0.59 & 0.59\\\\\n",
       "\tChrisBosh & 0.51 & 0.50 & 0.49 & 0.49 & 0.52 & 0.50 & 0.49 & 0.53 & 0.52 & 0.46\\\\\n",
       "\tChrisPaul & 0.43 & 0.44 & 0.49 & 0.50 & 0.49 & 0.46 & 0.48 & 0.48 & 0.47 & 0.49\\\\\n",
       "\tKevinDurant & 0.47 & 0.47 & 0.43 & 0.48 & 0.48 & 0.46 & 0.50 & 0.51 & 0.50 & 0.51\\\\\n",
       "\tDerrickRose & 0.48 & 0.48 & 0.48 & 0.48 & 0.49 & 0.45 & 0.43 &  NaN & 0.35 & 0.40\\\\\n",
       "\tDwayneWade & 0.49 & 0.49 & 0.47 & 0.49 & 0.48 & 0.50 & 0.50 & 0.52 & 0.55 & 0.47\\\\\n",
       "\\end{tabular}\n"
      ],
      "text/markdown": [
       "\n",
       "| <!--/--> | 2005 | 2006 | 2007 | 2008 | 2009 | 2010 | 2011 | 2012 | 2013 | 2014 |\n",
       "|---|---|---|---|---|---|---|---|---|---|---|\n",
       "| KobeBryant | 0.45 | 0.46 | 0.46 | 0.47 | 0.46 | 0.45 | 0.43 | 0.46 | 0.42 | 0.37 |\n",
       "| JoeJohnson | 0.45 | 0.47 | 0.43 | 0.44 | 0.46 | 0.44 | 0.45 | 0.42 | 0.45 | 0.44 |\n",
       "| LeBronJames | 0.48 | 0.48 | 0.48 | 0.49 | 0.50 | 0.51 | 0.53 | 0.56 | 0.57 | 0.49 |\n",
       "| CarmeloAnthony | 0.48 | 0.48 | 0.49 | 0.44 | 0.46 | 0.46 | 0.43 | 0.45 | 0.45 | 0.44 |\n",
       "| DwightHoward | 0.53 | 0.60 | 0.60 | 0.57 | 0.61 | 0.59 | 0.57 | 0.58 | 0.59 | 0.59 |\n",
       "| ChrisBosh | 0.51 | 0.50 | 0.49 | 0.49 | 0.52 | 0.50 | 0.49 | 0.53 | 0.52 | 0.46 |\n",
       "| ChrisPaul | 0.43 | 0.44 | 0.49 | 0.50 | 0.49 | 0.46 | 0.48 | 0.48 | 0.47 | 0.49 |\n",
       "| KevinDurant | 0.47 | 0.47 | 0.43 | 0.48 | 0.48 | 0.46 | 0.50 | 0.51 | 0.50 | 0.51 |\n",
       "| DerrickRose | 0.48 | 0.48 | 0.48 | 0.48 | 0.49 | 0.45 | 0.43 |  NaN | 0.35 | 0.40 |\n",
       "| DwayneWade | 0.49 | 0.49 | 0.47 | 0.49 | 0.48 | 0.50 | 0.50 | 0.52 | 0.55 | 0.47 |\n",
       "\n"
      ],
      "text/plain": [
       "               2005 2006 2007 2008 2009 2010 2011 2012 2013 2014\n",
       "KobeBryant     0.45 0.46 0.46 0.47 0.46 0.45 0.43 0.46 0.42 0.37\n",
       "JoeJohnson     0.45 0.47 0.43 0.44 0.46 0.44 0.45 0.42 0.45 0.44\n",
       "LeBronJames    0.48 0.48 0.48 0.49 0.50 0.51 0.53 0.56 0.57 0.49\n",
       "CarmeloAnthony 0.48 0.48 0.49 0.44 0.46 0.46 0.43 0.45 0.45 0.44\n",
       "DwightHoward   0.53 0.60 0.60 0.57 0.61 0.59 0.57 0.58 0.59 0.59\n",
       "ChrisBosh      0.51 0.50 0.49 0.49 0.52 0.50 0.49 0.53 0.52 0.46\n",
       "ChrisPaul      0.43 0.44 0.49 0.50 0.49 0.46 0.48 0.48 0.47 0.49\n",
       "KevinDurant    0.47 0.47 0.43 0.48 0.48 0.46 0.50 0.51 0.50 0.51\n",
       "DerrickRose    0.48 0.48 0.48 0.48 0.49 0.45 0.43  NaN 0.35 0.40\n",
       "DwayneWade     0.49 0.49 0.47 0.49 0.48 0.50 0.50 0.52 0.55 0.47"
      ]
     },
     "metadata": {},
     "output_type": "display_data"
    }
   ],
   "source": [
    "round(FieldGoals / FieldGoalAttempts, 2)"
   ]
  },
  {
   "cell_type": "markdown",
   "metadata": {},
   "source": [
    "## Matplot Function\n",
    "\n",
    "* ?matplot\n",
    "* ?legend"
   ]
  },
  {
   "cell_type": "code",
   "execution_count": 131,
   "metadata": {},
   "outputs": [
    {
     "data": {
      "text/html": [
       "<table>\n",
       "<thead><tr><th></th><th scope=col>KobeBryant</th><th scope=col>JoeJohnson</th><th scope=col>LeBronJames</th><th scope=col>CarmeloAnthony</th><th scope=col>DwightHoward</th><th scope=col>ChrisBosh</th><th scope=col>ChrisPaul</th><th scope=col>KevinDurant</th><th scope=col>DerrickRose</th><th scope=col>DwayneWade</th></tr></thead>\n",
       "<tbody>\n",
       "\t<tr><th scope=row>2005</th><td>978</td><td>632</td><td>875</td><td>756</td><td>468</td><td>549</td><td>407</td><td>306</td><td>208</td><td>699</td></tr>\n",
       "\t<tr><th scope=row>2006</th><td>813</td><td>536</td><td>772</td><td>691</td><td>526</td><td>543</td><td>381</td><td>306</td><td>208</td><td>472</td></tr>\n",
       "\t<tr><th scope=row>2007</th><td>775</td><td>647</td><td>794</td><td>728</td><td>583</td><td>507</td><td>630</td><td>587</td><td>208</td><td>439</td></tr>\n",
       "\t<tr><th scope=row>2008</th><td>800</td><td>620</td><td>789</td><td>535</td><td>560</td><td>615</td><td>631</td><td>661</td><td>574</td><td>854</td></tr>\n",
       "\t<tr><th scope=row>2009</th><td>716</td><td>635</td><td>768</td><td>688</td><td>510</td><td>600</td><td>314</td><td>794</td><td>672</td><td>719</td></tr>\n",
       "\t<tr><th scope=row>2010</th><td>740</td><td>514</td><td>758</td><td>684</td><td>619</td><td>524</td><td>430</td><td>711</td><td>711</td><td>692</td></tr>\n",
       "\t<tr><th scope=row>2011</th><td>574</td><td>423</td><td>621</td><td>441</td><td>416</td><td>393</td><td>425</td><td>643</td><td>302</td><td>416</td></tr>\n",
       "\t<tr><th scope=row>2012</th><td>738</td><td>445</td><td>765</td><td>669</td><td>470</td><td>485</td><td>412</td><td>731</td><td>  0</td><td>569</td></tr>\n",
       "\t<tr><th scope=row>2013</th><td> 31</td><td>462</td><td>767</td><td>743</td><td>473</td><td>492</td><td>406</td><td>849</td><td> 58</td><td>415</td></tr>\n",
       "\t<tr><th scope=row>2014</th><td>266</td><td>446</td><td>624</td><td>358</td><td>251</td><td>343</td><td>568</td><td>238</td><td>338</td><td>509</td></tr>\n",
       "</tbody>\n",
       "</table>\n"
      ],
      "text/latex": [
       "\\begin{tabular}{r|llllllllll}\n",
       "  & KobeBryant & JoeJohnson & LeBronJames & CarmeloAnthony & DwightHoward & ChrisBosh & ChrisPaul & KevinDurant & DerrickRose & DwayneWade\\\\\n",
       "\\hline\n",
       "\t2005 & 978 & 632 & 875 & 756 & 468 & 549 & 407 & 306 & 208 & 699\\\\\n",
       "\t2006 & 813 & 536 & 772 & 691 & 526 & 543 & 381 & 306 & 208 & 472\\\\\n",
       "\t2007 & 775 & 647 & 794 & 728 & 583 & 507 & 630 & 587 & 208 & 439\\\\\n",
       "\t2008 & 800 & 620 & 789 & 535 & 560 & 615 & 631 & 661 & 574 & 854\\\\\n",
       "\t2009 & 716 & 635 & 768 & 688 & 510 & 600 & 314 & 794 & 672 & 719\\\\\n",
       "\t2010 & 740 & 514 & 758 & 684 & 619 & 524 & 430 & 711 & 711 & 692\\\\\n",
       "\t2011 & 574 & 423 & 621 & 441 & 416 & 393 & 425 & 643 & 302 & 416\\\\\n",
       "\t2012 & 738 & 445 & 765 & 669 & 470 & 485 & 412 & 731 &   0 & 569\\\\\n",
       "\t2013 &  31 & 462 & 767 & 743 & 473 & 492 & 406 & 849 &  58 & 415\\\\\n",
       "\t2014 & 266 & 446 & 624 & 358 & 251 & 343 & 568 & 238 & 338 & 509\\\\\n",
       "\\end{tabular}\n"
      ],
      "text/markdown": [
       "\n",
       "| <!--/--> | KobeBryant | JoeJohnson | LeBronJames | CarmeloAnthony | DwightHoward | ChrisBosh | ChrisPaul | KevinDurant | DerrickRose | DwayneWade |\n",
       "|---|---|---|---|---|---|---|---|---|---|---|\n",
       "| 2005 | 978 | 632 | 875 | 756 | 468 | 549 | 407 | 306 | 208 | 699 |\n",
       "| 2006 | 813 | 536 | 772 | 691 | 526 | 543 | 381 | 306 | 208 | 472 |\n",
       "| 2007 | 775 | 647 | 794 | 728 | 583 | 507 | 630 | 587 | 208 | 439 |\n",
       "| 2008 | 800 | 620 | 789 | 535 | 560 | 615 | 631 | 661 | 574 | 854 |\n",
       "| 2009 | 716 | 635 | 768 | 688 | 510 | 600 | 314 | 794 | 672 | 719 |\n",
       "| 2010 | 740 | 514 | 758 | 684 | 619 | 524 | 430 | 711 | 711 | 692 |\n",
       "| 2011 | 574 | 423 | 621 | 441 | 416 | 393 | 425 | 643 | 302 | 416 |\n",
       "| 2012 | 738 | 445 | 765 | 669 | 470 | 485 | 412 | 731 |   0 | 569 |\n",
       "| 2013 |  31 | 462 | 767 | 743 | 473 | 492 | 406 | 849 |  58 | 415 |\n",
       "| 2014 | 266 | 446 | 624 | 358 | 251 | 343 | 568 | 238 | 338 | 509 |\n",
       "\n"
      ],
      "text/plain": [
       "     KobeBryant JoeJohnson LeBronJames CarmeloAnthony DwightHoward ChrisBosh\n",
       "2005 978        632        875         756            468          549      \n",
       "2006 813        536        772         691            526          543      \n",
       "2007 775        647        794         728            583          507      \n",
       "2008 800        620        789         535            560          615      \n",
       "2009 716        635        768         688            510          600      \n",
       "2010 740        514        758         684            619          524      \n",
       "2011 574        423        621         441            416          393      \n",
       "2012 738        445        765         669            470          485      \n",
       "2013  31        462        767         743            473          492      \n",
       "2014 266        446        624         358            251          343      \n",
       "     ChrisPaul KevinDurant DerrickRose DwayneWade\n",
       "2005 407       306         208         699       \n",
       "2006 381       306         208         472       \n",
       "2007 630       587         208         439       \n",
       "2008 631       661         574         854       \n",
       "2009 314       794         672         719       \n",
       "2010 430       711         711         692       \n",
       "2011 425       643         302         416       \n",
       "2012 412       731           0         569       \n",
       "2013 406       849          58         415       \n",
       "2014 568       238         338         509       "
      ]
     },
     "metadata": {},
     "output_type": "display_data"
    }
   ],
   "source": [
    "# Used to Transpose a Matrix\n",
    "\n",
    "t(FieldGoals) "
   ]
  },
  {
   "cell_type": "code",
   "execution_count": 137,
   "metadata": {},
   "outputs": [
    {
     "data": {
      "image/png": "[encoded data removed]",
      "text/plain": [
       "plot without title"
      ]
     },
     "metadata": {},
     "output_type": "display_data"
    }
   ],
   "source": [
    "\n",
    "matplot(t(FieldGoals / FieldGoalAttempts), type='b', pch=15:18, col = c(1:6))\n",
    "\n",
    "legend(\"bottomleft\", inset = 0.01, legend = Players, col = c(1:6), pch=15:18, horiz = FALSE)"
   ]
  },
  {
   "cell_type": "markdown",
   "metadata": {},
   "source": [
    "## Subsetting Matrices"
   ]
  },
  {
   "cell_type": "code",
   "execution_count": 141,
   "metadata": {},
   "outputs": [
    {
     "data": {
      "text/html": [
       "'b'"
      ],
      "text/latex": [
       "'b'"
      ],
      "text/markdown": [
       "'b'"
      ],
      "text/plain": [
       "[1] \"b\""
      ]
     },
     "metadata": {},
     "output_type": "display_data"
    },
    {
     "data": {
      "text/html": [
       "<ol class=list-inline>\n",
       "\t<li>'c'</li>\n",
       "\t<li>'d'</li>\n",
       "\t<li>'e'</li>\n",
       "</ol>\n"
      ],
      "text/latex": [
       "\\begin{enumerate*}\n",
       "\\item 'c'\n",
       "\\item 'd'\n",
       "\\item 'e'\n",
       "\\end{enumerate*}\n"
      ],
      "text/markdown": [
       "1. 'c'\n",
       "2. 'd'\n",
       "3. 'e'\n",
       "\n",
       "\n"
      ],
      "text/plain": [
       "[1] \"c\" \"d\" \"e\""
      ]
     },
     "metadata": {},
     "output_type": "display_data"
    },
    {
     "data": {
      "text/html": [
       "<ol class=list-inline>\n",
       "\t<li>'b'</li>\n",
       "\t<li>'c'</li>\n",
       "</ol>\n"
      ],
      "text/latex": [
       "\\begin{enumerate*}\n",
       "\\item 'b'\n",
       "\\item 'c'\n",
       "\\end{enumerate*}\n"
      ],
      "text/markdown": [
       "1. 'b'\n",
       "2. 'c'\n",
       "\n",
       "\n"
      ],
      "text/plain": [
       "[1] \"b\" \"c\""
      ]
     },
     "metadata": {},
     "output_type": "display_data"
    }
   ],
   "source": [
    "# Vector\n",
    "x <- c(\"a\", 'b', 'c', 'd', 'e')\n",
    "\n",
    "x[2]\n",
    "x[3:5]\n",
    "x[c(2, 3)]"
   ]
  },
  {
   "cell_type": "code",
   "execution_count": 142,
   "metadata": {},
   "outputs": [
    {
     "data": {
      "text/html": [
       "<table>\n",
       "<thead><tr><th></th><th scope=col>2005</th><th scope=col>2006</th><th scope=col>2007</th><th scope=col>2008</th><th scope=col>2009</th><th scope=col>2010</th><th scope=col>2011</th><th scope=col>2012</th><th scope=col>2013</th><th scope=col>2014</th></tr></thead>\n",
       "<tbody>\n",
       "\t<tr><th scope=row>KobeBryant</th><td>80</td><td>77</td><td>82</td><td>82</td><td>73</td><td>82</td><td>58</td><td>78</td><td> 6</td><td>35</td></tr>\n",
       "\t<tr><th scope=row>JoeJohnson</th><td>82</td><td>57</td><td>82</td><td>79</td><td>76</td><td>72</td><td>60</td><td>72</td><td>79</td><td>80</td></tr>\n",
       "\t<tr><th scope=row>LeBronJames</th><td>79</td><td>78</td><td>75</td><td>81</td><td>76</td><td>79</td><td>62</td><td>76</td><td>77</td><td>69</td></tr>\n",
       "\t<tr><th scope=row>CarmeloAnthony</th><td>80</td><td>65</td><td>77</td><td>66</td><td>69</td><td>77</td><td>55</td><td>67</td><td>77</td><td>40</td></tr>\n",
       "\t<tr><th scope=row>DwightHoward</th><td>82</td><td>82</td><td>82</td><td>79</td><td>82</td><td>78</td><td>54</td><td>76</td><td>71</td><td>41</td></tr>\n",
       "\t<tr><th scope=row>ChrisBosh</th><td>70</td><td>69</td><td>67</td><td>77</td><td>70</td><td>77</td><td>57</td><td>74</td><td>79</td><td>44</td></tr>\n",
       "\t<tr><th scope=row>ChrisPaul</th><td>78</td><td>64</td><td>80</td><td>78</td><td>45</td><td>80</td><td>60</td><td>70</td><td>62</td><td>82</td></tr>\n",
       "\t<tr><th scope=row>KevinDurant</th><td>35</td><td>35</td><td>80</td><td>74</td><td>82</td><td>78</td><td>66</td><td>81</td><td>81</td><td>27</td></tr>\n",
       "\t<tr><th scope=row>DerrickRose</th><td>40</td><td>40</td><td>40</td><td>81</td><td>78</td><td>81</td><td>39</td><td> 0</td><td>10</td><td>51</td></tr>\n",
       "\t<tr><th scope=row>DwayneWade</th><td>75</td><td>51</td><td>51</td><td>79</td><td>77</td><td>76</td><td>49</td><td>69</td><td>54</td><td>62</td></tr>\n",
       "</tbody>\n",
       "</table>\n"
      ],
      "text/latex": [
       "\\begin{tabular}{r|llllllllll}\n",
       "  & 2005 & 2006 & 2007 & 2008 & 2009 & 2010 & 2011 & 2012 & 2013 & 2014\\\\\n",
       "\\hline\n",
       "\tKobeBryant & 80 & 77 & 82 & 82 & 73 & 82 & 58 & 78 &  6 & 35\\\\\n",
       "\tJoeJohnson & 82 & 57 & 82 & 79 & 76 & 72 & 60 & 72 & 79 & 80\\\\\n",
       "\tLeBronJames & 79 & 78 & 75 & 81 & 76 & 79 & 62 & 76 & 77 & 69\\\\\n",
       "\tCarmeloAnthony & 80 & 65 & 77 & 66 & 69 & 77 & 55 & 67 & 77 & 40\\\\\n",
       "\tDwightHoward & 82 & 82 & 82 & 79 & 82 & 78 & 54 & 76 & 71 & 41\\\\\n",
       "\tChrisBosh & 70 & 69 & 67 & 77 & 70 & 77 & 57 & 74 & 79 & 44\\\\\n",
       "\tChrisPaul & 78 & 64 & 80 & 78 & 45 & 80 & 60 & 70 & 62 & 82\\\\\n",
       "\tKevinDurant & 35 & 35 & 80 & 74 & 82 & 78 & 66 & 81 & 81 & 27\\\\\n",
       "\tDerrickRose & 40 & 40 & 40 & 81 & 78 & 81 & 39 &  0 & 10 & 51\\\\\n",
       "\tDwayneWade & 75 & 51 & 51 & 79 & 77 & 76 & 49 & 69 & 54 & 62\\\\\n",
       "\\end{tabular}\n"
      ],
      "text/markdown": [
       "\n",
       "| <!--/--> | 2005 | 2006 | 2007 | 2008 | 2009 | 2010 | 2011 | 2012 | 2013 | 2014 |\n",
       "|---|---|---|---|---|---|---|---|---|---|---|\n",
       "| KobeBryant | 80 | 77 | 82 | 82 | 73 | 82 | 58 | 78 |  6 | 35 |\n",
       "| JoeJohnson | 82 | 57 | 82 | 79 | 76 | 72 | 60 | 72 | 79 | 80 |\n",
       "| LeBronJames | 79 | 78 | 75 | 81 | 76 | 79 | 62 | 76 | 77 | 69 |\n",
       "| CarmeloAnthony | 80 | 65 | 77 | 66 | 69 | 77 | 55 | 67 | 77 | 40 |\n",
       "| DwightHoward | 82 | 82 | 82 | 79 | 82 | 78 | 54 | 76 | 71 | 41 |\n",
       "| ChrisBosh | 70 | 69 | 67 | 77 | 70 | 77 | 57 | 74 | 79 | 44 |\n",
       "| ChrisPaul | 78 | 64 | 80 | 78 | 45 | 80 | 60 | 70 | 62 | 82 |\n",
       "| KevinDurant | 35 | 35 | 80 | 74 | 82 | 78 | 66 | 81 | 81 | 27 |\n",
       "| DerrickRose | 40 | 40 | 40 | 81 | 78 | 81 | 39 |  0 | 10 | 51 |\n",
       "| DwayneWade | 75 | 51 | 51 | 79 | 77 | 76 | 49 | 69 | 54 | 62 |\n",
       "\n"
      ],
      "text/plain": [
       "               2005 2006 2007 2008 2009 2010 2011 2012 2013 2014\n",
       "KobeBryant     80   77   82   82   73   82   58   78    6   35  \n",
       "JoeJohnson     82   57   82   79   76   72   60   72   79   80  \n",
       "LeBronJames    79   78   75   81   76   79   62   76   77   69  \n",
       "CarmeloAnthony 80   65   77   66   69   77   55   67   77   40  \n",
       "DwightHoward   82   82   82   79   82   78   54   76   71   41  \n",
       "ChrisBosh      70   69   67   77   70   77   57   74   79   44  \n",
       "ChrisPaul      78   64   80   78   45   80   60   70   62   82  \n",
       "KevinDurant    35   35   80   74   82   78   66   81   81   27  \n",
       "DerrickRose    40   40   40   81   78   81   39    0   10   51  \n",
       "DwayneWade     75   51   51   79   77   76   49   69   54   62  "
      ]
     },
     "metadata": {},
     "output_type": "display_data"
    },
    {
     "data": {
      "text/html": [
       "<table>\n",
       "<thead><tr><th></th><th scope=col>2010</th><th scope=col>2011</th><th scope=col>2012</th></tr></thead>\n",
       "<tbody>\n",
       "\t<tr><th scope=row>KobeBryant</th><td>82</td><td>58</td><td>78</td></tr>\n",
       "\t<tr><th scope=row>JoeJohnson</th><td>72</td><td>60</td><td>72</td></tr>\n",
       "\t<tr><th scope=row>LeBronJames</th><td>79</td><td>62</td><td>76</td></tr>\n",
       "</tbody>\n",
       "</table>\n"
      ],
      "text/latex": [
       "\\begin{tabular}{r|lll}\n",
       "  & 2010 & 2011 & 2012\\\\\n",
       "\\hline\n",
       "\tKobeBryant & 82 & 58 & 78\\\\\n",
       "\tJoeJohnson & 72 & 60 & 72\\\\\n",
       "\tLeBronJames & 79 & 62 & 76\\\\\n",
       "\\end{tabular}\n"
      ],
      "text/markdown": [
       "\n",
       "| <!--/--> | 2010 | 2011 | 2012 |\n",
       "|---|---|---|---|\n",
       "| KobeBryant | 82 | 58 | 78 |\n",
       "| JoeJohnson | 72 | 60 | 72 |\n",
       "| LeBronJames | 79 | 62 | 76 |\n",
       "\n"
      ],
      "text/plain": [
       "            2010 2011 2012\n",
       "KobeBryant  82   58   78  \n",
       "JoeJohnson  72   60   72  \n",
       "LeBronJames 79   62   76  "
      ]
     },
     "metadata": {},
     "output_type": "display_data"
    }
   ],
   "source": [
    "# Matrix\n",
    "Games"
   ]
  },
  {
   "cell_type": "code",
   "execution_count": 143,
   "metadata": {},
   "outputs": [
    {
     "data": {
      "text/html": [
       "<table>\n",
       "<thead><tr><th></th><th scope=col>2010</th><th scope=col>2011</th><th scope=col>2012</th></tr></thead>\n",
       "<tbody>\n",
       "\t<tr><th scope=row>KobeBryant</th><td>82</td><td>58</td><td>78</td></tr>\n",
       "\t<tr><th scope=row>JoeJohnson</th><td>72</td><td>60</td><td>72</td></tr>\n",
       "\t<tr><th scope=row>LeBronJames</th><td>79</td><td>62</td><td>76</td></tr>\n",
       "</tbody>\n",
       "</table>\n"
      ],
      "text/latex": [
       "\\begin{tabular}{r|lll}\n",
       "  & 2010 & 2011 & 2012\\\\\n",
       "\\hline\n",
       "\tKobeBryant & 82 & 58 & 78\\\\\n",
       "\tJoeJohnson & 72 & 60 & 72\\\\\n",
       "\tLeBronJames & 79 & 62 & 76\\\\\n",
       "\\end{tabular}\n"
      ],
      "text/markdown": [
       "\n",
       "| <!--/--> | 2010 | 2011 | 2012 |\n",
       "|---|---|---|---|\n",
       "| KobeBryant | 82 | 58 | 78 |\n",
       "| JoeJohnson | 72 | 60 | 72 |\n",
       "| LeBronJames | 79 | 62 | 76 |\n",
       "\n"
      ],
      "text/plain": [
       "            2010 2011 2012\n",
       "KobeBryant  82   58   78  \n",
       "JoeJohnson  72   60   72  \n",
       "LeBronJames 79   62   76  "
      ]
     },
     "metadata": {},
     "output_type": "display_data"
    }
   ],
   "source": [
    "Games[1:3, 6:8]"
   ]
  },
  {
   "cell_type": "code",
   "execution_count": 144,
   "metadata": {},
   "outputs": [
    {
     "data": {
      "text/html": [
       "<table>\n",
       "<thead><tr><th></th><th scope=col>2005</th><th scope=col>2006</th><th scope=col>2007</th><th scope=col>2008</th><th scope=col>2009</th><th scope=col>2010</th><th scope=col>2011</th><th scope=col>2012</th><th scope=col>2013</th><th scope=col>2014</th></tr></thead>\n",
       "<tbody>\n",
       "\t<tr><th scope=row>KobeBryant</th><td>80</td><td>77</td><td>82</td><td>82</td><td>73</td><td>82</td><td>58</td><td>78</td><td> 6</td><td>35</td></tr>\n",
       "\t<tr><th scope=row>JoeJohnson</th><td>82</td><td>57</td><td>82</td><td>79</td><td>76</td><td>72</td><td>60</td><td>72</td><td>79</td><td>80</td></tr>\n",
       "\t<tr><th scope=row>LeBronJames</th><td>79</td><td>78</td><td>75</td><td>81</td><td>76</td><td>79</td><td>62</td><td>76</td><td>77</td><td>69</td></tr>\n",
       "\t<tr><th scope=row>CarmeloAnthony</th><td>80</td><td>65</td><td>77</td><td>66</td><td>69</td><td>77</td><td>55</td><td>67</td><td>77</td><td>40</td></tr>\n",
       "</tbody>\n",
       "</table>\n"
      ],
      "text/latex": [
       "\\begin{tabular}{r|llllllllll}\n",
       "  & 2005 & 2006 & 2007 & 2008 & 2009 & 2010 & 2011 & 2012 & 2013 & 2014\\\\\n",
       "\\hline\n",
       "\tKobeBryant & 80 & 77 & 82 & 82 & 73 & 82 & 58 & 78 &  6 & 35\\\\\n",
       "\tJoeJohnson & 82 & 57 & 82 & 79 & 76 & 72 & 60 & 72 & 79 & 80\\\\\n",
       "\tLeBronJames & 79 & 78 & 75 & 81 & 76 & 79 & 62 & 76 & 77 & 69\\\\\n",
       "\tCarmeloAnthony & 80 & 65 & 77 & 66 & 69 & 77 & 55 & 67 & 77 & 40\\\\\n",
       "\\end{tabular}\n"
      ],
      "text/markdown": [
       "\n",
       "| <!--/--> | 2005 | 2006 | 2007 | 2008 | 2009 | 2010 | 2011 | 2012 | 2013 | 2014 |\n",
       "|---|---|---|---|---|---|---|---|---|---|---|\n",
       "| KobeBryant | 80 | 77 | 82 | 82 | 73 | 82 | 58 | 78 |  6 | 35 |\n",
       "| JoeJohnson | 82 | 57 | 82 | 79 | 76 | 72 | 60 | 72 | 79 | 80 |\n",
       "| LeBronJames | 79 | 78 | 75 | 81 | 76 | 79 | 62 | 76 | 77 | 69 |\n",
       "| CarmeloAnthony | 80 | 65 | 77 | 66 | 69 | 77 | 55 | 67 | 77 | 40 |\n",
       "\n"
      ],
      "text/plain": [
       "               2005 2006 2007 2008 2009 2010 2011 2012 2013 2014\n",
       "KobeBryant     80   77   82   82   73   82   58   78    6   35  \n",
       "JoeJohnson     82   57   82   79   76   72   60   72   79   80  \n",
       "LeBronJames    79   78   75   81   76   79   62   76   77   69  \n",
       "CarmeloAnthony 80   65   77   66   69   77   55   67   77   40  "
      ]
     },
     "metadata": {},
     "output_type": "display_data"
    }
   ],
   "source": [
    "Games[1:4, ]"
   ]
  },
  {
   "cell_type": "code",
   "execution_count": 145,
   "metadata": {},
   "outputs": [
    {
     "data": {
      "text/html": [
       "<table>\n",
       "<thead><tr><th></th><th scope=col>2005</th><th scope=col>2006</th><th scope=col>2007</th><th scope=col>2008</th><th scope=col>2009</th><th scope=col>2010</th><th scope=col>2011</th><th scope=col>2012</th><th scope=col>2013</th><th scope=col>2014</th></tr></thead>\n",
       "<tbody>\n",
       "\t<tr><th scope=row>KobeBryant</th><td>80</td><td>77</td><td>82</td><td>82</td><td>73</td><td>82</td><td>58</td><td>78</td><td> 6</td><td>35</td></tr>\n",
       "\t<tr><th scope=row>DwayneWade</th><td>75</td><td>51</td><td>51</td><td>79</td><td>77</td><td>76</td><td>49</td><td>69</td><td>54</td><td>62</td></tr>\n",
       "</tbody>\n",
       "</table>\n"
      ],
      "text/latex": [
       "\\begin{tabular}{r|llllllllll}\n",
       "  & 2005 & 2006 & 2007 & 2008 & 2009 & 2010 & 2011 & 2012 & 2013 & 2014\\\\\n",
       "\\hline\n",
       "\tKobeBryant & 80 & 77 & 82 & 82 & 73 & 82 & 58 & 78 &  6 & 35\\\\\n",
       "\tDwayneWade & 75 & 51 & 51 & 79 & 77 & 76 & 49 & 69 & 54 & 62\\\\\n",
       "\\end{tabular}\n"
      ],
      "text/markdown": [
       "\n",
       "| <!--/--> | 2005 | 2006 | 2007 | 2008 | 2009 | 2010 | 2011 | 2012 | 2013 | 2014 |\n",
       "|---|---|---|---|---|---|---|---|---|---|---|\n",
       "| KobeBryant | 80 | 77 | 82 | 82 | 73 | 82 | 58 | 78 |  6 | 35 |\n",
       "| DwayneWade | 75 | 51 | 51 | 79 | 77 | 76 | 49 | 69 | 54 | 62 |\n",
       "\n"
      ],
      "text/plain": [
       "           2005 2006 2007 2008 2009 2010 2011 2012 2013 2014\n",
       "KobeBryant 80   77   82   82   73   82   58   78    6   35  \n",
       "DwayneWade 75   51   51   79   77   76   49   69   54   62  "
      ]
     },
     "metadata": {},
     "output_type": "display_data"
    }
   ],
   "source": [
    "Games[c(1, 10), ]"
   ]
  },
  {
   "cell_type": "code",
   "execution_count": 146,
   "metadata": {},
   "outputs": [
    {
     "data": {
      "text/html": [
       "<table>\n",
       "<thead><tr><th></th><th scope=col>2008</th><th scope=col>2014</th></tr></thead>\n",
       "<tbody>\n",
       "\t<tr><th scope=row>KobeBryant</th><td>82</td><td>35</td></tr>\n",
       "\t<tr><th scope=row>JoeJohnson</th><td>79</td><td>80</td></tr>\n",
       "\t<tr><th scope=row>LeBronJames</th><td>81</td><td>69</td></tr>\n",
       "\t<tr><th scope=row>CarmeloAnthony</th><td>66</td><td>40</td></tr>\n",
       "\t<tr><th scope=row>DwightHoward</th><td>79</td><td>41</td></tr>\n",
       "\t<tr><th scope=row>ChrisBosh</th><td>77</td><td>44</td></tr>\n",
       "\t<tr><th scope=row>ChrisPaul</th><td>78</td><td>82</td></tr>\n",
       "\t<tr><th scope=row>KevinDurant</th><td>74</td><td>27</td></tr>\n",
       "\t<tr><th scope=row>DerrickRose</th><td>81</td><td>51</td></tr>\n",
       "\t<tr><th scope=row>DwayneWade</th><td>79</td><td>62</td></tr>\n",
       "</tbody>\n",
       "</table>\n"
      ],
      "text/latex": [
       "\\begin{tabular}{r|ll}\n",
       "  & 2008 & 2014\\\\\n",
       "\\hline\n",
       "\tKobeBryant & 82 & 35\\\\\n",
       "\tJoeJohnson & 79 & 80\\\\\n",
       "\tLeBronJames & 81 & 69\\\\\n",
       "\tCarmeloAnthony & 66 & 40\\\\\n",
       "\tDwightHoward & 79 & 41\\\\\n",
       "\tChrisBosh & 77 & 44\\\\\n",
       "\tChrisPaul & 78 & 82\\\\\n",
       "\tKevinDurant & 74 & 27\\\\\n",
       "\tDerrickRose & 81 & 51\\\\\n",
       "\tDwayneWade & 79 & 62\\\\\n",
       "\\end{tabular}\n"
      ],
      "text/markdown": [
       "\n",
       "| <!--/--> | 2008 | 2014 |\n",
       "|---|---|---|\n",
       "| KobeBryant | 82 | 35 |\n",
       "| JoeJohnson | 79 | 80 |\n",
       "| LeBronJames | 81 | 69 |\n",
       "| CarmeloAnthony | 66 | 40 |\n",
       "| DwightHoward | 79 | 41 |\n",
       "| ChrisBosh | 77 | 44 |\n",
       "| ChrisPaul | 78 | 82 |\n",
       "| KevinDurant | 74 | 27 |\n",
       "| DerrickRose | 81 | 51 |\n",
       "| DwayneWade | 79 | 62 |\n",
       "\n"
      ],
      "text/plain": [
       "               2008 2014\n",
       "KobeBryant     82   35  \n",
       "JoeJohnson     79   80  \n",
       "LeBronJames    81   69  \n",
       "CarmeloAnthony 66   40  \n",
       "DwightHoward   79   41  \n",
       "ChrisBosh      77   44  \n",
       "ChrisPaul      78   82  \n",
       "KevinDurant    74   27  \n",
       "DerrickRose    81   51  \n",
       "DwayneWade     79   62  "
      ]
     },
     "metadata": {},
     "output_type": "display_data"
    }
   ],
   "source": [
    "\n",
    "Games[, c(\"2008\", '2014')]"
   ]
  },
  {
   "cell_type": "code",
   "execution_count": 147,
   "metadata": {},
   "outputs": [
    {
     "data": {
      "text/html": [
       "<dl class=dl-horizontal>\n",
       "\t<dt>2005</dt>\n",
       "\t\t<dd>80</dd>\n",
       "\t<dt>2006</dt>\n",
       "\t\t<dd>77</dd>\n",
       "\t<dt>2007</dt>\n",
       "\t\t<dd>82</dd>\n",
       "\t<dt>2008</dt>\n",
       "\t\t<dd>82</dd>\n",
       "\t<dt>2009</dt>\n",
       "\t\t<dd>73</dd>\n",
       "\t<dt>2010</dt>\n",
       "\t\t<dd>82</dd>\n",
       "\t<dt>2011</dt>\n",
       "\t\t<dd>58</dd>\n",
       "\t<dt>2012</dt>\n",
       "\t\t<dd>78</dd>\n",
       "\t<dt>2013</dt>\n",
       "\t\t<dd>6</dd>\n",
       "\t<dt>2014</dt>\n",
       "\t\t<dd>35</dd>\n",
       "</dl>\n"
      ],
      "text/latex": [
       "\\begin{description*}\n",
       "\\item[2005] 80\n",
       "\\item[2006] 77\n",
       "\\item[2007] 82\n",
       "\\item[2008] 82\n",
       "\\item[2009] 73\n",
       "\\item[2010] 82\n",
       "\\item[2011] 58\n",
       "\\item[2012] 78\n",
       "\\item[2013] 6\n",
       "\\item[2014] 35\n",
       "\\end{description*}\n"
      ],
      "text/markdown": [
       "2005\n",
       ":   802006\n",
       ":   772007\n",
       ":   822008\n",
       ":   822009\n",
       ":   732010\n",
       ":   822011\n",
       ":   582012\n",
       ":   782013\n",
       ":   62014\n",
       ":   35\n",
       "\n"
      ],
      "text/plain": [
       "2005 2006 2007 2008 2009 2010 2011 2012 2013 2014 \n",
       "  80   77   82   82   73   82   58   78    6   35 "
      ]
     },
     "metadata": {},
     "output_type": "display_data"
    }
   ],
   "source": [
    "\n",
    "Games[1, ]   #Returns a Vector"
   ]
  },
  {
   "cell_type": "code",
   "execution_count": 148,
   "metadata": {},
   "outputs": [
    {
     "data": {
      "text/html": [
       "81"
      ],
      "text/latex": [
       "81"
      ],
      "text/markdown": [
       "81"
      ],
      "text/plain": [
       "[1] 81"
      ]
     },
     "metadata": {},
     "output_type": "display_data"
    }
   ],
   "source": [
    "\n",
    "Games[3, 4]  #Returns a Vector"
   ]
  },
  {
   "cell_type": "code",
   "execution_count": 150,
   "metadata": {},
   "outputs": [
    {
     "data": {
      "text/html": [
       "FALSE"
      ],
      "text/latex": [
       "FALSE"
      ],
      "text/markdown": [
       "FALSE"
      ],
      "text/plain": [
       "[1] FALSE"
      ]
     },
     "metadata": {},
     "output_type": "display_data"
    },
    {
     "data": {
      "text/html": [
       "TRUE"
      ],
      "text/latex": [
       "TRUE"
      ],
      "text/markdown": [
       "TRUE"
      ],
      "text/plain": [
       "[1] TRUE"
      ]
     },
     "metadata": {},
     "output_type": "display_data"
    },
    {
     "data": {
      "text/html": [
       "TRUE"
      ],
      "text/latex": [
       "TRUE"
      ],
      "text/markdown": [
       "TRUE"
      ],
      "text/plain": [
       "[1] TRUE"
      ]
     },
     "metadata": {},
     "output_type": "display_data"
    }
   ],
   "source": [
    "\n",
    "g <- Games[1, ]\n",
    "h <- Games[3, 4]\n",
    "\n",
    "is.matrix(g)\n",
    "is.vector(g)\n",
    "is.vector(h)"
   ]
  },
  {
   "cell_type": "code",
   "execution_count": 151,
   "metadata": {},
   "outputs": [
    {
     "data": {
      "text/html": [
       "<table>\n",
       "<thead><tr><th></th><th scope=col>2005</th><th scope=col>2006</th><th scope=col>2007</th><th scope=col>2008</th><th scope=col>2009</th><th scope=col>2010</th><th scope=col>2011</th><th scope=col>2012</th><th scope=col>2013</th><th scope=col>2014</th></tr></thead>\n",
       "<tbody>\n",
       "\t<tr><th scope=row>KobeBryant</th><td>80</td><td>77</td><td>82</td><td>82</td><td>73</td><td>82</td><td>58</td><td>78</td><td>6 </td><td>35</td></tr>\n",
       "</tbody>\n",
       "</table>\n"
      ],
      "text/latex": [
       "\\begin{tabular}{r|llllllllll}\n",
       "  & 2005 & 2006 & 2007 & 2008 & 2009 & 2010 & 2011 & 2012 & 2013 & 2014\\\\\n",
       "\\hline\n",
       "\tKobeBryant & 80 & 77 & 82 & 82 & 73 & 82 & 58 & 78 & 6  & 35\\\\\n",
       "\\end{tabular}\n"
      ],
      "text/markdown": [
       "\n",
       "| <!--/--> | 2005 | 2006 | 2007 | 2008 | 2009 | 2010 | 2011 | 2012 | 2013 | 2014 |\n",
       "|---|---|---|---|---|---|---|---|---|---|---|\n",
       "| KobeBryant | 80 | 77 | 82 | 82 | 73 | 82 | 58 | 78 | 6  | 35 |\n",
       "\n"
      ],
      "text/plain": [
       "           2005 2006 2007 2008 2009 2010 2011 2012 2013 2014\n",
       "KobeBryant 80   77   82   82   73   82   58   78   6    35  "
      ]
     },
     "metadata": {},
     "output_type": "display_data"
    },
    {
     "data": {
      "text/html": [
       "<table>\n",
       "<thead><tr><th></th><th scope=col>2008</th></tr></thead>\n",
       "<tbody>\n",
       "\t<tr><th scope=row>LeBronJames</th><td>81</td></tr>\n",
       "</tbody>\n",
       "</table>\n"
      ],
      "text/latex": [
       "\\begin{tabular}{r|l}\n",
       "  & 2008\\\\\n",
       "\\hline\n",
       "\tLeBronJames & 81\\\\\n",
       "\\end{tabular}\n"
      ],
      "text/markdown": [
       "\n",
       "| <!--/--> | 2008 |\n",
       "|---|---|\n",
       "| LeBronJames | 81 |\n",
       "\n"
      ],
      "text/plain": [
       "            2008\n",
       "LeBronJames 81  "
      ]
     },
     "metadata": {},
     "output_type": "display_data"
    },
    {
     "data": {
      "text/html": [
       "TRUE"
      ],
      "text/latex": [
       "TRUE"
      ],
      "text/markdown": [
       "TRUE"
      ],
      "text/plain": [
       "[1] TRUE"
      ]
     },
     "metadata": {},
     "output_type": "display_data"
    },
    {
     "data": {
      "text/html": [
       "TRUE"
      ],
      "text/latex": [
       "TRUE"
      ],
      "text/markdown": [
       "TRUE"
      ],
      "text/plain": [
       "[1] TRUE"
      ]
     },
     "metadata": {},
     "output_type": "display_data"
    }
   ],
   "source": [
    "# To always ensure matrix (or whatever is the original data structure), use drop=FALSe\n",
    "\n",
    "Games[1, , drop = FALSE]\n",
    "Games[3, 4, drop = FALSE]\n",
    "\n",
    "is.matrix(Games[1, , drop = FALSE])\n",
    "is.matrix(Games[3, 4, drop = FALSE])"
   ]
  },
  {
   "cell_type": "markdown",
   "metadata": {},
   "source": [
    "## Visualizing Subsets"
   ]
  },
  {
   "cell_type": "code",
   "execution_count": 165,
   "metadata": {},
   "outputs": [
    {
     "data": {
      "text/html": [
       "<table>\n",
       "<thead><tr><th></th><th scope=col>2005</th><th scope=col>2006</th><th scope=col>2007</th><th scope=col>2008</th><th scope=col>2009</th><th scope=col>2010</th><th scope=col>2011</th><th scope=col>2012</th><th scope=col>2013</th><th scope=col>2014</th></tr></thead>\n",
       "<tbody>\n",
       "\t<tr><th scope=row>KobeBryant</th><td>3277</td><td>3140</td><td>3192</td><td>2960</td><td>2835</td><td>2779</td><td>2232</td><td>3013</td><td> 177</td><td>1207</td></tr>\n",
       "\t<tr><th scope=row>JoeJohnson</th><td>3340</td><td>2359</td><td>3343</td><td>3124</td><td>2886</td><td>2554</td><td>2127</td><td>2642</td><td>2575</td><td>2791</td></tr>\n",
       "\t<tr><th scope=row>LeBronJames</th><td>3361</td><td>3190</td><td>3027</td><td>3054</td><td>2966</td><td>3063</td><td>2326</td><td>2877</td><td>2902</td><td>2493</td></tr>\n",
       "\t<tr><th scope=row>CarmeloAnthony</th><td>2941</td><td>2486</td><td>2806</td><td>2277</td><td>2634</td><td>2751</td><td>1876</td><td>2482</td><td>2982</td><td>1428</td></tr>\n",
       "\t<tr><th scope=row>DwightHoward</th><td>3021</td><td>3023</td><td>3088</td><td>2821</td><td>2843</td><td>2935</td><td>2070</td><td>2722</td><td>2396</td><td>1223</td></tr>\n",
       "\t<tr><th scope=row>ChrisBosh</th><td>2751</td><td>2658</td><td>2425</td><td>2928</td><td>2526</td><td>2795</td><td>2007</td><td>2454</td><td>2531</td><td>1556</td></tr>\n",
       "\t<tr><th scope=row>ChrisPaul</th><td>2808</td><td>2353</td><td>3006</td><td>3002</td><td>1712</td><td>2880</td><td>2181</td><td>2335</td><td>2171</td><td>2857</td></tr>\n",
       "\t<tr><th scope=row>KevinDurant</th><td>1255</td><td>1255</td><td>2768</td><td>2885</td><td>3239</td><td>3038</td><td>2546</td><td>3119</td><td>3122</td><td> 913</td></tr>\n",
       "\t<tr><th scope=row>DerrickRose</th><td>1168</td><td>1168</td><td>1168</td><td>3000</td><td>2871</td><td>3026</td><td>1375</td><td>   0</td><td> 311</td><td>1530</td></tr>\n",
       "\t<tr><th scope=row>DwayneWade</th><td>2892</td><td>1931</td><td>1954</td><td>3048</td><td>2792</td><td>2823</td><td>1625</td><td>2391</td><td>1775</td><td>1971</td></tr>\n",
       "</tbody>\n",
       "</table>\n"
      ],
      "text/latex": [
       "\\begin{tabular}{r|llllllllll}\n",
       "  & 2005 & 2006 & 2007 & 2008 & 2009 & 2010 & 2011 & 2012 & 2013 & 2014\\\\\n",
       "\\hline\n",
       "\tKobeBryant & 3277 & 3140 & 3192 & 2960 & 2835 & 2779 & 2232 & 3013 &  177 & 1207\\\\\n",
       "\tJoeJohnson & 3340 & 2359 & 3343 & 3124 & 2886 & 2554 & 2127 & 2642 & 2575 & 2791\\\\\n",
       "\tLeBronJames & 3361 & 3190 & 3027 & 3054 & 2966 & 3063 & 2326 & 2877 & 2902 & 2493\\\\\n",
       "\tCarmeloAnthony & 2941 & 2486 & 2806 & 2277 & 2634 & 2751 & 1876 & 2482 & 2982 & 1428\\\\\n",
       "\tDwightHoward & 3021 & 3023 & 3088 & 2821 & 2843 & 2935 & 2070 & 2722 & 2396 & 1223\\\\\n",
       "\tChrisBosh & 2751 & 2658 & 2425 & 2928 & 2526 & 2795 & 2007 & 2454 & 2531 & 1556\\\\\n",
       "\tChrisPaul & 2808 & 2353 & 3006 & 3002 & 1712 & 2880 & 2181 & 2335 & 2171 & 2857\\\\\n",
       "\tKevinDurant & 1255 & 1255 & 2768 & 2885 & 3239 & 3038 & 2546 & 3119 & 3122 &  913\\\\\n",
       "\tDerrickRose & 1168 & 1168 & 1168 & 3000 & 2871 & 3026 & 1375 &    0 &  311 & 1530\\\\\n",
       "\tDwayneWade & 2892 & 1931 & 1954 & 3048 & 2792 & 2823 & 1625 & 2391 & 1775 & 1971\\\\\n",
       "\\end{tabular}\n"
      ],
      "text/markdown": [
       "\n",
       "| <!--/--> | 2005 | 2006 | 2007 | 2008 | 2009 | 2010 | 2011 | 2012 | 2013 | 2014 |\n",
       "|---|---|---|---|---|---|---|---|---|---|---|\n",
       "| KobeBryant | 3277 | 3140 | 3192 | 2960 | 2835 | 2779 | 2232 | 3013 |  177 | 1207 |\n",
       "| JoeJohnson | 3340 | 2359 | 3343 | 3124 | 2886 | 2554 | 2127 | 2642 | 2575 | 2791 |\n",
       "| LeBronJames | 3361 | 3190 | 3027 | 3054 | 2966 | 3063 | 2326 | 2877 | 2902 | 2493 |\n",
       "| CarmeloAnthony | 2941 | 2486 | 2806 | 2277 | 2634 | 2751 | 1876 | 2482 | 2982 | 1428 |\n",
       "| DwightHoward | 3021 | 3023 | 3088 | 2821 | 2843 | 2935 | 2070 | 2722 | 2396 | 1223 |\n",
       "| ChrisBosh | 2751 | 2658 | 2425 | 2928 | 2526 | 2795 | 2007 | 2454 | 2531 | 1556 |\n",
       "| ChrisPaul | 2808 | 2353 | 3006 | 3002 | 1712 | 2880 | 2181 | 2335 | 2171 | 2857 |\n",
       "| KevinDurant | 1255 | 1255 | 2768 | 2885 | 3239 | 3038 | 2546 | 3119 | 3122 |  913 |\n",
       "| DerrickRose | 1168 | 1168 | 1168 | 3000 | 2871 | 3026 | 1375 |    0 |  311 | 1530 |\n",
       "| DwayneWade | 2892 | 1931 | 1954 | 3048 | 2792 | 2823 | 1625 | 2391 | 1775 | 1971 |\n",
       "\n"
      ],
      "text/plain": [
       "               2005 2006 2007 2008 2009 2010 2011 2012 2013 2014\n",
       "KobeBryant     3277 3140 3192 2960 2835 2779 2232 3013  177 1207\n",
       "JoeJohnson     3340 2359 3343 3124 2886 2554 2127 2642 2575 2791\n",
       "LeBronJames    3361 3190 3027 3054 2966 3063 2326 2877 2902 2493\n",
       "CarmeloAnthony 2941 2486 2806 2277 2634 2751 1876 2482 2982 1428\n",
       "DwightHoward   3021 3023 3088 2821 2843 2935 2070 2722 2396 1223\n",
       "ChrisBosh      2751 2658 2425 2928 2526 2795 2007 2454 2531 1556\n",
       "ChrisPaul      2808 2353 3006 3002 1712 2880 2181 2335 2171 2857\n",
       "KevinDurant    1255 1255 2768 2885 3239 3038 2546 3119 3122  913\n",
       "DerrickRose    1168 1168 1168 3000 2871 3026 1375    0  311 1530\n",
       "DwayneWade     2892 1931 1954 3048 2792 2823 1625 2391 1775 1971"
      ]
     },
     "metadata": {},
     "output_type": "display_data"
    }
   ],
   "source": [
    "\n",
    "MinutesPlayed"
   ]
  },
  {
   "cell_type": "code",
   "execution_count": 155,
   "metadata": {},
   "outputs": [
    {
     "data": {
      "text/html": [
       "<table>\n",
       "<thead><tr><th></th><th scope=col>2005</th><th scope=col>2006</th><th scope=col>2007</th><th scope=col>2008</th><th scope=col>2009</th><th scope=col>2010</th><th scope=col>2011</th><th scope=col>2012</th><th scope=col>2013</th><th scope=col>2014</th></tr></thead>\n",
       "<tbody>\n",
       "\t<tr><th scope=row>KobeBryant</th><td>3277</td><td>3140</td><td>3192</td><td>2960</td><td>2835</td><td>2779</td><td>2232</td><td>3013</td><td> 177</td><td>1207</td></tr>\n",
       "\t<tr><th scope=row>JoeJohnson</th><td>3340</td><td>2359</td><td>3343</td><td>3124</td><td>2886</td><td>2554</td><td>2127</td><td>2642</td><td>2575</td><td>2791</td></tr>\n",
       "\t<tr><th scope=row>LeBronJames</th><td>3361</td><td>3190</td><td>3027</td><td>3054</td><td>2966</td><td>3063</td><td>2326</td><td>2877</td><td>2902</td><td>2493</td></tr>\n",
       "</tbody>\n",
       "</table>\n"
      ],
      "text/latex": [
       "\\begin{tabular}{r|llllllllll}\n",
       "  & 2005 & 2006 & 2007 & 2008 & 2009 & 2010 & 2011 & 2012 & 2013 & 2014\\\\\n",
       "\\hline\n",
       "\tKobeBryant & 3277 & 3140 & 3192 & 2960 & 2835 & 2779 & 2232 & 3013 &  177 & 1207\\\\\n",
       "\tJoeJohnson & 3340 & 2359 & 3343 & 3124 & 2886 & 2554 & 2127 & 2642 & 2575 & 2791\\\\\n",
       "\tLeBronJames & 3361 & 3190 & 3027 & 3054 & 2966 & 3063 & 2326 & 2877 & 2902 & 2493\\\\\n",
       "\\end{tabular}\n"
      ],
      "text/markdown": [
       "\n",
       "| <!--/--> | 2005 | 2006 | 2007 | 2008 | 2009 | 2010 | 2011 | 2012 | 2013 | 2014 |\n",
       "|---|---|---|---|---|---|---|---|---|---|---|\n",
       "| KobeBryant | 3277 | 3140 | 3192 | 2960 | 2835 | 2779 | 2232 | 3013 |  177 | 1207 |\n",
       "| JoeJohnson | 3340 | 2359 | 3343 | 3124 | 2886 | 2554 | 2127 | 2642 | 2575 | 2791 |\n",
       "| LeBronJames | 3361 | 3190 | 3027 | 3054 | 2966 | 3063 | 2326 | 2877 | 2902 | 2493 |\n",
       "\n"
      ],
      "text/plain": [
       "            2005 2006 2007 2008 2009 2010 2011 2012 2013 2014\n",
       "KobeBryant  3277 3140 3192 2960 2835 2779 2232 3013  177 1207\n",
       "JoeJohnson  3340 2359 3343 3124 2886 2554 2127 2642 2575 2791\n",
       "LeBronJames 3361 3190 3027 3054 2966 3063 2326 2877 2902 2493"
      ]
     },
     "metadata": {},
     "output_type": "display_data"
    }
   ],
   "source": [
    "\n",
    "Data <- MinutesPlayed[1:3, ]\n",
    "Data"
   ]
  },
  {
   "cell_type": "code",
   "execution_count": 153,
   "metadata": {},
   "outputs": [
    {
     "data": {
      "image/png": "[encoded data removed]",
      "text/plain": [
       "plot without title"
      ]
     },
     "metadata": {},
     "output_type": "display_data"
    }
   ],
   "source": [
    "matplot(t(Data),\n",
    "        type = 'b',\n",
    "        pch = 15:18,\n",
    "        col = c(1:4, 6))\n",
    "legend(\n",
    "  \"bottomleft\",\n",
    "  inset = 0.01,\n",
    "  legend = Players[1:3],\n",
    "  col = c(1:4, 6),\n",
    "  pch = 15:18\n",
    ")"
   ]
  },
  {
   "cell_type": "code",
   "execution_count": 158,
   "metadata": {},
   "outputs": [
    {
     "data": {
      "image/png": "[encoded data removed]",
      "text/plain": [
       "plot without title"
      ]
     },
     "metadata": {},
     "output_type": "display_data"
    }
   ],
   "source": [
    "\n",
    "Data <- MinutesPlayed[1, , drop = FALSE]\n",
    "matplot(t(Data),\n",
    "        type = 'b',\n",
    "        pch = 15:18,\n",
    "        col = c(1:4, 6))\n",
    "legend(\n",
    "  \"bottomleft\",\n",
    "  inset = 0.01,\n",
    "  legend = Players[1],\n",
    "  col = c(1:4, 6),\n",
    "  pch = 15:18\n",
    ")"
   ]
  },
  {
   "cell_type": "markdown",
   "metadata": {},
   "source": [
    "## Creating Functions"
   ]
  },
  {
   "cell_type": "code",
   "execution_count": 159,
   "metadata": {},
   "outputs": [],
   "source": [
    "# Creating a function with default values \n",
    "\n",
    "myplot <- function(data, rows = 1: 10) {\n",
    "  Data <- data[rows, , drop = FALSE]\n",
    "  matplot(t(Data),\n",
    "          type = 'b',\n",
    "          pch = 15:18,\n",
    "          col = c(1:4, 6))\n",
    "  legend(\n",
    "    \"bottomleft\",\n",
    "    inset = 0.01,\n",
    "    legend = Players[rows],\n",
    "    col = c(1:4, 6),\n",
    "    pch = 15:18\n",
    "  )\n",
    "}"
   ]
  },
  {
   "cell_type": "code",
   "execution_count": 161,
   "metadata": {},
   "outputs": [
    {
     "data": {
      "image/png": "[encoded data removed]",
      "text/plain": [
       "plot without title"
      ]
     },
     "metadata": {},
     "output_type": "display_data"
    }
   ],
   "source": [
    "# Calling a function\n",
    "myplot(Salary, 2:10)"
   ]
  },
  {
   "cell_type": "code",
   "execution_count": 162,
   "metadata": {},
   "outputs": [
    {
     "data": {
      "image/png": "[encoded data removed]",
      "text/plain": [
       "plot without title"
      ]
     },
     "metadata": {},
     "output_type": "display_data"
    }
   ],
   "source": [
    "myplot(Points, 3:5)"
   ]
  },
  {
   "cell_type": "code",
   "execution_count": 163,
   "metadata": {},
   "outputs": [
    {
     "data": {
      "image/png": "[encoded data removed]",
      "text/plain": [
       "plot without title"
      ]
     },
     "metadata": {},
     "output_type": "display_data"
    }
   ],
   "source": [
    "\n",
    "myplot(MinutesPlayed)"
   ]
  },
  {
   "cell_type": "code",
   "execution_count": 164,
   "metadata": {},
   "outputs": [
    {
     "data": {
      "image/png": "[encoded data removed]",
      "text/plain": [
       "plot without title"
      ]
     },
     "metadata": {},
     "output_type": "display_data"
    }
   ],
   "source": [
    "# Now Use myplot to derive various insights from the data #\n",
    "#Eg. \n",
    "myplot(Points/FieldGoals)"
   ]
  }
 ],
 "metadata": {
  "kernelspec": {
   "display_name": "R",
   "language": "R",
   "name": "ir"
  },
  "language_info": {
   "codemirror_mode": "r",
   "file_extension": ".r",
   "mimetype": "text/x-r-source",
   "name": "R",
   "pygments_lexer": "r",
   "version": "3.6.1"
  }
 },
 "nbformat": 4,
 "nbformat_minor": 4
}
