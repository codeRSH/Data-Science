{
 "cells": [
  {
   "cell_type": "markdown",
   "metadata": {},
   "source": [
    "# Vectors\n",
    "\n",
    "* A Vector in R is similar to arrays in Java.\n",
    "* Indexation of Vector in R starts with 1. \n",
    "* In R everything is a vector. Even a single number is stored as a vector of length 1. "
   ]
  },
  {
   "cell_type": "code",
   "execution_count": 1,
   "metadata": {},
   "outputs": [
    {
     "data": {
      "text/html": [
       "<ol class=list-inline>\n",
       "\t<li>2</li>\n",
       "\t<li>5</li>\n",
       "\t<li>8</li>\n",
       "\t<li>9</li>\n",
       "</ol>\n"
      ],
      "text/latex": [
       "\\begin{enumerate*}\n",
       "\\item 2\n",
       "\\item 5\n",
       "\\item 8\n",
       "\\item 9\n",
       "\\end{enumerate*}\n"
      ],
      "text/markdown": [
       "1. 2\n",
       "2. 5\n",
       "3. 8\n",
       "4. 9\n",
       "\n",
       "\n"
      ],
      "text/plain": [
       "[1] 2 5 8 9"
      ]
     },
     "metadata": {},
     "output_type": "display_data"
    }
   ],
   "source": [
    "# Use c (combine) function to create vector\n",
    "MyFirstVector <- c(2, 5, 8, 9)\n",
    "MyFirstVector"
   ]
  },
  {
   "cell_type": "code",
   "execution_count": 2,
   "metadata": {},
   "outputs": [
    {
     "data": {
      "text/html": [
       "TRUE"
      ],
      "text/latex": [
       "TRUE"
      ],
      "text/markdown": [
       "TRUE"
      ],
      "text/plain": [
       "[1] TRUE"
      ]
     },
     "metadata": {},
     "output_type": "display_data"
    }
   ],
   "source": [
    "is.numeric(MyFirstVector)"
   ]
  },
  {
   "cell_type": "code",
   "execution_count": 4,
   "metadata": {},
   "outputs": [
    {
     "data": {
      "text/html": [
       "FALSE"
      ],
      "text/latex": [
       "FALSE"
      ],
      "text/markdown": [
       "FALSE"
      ],
      "text/plain": [
       "[1] FALSE"
      ]
     },
     "metadata": {},
     "output_type": "display_data"
    }
   ],
   "source": [
    "is.integer(MyFirstVector)"
   ]
  },
  {
   "cell_type": "code",
   "execution_count": 5,
   "metadata": {},
   "outputs": [
    {
     "data": {
      "text/html": [
       "TRUE"
      ],
      "text/latex": [
       "TRUE"
      ],
      "text/markdown": [
       "TRUE"
      ],
      "text/plain": [
       "[1] TRUE"
      ]
     },
     "metadata": {},
     "output_type": "display_data"
    }
   ],
   "source": [
    "is.double(MyFirstVector)"
   ]
  },
  {
   "cell_type": "code",
   "execution_count": 8,
   "metadata": {},
   "outputs": [
    {
     "data": {
      "text/html": [
       "TRUE"
      ],
      "text/latex": [
       "TRUE"
      ],
      "text/markdown": [
       "TRUE"
      ],
      "text/plain": [
       "[1] TRUE"
      ]
     },
     "metadata": {},
     "output_type": "display_data"
    }
   ],
   "source": [
    "V2 <- c(22L, 35L, 57L)\n",
    "is.integer(V2)"
   ]
  },
  {
   "cell_type": "code",
   "execution_count": 9,
   "metadata": {},
   "outputs": [
    {
     "data": {
      "text/html": [
       "FALSE"
      ],
      "text/latex": [
       "FALSE"
      ],
      "text/markdown": [
       "FALSE"
      ],
      "text/plain": [
       "[1] FALSE"
      ]
     },
     "metadata": {},
     "output_type": "display_data"
    },
    {
     "data": {
      "text/html": [
       "TRUE"
      ],
      "text/latex": [
       "TRUE"
      ],
      "text/markdown": [
       "TRUE"
      ],
      "text/plain": [
       "[1] TRUE"
      ]
     },
     "metadata": {},
     "output_type": "display_data"
    }
   ],
   "source": [
    "# Even if one double, the whole numeric Vector considered as Double Vector\n",
    "\n",
    "V2i <- c(22, 22L, 31L)\n",
    "is.integer(V2i)\n",
    "is.double(V2i)"
   ]
  },
  {
   "cell_type": "code",
   "execution_count": 10,
   "metadata": {},
   "outputs": [
    {
     "data": {
      "text/html": [
       "<ol class=list-inline>\n",
       "\t<li>'Hello'</li>\n",
       "\t<li>'7'</li>\n",
       "\t<li>'99'</li>\n",
       "</ol>\n"
      ],
      "text/latex": [
       "\\begin{enumerate*}\n",
       "\\item 'Hello'\n",
       "\\item '7'\n",
       "\\item '99'\n",
       "\\end{enumerate*}\n"
      ],
      "text/markdown": [
       "1. 'Hello'\n",
       "2. '7'\n",
       "3. '99'\n",
       "\n",
       "\n"
      ],
      "text/plain": [
       "[1] \"Hello\" \"7\"     \"99\"   "
      ]
     },
     "metadata": {},
     "output_type": "display_data"
    }
   ],
   "source": [
    "# R automatically changes a number into character when pushed into a Character Vector. \n",
    "\n",
    "V3 <- c(\"Hello\", 7, \"99\")\n",
    "V3\n"
   ]
  },
  {
   "cell_type": "code",
   "execution_count": 11,
   "metadata": {},
   "outputs": [
    {
     "data": {
      "text/html": [
       "TRUE"
      ],
      "text/latex": [
       "TRUE"
      ],
      "text/markdown": [
       "TRUE"
      ],
      "text/plain": [
       "[1] TRUE"
      ]
     },
     "metadata": {},
     "output_type": "display_data"
    }
   ],
   "source": [
    "is.character(V3)"
   ]
  },
  {
   "cell_type": "code",
   "execution_count": 12,
   "metadata": {},
   "outputs": [
    {
     "data": {
      "text/html": [
       "<ol class=list-inline>\n",
       "\t<li>1</li>\n",
       "\t<li>2</li>\n",
       "\t<li>3</li>\n",
       "\t<li>4</li>\n",
       "\t<li>5</li>\n",
       "\t<li>6</li>\n",
       "\t<li>7</li>\n",
       "\t<li>8</li>\n",
       "\t<li>9</li>\n",
       "\t<li>10</li>\n",
       "\t<li>11</li>\n",
       "\t<li>12</li>\n",
       "\t<li>13</li>\n",
       "\t<li>14</li>\n",
       "\t<li>15</li>\n",
       "</ol>\n"
      ],
      "text/latex": [
       "\\begin{enumerate*}\n",
       "\\item 1\n",
       "\\item 2\n",
       "\\item 3\n",
       "\\item 4\n",
       "\\item 5\n",
       "\\item 6\n",
       "\\item 7\n",
       "\\item 8\n",
       "\\item 9\n",
       "\\item 10\n",
       "\\item 11\n",
       "\\item 12\n",
       "\\item 13\n",
       "\\item 14\n",
       "\\item 15\n",
       "\\end{enumerate*}\n"
      ],
      "text/markdown": [
       "1. 1\n",
       "2. 2\n",
       "3. 3\n",
       "4. 4\n",
       "5. 5\n",
       "6. 6\n",
       "7. 7\n",
       "8. 8\n",
       "9. 9\n",
       "10. 10\n",
       "11. 11\n",
       "12. 12\n",
       "13. 13\n",
       "14. 14\n",
       "15. 15\n",
       "\n",
       "\n"
      ],
      "text/plain": [
       " [1]  1  2  3  4  5  6  7  8  9 10 11 12 13 14 15"
      ]
     },
     "metadata": {},
     "output_type": "display_data"
    }
   ],
   "source": [
    "# seq - Sequence function \n",
    "\n",
    "seq(1, 15) # This is similar to 1:15"
   ]
  },
  {
   "cell_type": "code",
   "execution_count": 15,
   "metadata": {},
   "outputs": [
    {
     "data": {
      "text/html": [
       "<ol class=list-inline>\n",
       "\t<li>1</li>\n",
       "\t<li>5</li>\n",
       "\t<li>9</li>\n",
       "\t<li>13</li>\n",
       "</ol>\n"
      ],
      "text/latex": [
       "\\begin{enumerate*}\n",
       "\\item 1\n",
       "\\item 5\n",
       "\\item 9\n",
       "\\item 13\n",
       "\\end{enumerate*}\n"
      ],
      "text/markdown": [
       "1. 1\n",
       "2. 5\n",
       "3. 9\n",
       "4. 13\n",
       "\n",
       "\n"
      ],
      "text/plain": [
       "[1]  1  5  9 13"
      ]
     },
     "metadata": {},
     "output_type": "display_data"
    }
   ],
   "source": [
    "V4 <- seq(1, 15, 4) #Sequence of numbers from 1 to 15, with a step of 4\n",
    "V4"
   ]
  },
  {
   "cell_type": "code",
   "execution_count": 17,
   "metadata": {},
   "outputs": [
    {
     "data": {
      "text/html": [
       "<ol class=list-inline>\n",
       "\t<li>'Yo'</li>\n",
       "\t<li>'Yo'</li>\n",
       "\t<li>'Yo'</li>\n",
       "\t<li>'Yo'</li>\n",
       "\t<li>'Yo'</li>\n",
       "</ol>\n"
      ],
      "text/latex": [
       "\\begin{enumerate*}\n",
       "\\item 'Yo'\n",
       "\\item 'Yo'\n",
       "\\item 'Yo'\n",
       "\\item 'Yo'\n",
       "\\item 'Yo'\n",
       "\\end{enumerate*}\n"
      ],
      "text/markdown": [
       "1. 'Yo'\n",
       "2. 'Yo'\n",
       "3. 'Yo'\n",
       "4. 'Yo'\n",
       "5. 'Yo'\n",
       "\n",
       "\n"
      ],
      "text/plain": [
       "[1] \"Yo\" \"Yo\" \"Yo\" \"Yo\" \"Yo\""
      ]
     },
     "metadata": {},
     "output_type": "display_data"
    }
   ],
   "source": [
    "# rep - Replicate function \n",
    "\n",
    "V5 <- rep(\"Yo\", 5) # Replicates \"Yo\" 5 times\n",
    "V5"
   ]
  },
  {
   "cell_type": "code",
   "execution_count": 18,
   "metadata": {},
   "outputs": [
    {
     "data": {
      "text/html": [
       "<ol class=list-inline>\n",
       "\t<li>20</li>\n",
       "\t<li>50</li>\n",
       "\t<li>20</li>\n",
       "\t<li>50</li>\n",
       "\t<li>20</li>\n",
       "\t<li>50</li>\n",
       "</ol>\n"
      ],
      "text/latex": [
       "\\begin{enumerate*}\n",
       "\\item 20\n",
       "\\item 50\n",
       "\\item 20\n",
       "\\item 50\n",
       "\\item 20\n",
       "\\item 50\n",
       "\\end{enumerate*}\n"
      ],
      "text/markdown": [
       "1. 20\n",
       "2. 50\n",
       "3. 20\n",
       "4. 50\n",
       "5. 20\n",
       "6. 50\n",
       "\n",
       "\n"
      ],
      "text/plain": [
       "[1] 20 50 20 50 20 50"
      ]
     },
     "metadata": {},
     "output_type": "display_data"
    }
   ],
   "source": [
    "# We can replicate a Vector itself\n",
    "x <- c(20, 50)\n",
    "y <- rep(x, 3)\n",
    "y"
   ]
  },
  {
   "cell_type": "markdown",
   "metadata": {},
   "source": [
    "## Subsetting Vectors"
   ]
  },
  {
   "cell_type": "code",
   "execution_count": null,
   "metadata": {},
   "outputs": [],
   "source": [
    "# Accessing Vector's individual data through Brackets (not much used in R)\n",
    "w <- c('a', 'b', \"c\", \"d\", \"e\")\n",
    "\n",
    "w[1] # Vector starts with index 1 so this will give first character"
   ]
  },
  {
   "cell_type": "code",
   "execution_count": null,
   "metadata": {},
   "outputs": [],
   "source": [
    "w[0] # Returns a Character Vector of Length 0"
   ]
  },
  {
   "cell_type": "code",
   "execution_count": null,
   "metadata": {},
   "outputs": [],
   "source": [
    "w[7] # Returns NA i.e. Not Available . It signifies missing data"
   ]
  },
  {
   "cell_type": "code",
   "execution_count": null,
   "metadata": {},
   "outputs": [],
   "source": [
    "w[3:5] # Returns subset of Character Vector from position 3 to 5. "
   ]
  },
  {
   "cell_type": "code",
   "execution_count": null,
   "metadata": {},
   "outputs": [],
   "source": [
    "w[-3] # Returns subset except the data at position 3"
   ]
  },
  {
   "cell_type": "code",
   "execution_count": null,
   "metadata": {},
   "outputs": [],
   "source": [
    "rng <- -3:-5\n",
    "w[rng] # Returns subset vector except the data at position 3, 4 and 5"
   ]
  },
  {
   "cell_type": "code",
   "execution_count": null,
   "metadata": {},
   "outputs": [],
   "source": [
    "w[c(1, 3, 5)] # Returns subset vector with data points at 1, 3 and 5th position"
   ]
  },
  {
   "cell_type": "code",
   "execution_count": null,
   "metadata": {},
   "outputs": [],
   "source": [
    "w[c(2, 6)]"
   ]
  },
  {
   "cell_type": "markdown",
   "metadata": {},
   "source": [
    "## Vectorized Operations \n",
    "\n",
    "**Recycling of Vectors** : While performing any operation between 2 vectors,  if one of the vectors is smaller, then it will recycle with value in smaller vector (duplicates the value starting from the beginning position). \n",
    "\n",
    "Vectorized operations are much faster in R as compared to de-vectorized operations.  \n",
    "**Reason** : R is a high level programming language which acts as wrapper for certain low level languages (Eg. C) to perform the actual task. "
   ]
  },
  {
   "cell_type": "code",
   "execution_count": null,
   "metadata": {},
   "outputs": [],
   "source": [
    "# Run both below appraoches and compare the time\n",
    "N <- 100000\n",
    "a <- rnorm(N)\n",
    "b <- rnorm(N)\n",
    "\n",
    "# Vectorized approach\n",
    "c <- a * b"
   ]
  },
  {
   "cell_type": "code",
   "execution_count": null,
   "metadata": {},
   "outputs": [],
   "source": [
    "# De-vectorized approach\n",
    "d <- rep(NA, N) #Create empty vector\n",
    "\n",
    "for (i in 1:N) {\n",
    "  d[i] <- a[i] * b[i]\n",
    "}"
   ]
  },
  {
   "cell_type": "markdown",
   "metadata": {},
   "source": [
    "## Functions\n",
    "\n",
    "### Various standard functions \n",
    "\n",
    "```R\n",
    "x <- c(1, 2, 3, 4) #Combine\n",
    "y <- seq(1,15,2)   #Sequence\n",
    "z <- rep(\"a\", 5)   #Replicate\n",
    "\n",
    "a <- rnorm(50) #Random Number Generation\n",
    "\n",
    "is.numeric(x)\n",
    "is.double(y)\n",
    "is.character(z)\n",
    "typeof(a)\n",
    "\n",
    "print(a)\n",
    "\n",
    "rnorm(5, 10, 8)\n",
    "b <- sqrt(a) #vectorized operation through functions!\n",
    "```\n",
    "\n",
    "**?** Operator calls F1/Help on execution of the statement. We can use this operator to learn more about the functions and their parameters. \n",
    "\n",
    "```R\n",
    "?paste()\n",
    "?paste\n",
    "?rnorm()\n",
    "```"
   ]
  }
 ],
 "metadata": {
  "kernelspec": {
   "display_name": "R",
   "language": "R",
   "name": "ir"
  },
  "language_info": {
   "codemirror_mode": "r",
   "file_extension": ".r",
   "mimetype": "text/x-r-source",
   "name": "R",
   "pygments_lexer": "r",
   "version": "3.6.1"
  }
 },
 "nbformat": 4,
 "nbformat_minor": 4
}
