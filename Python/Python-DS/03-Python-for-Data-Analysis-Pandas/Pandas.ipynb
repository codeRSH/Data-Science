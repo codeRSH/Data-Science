{
 "metadata": {
  "language_info": {
   "codemirror_mode": {
    "name": "ipython",
    "version": 3
   },
   "file_extension": ".py",
   "mimetype": "text/x-python",
   "name": "python",
   "nbconvert_exporter": "python",
   "pygments_lexer": "ipython3",
   "version": 3
  },
  "orig_nbformat": 2,
  "kernelspec": {
   "name": "python_defaultSpec_1595875800874",
   "display_name": "Python 3.8.2 64-bit ('my_env': conda)"
  }
 },
 "nbformat": 4,
 "nbformat_minor": 2,
 "cells": [
  {
   "cell_type": "markdown",
   "metadata": {},
   "source": [
    "# Pandas"
   ]
  },
  {
   "cell_type": "markdown",
   "metadata": {},
   "source": [
    "Pandas can be thought of as extremely powerful version of Excel with lot more features. "
   ]
  },
  {
   "cell_type": "markdown",
   "metadata": {},
   "source": [
    "## Series\n",
    "\n",
    "A Series is very similar to a NumPy array (in fact it is built on top of the NumPy array object). What differentiates the NumPy array from a Series, is that a Series can have axis labels, meaning it can be indexed by a label, instead of just a number location. It also doesn't need to hold numeric data, it can hold any arbitrary Python Object.\n"
   ]
  },
  {
   "cell_type": "code",
   "execution_count": 1,
   "metadata": {},
   "outputs": [],
   "source": [
    "import numpy as np\n",
    "import pandas as pd"
   ]
  },
  {
   "cell_type": "markdown",
   "metadata": {},
   "source": [
    "### Creating a Series\n",
    "\n",
    "We can convert a List, Numpy array or dictonary to a Series: "
   ]
  },
  {
   "cell_type": "code",
   "execution_count": 2,
   "metadata": {},
   "outputs": [],
   "source": [
    "labels = ['a', 'b', 'c']\n",
    "my_list = [10, 20, 30]\n",
    "arr = np.array([10, 20, 30])\n",
    "d = {'a' : 10, 'b' : 20, 'c' : 30}"
   ]
  },
  {
   "cell_type": "markdown",
   "metadata": {},
   "source": [
    "#### Using Lists"
   ]
  },
  {
   "cell_type": "code",
   "execution_count": 3,
   "metadata": {},
   "outputs": [
    {
     "output_type": "execute_result",
     "data": {
      "text/plain": "0    10\n1    20\n2    30\ndtype: int64"
     },
     "metadata": {},
     "execution_count": 3
    }
   ],
   "source": [
    "pd.Series(data = my_list)"
   ]
  },
  {
   "cell_type": "code",
   "execution_count": 4,
   "metadata": {},
   "outputs": [
    {
     "output_type": "execute_result",
     "data": {
      "text/plain": "a    10\nb    20\nc    30\ndtype: int64"
     },
     "metadata": {},
     "execution_count": 4
    }
   ],
   "source": [
    "pd.Series(data = my_list, index= labels)"
   ]
  },
  {
   "cell_type": "code",
   "execution_count": 5,
   "metadata": {},
   "outputs": [
    {
     "output_type": "execute_result",
     "data": {
      "text/plain": "a    10\nb    20\nc    30\ndtype: int64"
     },
     "metadata": {},
     "execution_count": 5
    }
   ],
   "source": [
    "pd.Series(my_list, labels)"
   ]
  },
  {
   "cell_type": "markdown",
   "metadata": {},
   "source": [
    "#### Numpy Arrays"
   ]
  },
  {
   "cell_type": "code",
   "execution_count": 6,
   "metadata": {},
   "outputs": [
    {
     "output_type": "execute_result",
     "data": {
      "text/plain": "0    10\n1    20\n2    30\ndtype: int32"
     },
     "metadata": {},
     "execution_count": 6
    }
   ],
   "source": [
    "pd.Series(arr)"
   ]
  },
  {
   "cell_type": "code",
   "execution_count": 7,
   "metadata": {},
   "outputs": [
    {
     "output_type": "execute_result",
     "data": {
      "text/plain": "a    10\nb    20\nc    30\ndtype: int32"
     },
     "metadata": {},
     "execution_count": 7
    }
   ],
   "source": [
    "pd.Series(arr, labels)"
   ]
  },
  {
   "cell_type": "markdown",
   "metadata": {},
   "source": [
    "#### Dictionary"
   ]
  },
  {
   "cell_type": "code",
   "execution_count": 8,
   "metadata": {},
   "outputs": [
    {
     "output_type": "execute_result",
     "data": {
      "text/plain": "a    10\nb    20\nc    30\ndtype: int64"
     },
     "metadata": {},
     "execution_count": 8
    }
   ],
   "source": [
    "pd.Series(d)"
   ]
  },
  {
   "cell_type": "markdown",
   "metadata": {},
   "source": [
    "#### Data in a Series\n",
    "\n",
    "A Pandas Series can hold a variety of object types. "
   ]
  },
  {
   "cell_type": "code",
   "execution_count": 9,
   "metadata": {},
   "outputs": [
    {
     "output_type": "execute_result",
     "data": {
      "text/plain": "0    a\n1    b\n2    c\ndtype: object"
     },
     "metadata": {},
     "execution_count": 9
    }
   ],
   "source": [
    "pd.Series(data=labels)"
   ]
  },
  {
   "cell_type": "code",
   "execution_count": 10,
   "metadata": {},
   "outputs": [
    {
     "output_type": "execute_result",
     "data": {
      "text/plain": "0      <built-in function sum>\n1    <built-in function print>\n2      <built-in function len>\ndtype: object"
     },
     "metadata": {},
     "execution_count": 10
    }
   ],
   "source": [
    "# Even functions (although unlikely that we will use this)\n",
    "pd.Series([sum, print, len])"
   ]
  },
  {
   "cell_type": "markdown",
   "metadata": {},
   "source": [
    "### Using an Index\n",
    "\n",
    "Pandas makes use of these index names or numbers by allowing for fast look ups of information (works like a hash table or dictionary)"
   ]
  },
  {
   "cell_type": "code",
   "execution_count": 11,
   "metadata": {},
   "outputs": [
    {
     "output_type": "execute_result",
     "data": {
      "text/plain": "USA        1\nGermany    2\nUSSR       3\nJapan      4\ndtype: int64"
     },
     "metadata": {},
     "execution_count": 11
    }
   ],
   "source": [
    "ser1 = pd.Series([1, 2, 3, 4], index = ['USA', 'Germany', 'USSR', 'Japan'])\n",
    "\n",
    "ser1"
   ]
  },
  {
   "cell_type": "code",
   "execution_count": 12,
   "metadata": {},
   "outputs": [
    {
     "output_type": "execute_result",
     "data": {
      "text/plain": "USA        1\nGermany    2\nItaly      5\nJapan      4\ndtype: int64"
     },
     "metadata": {},
     "execution_count": 12
    }
   ],
   "source": [
    "ser2 = pd.Series([1, 2, 5, 4], index = ['USA', 'Germany', 'Italy', 'Japan'])\n",
    "\n",
    "ser2"
   ]
  },
  {
   "cell_type": "code",
   "execution_count": 14,
   "metadata": {},
   "outputs": [
    {
     "output_type": "execute_result",
     "data": {
      "text/plain": "1"
     },
     "metadata": {},
     "execution_count": 14
    }
   ],
   "source": [
    "ser1['USA']"
   ]
  },
  {
   "cell_type": "code",
   "execution_count": 15,
   "metadata": {},
   "outputs": [
    {
     "output_type": "execute_result",
     "data": {
      "text/plain": "Germany    4.0\nItaly      NaN\nJapan      8.0\nUSA        2.0\nUSSR       NaN\ndtype: float64"
     },
     "metadata": {},
     "execution_count": 15
    }
   ],
   "source": [
    "# Operations can then also be performed based off of index : \n",
    "\n",
    "ser1 + ser2"
   ]
  },
  {
   "cell_type": "markdown",
   "metadata": {},
   "source": [
    "## DataFrames\n",
    "\n",
    "DataFrames are the workhorse of pandas and are directly inpired by R language. "
   ]
  },
  {
   "cell_type": "code",
   "execution_count": 17,
   "metadata": {},
   "outputs": [],
   "source": [
    "from numpy.random import randn\n",
    "\n",
    "np.random.seed(101)"
   ]
  },
  {
   "cell_type": "code",
   "execution_count": 19,
   "metadata": {},
   "outputs": [
    {
     "output_type": "execute_result",
     "data": {
      "text/plain": "          W         X         Y         Z\nA  0.302665  1.693723 -1.706086 -1.159119\nB -0.134841  0.390528  0.166905  0.184502\nC  0.807706  0.072960  0.638787  0.329646\nD -0.497104 -0.754070 -0.943406  0.484752\nE -0.116773  1.901755  0.238127  1.996652",
      "text/html": "<div>\n<style scoped>\n    .dataframe tbody tr th:only-of-type {\n        vertical-align: middle;\n    }\n\n    .dataframe tbody tr th {\n        vertical-align: top;\n    }\n\n    .dataframe thead th {\n        text-align: right;\n    }\n</style>\n<table border=\"1\" class=\"dataframe\">\n  <thead>\n    <tr style=\"text-align: right;\">\n      <th></th>\n      <th>W</th>\n      <th>X</th>\n      <th>Y</th>\n      <th>Z</th>\n    </tr>\n  </thead>\n  <tbody>\n    <tr>\n      <th>A</th>\n      <td>0.302665</td>\n      <td>1.693723</td>\n      <td>-1.706086</td>\n      <td>-1.159119</td>\n    </tr>\n    <tr>\n      <th>B</th>\n      <td>-0.134841</td>\n      <td>0.390528</td>\n      <td>0.166905</td>\n      <td>0.184502</td>\n    </tr>\n    <tr>\n      <th>C</th>\n      <td>0.807706</td>\n      <td>0.072960</td>\n      <td>0.638787</td>\n      <td>0.329646</td>\n    </tr>\n    <tr>\n      <th>D</th>\n      <td>-0.497104</td>\n      <td>-0.754070</td>\n      <td>-0.943406</td>\n      <td>0.484752</td>\n    </tr>\n    <tr>\n      <th>E</th>\n      <td>-0.116773</td>\n      <td>1.901755</td>\n      <td>0.238127</td>\n      <td>1.996652</td>\n    </tr>\n  </tbody>\n</table>\n</div>"
     },
     "metadata": {},
     "execution_count": 19
    }
   ],
   "source": [
    "df = pd.DataFrame(randn(5, 4), index = 'A B C D E'.split(), columns = 'W X Y Z'.split())\n",
    "\n",
    "df"
   ]
  },
  {
   "cell_type": "markdown",
   "metadata": {},
   "source": [
    "### Selection and Indexing"
   ]
  },
  {
   "cell_type": "code",
   "execution_count": 21,
   "metadata": {},
   "outputs": [
    {
     "output_type": "execute_result",
     "data": {
      "text/plain": "A    0.302665\nB   -0.134841\nC    0.807706\nD   -0.497104\nE   -0.116773\nName: W, dtype: float64"
     },
     "metadata": {},
     "execution_count": 21
    }
   ],
   "source": [
    "# A particular column\n",
    "df['W']"
   ]
  },
  {
   "cell_type": "code",
   "execution_count": 23,
   "metadata": {},
   "outputs": [
    {
     "output_type": "execute_result",
     "data": {
      "text/plain": "          W         Z\nA  0.302665 -1.159119\nB -0.134841  0.184502\nC  0.807706  0.329646\nD -0.497104  0.484752\nE -0.116773  1.996652",
      "text/html": "<div>\n<style scoped>\n    .dataframe tbody tr th:only-of-type {\n        vertical-align: middle;\n    }\n\n    .dataframe tbody tr th {\n        vertical-align: top;\n    }\n\n    .dataframe thead th {\n        text-align: right;\n    }\n</style>\n<table border=\"1\" class=\"dataframe\">\n  <thead>\n    <tr style=\"text-align: right;\">\n      <th></th>\n      <th>W</th>\n      <th>Z</th>\n    </tr>\n  </thead>\n  <tbody>\n    <tr>\n      <th>A</th>\n      <td>0.302665</td>\n      <td>-1.159119</td>\n    </tr>\n    <tr>\n      <th>B</th>\n      <td>-0.134841</td>\n      <td>0.184502</td>\n    </tr>\n    <tr>\n      <th>C</th>\n      <td>0.807706</td>\n      <td>0.329646</td>\n    </tr>\n    <tr>\n      <th>D</th>\n      <td>-0.497104</td>\n      <td>0.484752</td>\n    </tr>\n    <tr>\n      <th>E</th>\n      <td>-0.116773</td>\n      <td>1.996652</td>\n    </tr>\n  </tbody>\n</table>\n</div>"
     },
     "metadata": {},
     "execution_count": 23
    }
   ],
   "source": [
    "# Pass a list of column name\n",
    "df[[ 'W', 'Z']]"
   ]
  },
  {
   "cell_type": "code",
   "execution_count": 24,
   "metadata": {},
   "outputs": [
    {
     "output_type": "execute_result",
     "data": {
      "text/plain": "A    0.302665\nB   -0.134841\nC    0.807706\nD   -0.497104\nE   -0.116773\nName: W, dtype: float64"
     },
     "metadata": {},
     "execution_count": 24
    }
   ],
   "source": [
    "# SQL Syntax (not recommended!)\n",
    "\n",
    "df.W"
   ]
  },
  {
   "cell_type": "code",
   "execution_count": 25,
   "metadata": {},
   "outputs": [
    {
     "output_type": "execute_result",
     "data": {
      "text/plain": "pandas.core.series.Series"
     },
     "metadata": {},
     "execution_count": 25
    }
   ],
   "source": [
    "# Data from columns are just Series\n",
    "\n",
    "type(df['W'])"
   ]
  },
  {
   "cell_type": "markdown",
   "metadata": {},
   "source": [
    "### Creating a New Column"
   ]
  },
  {
   "cell_type": "code",
   "execution_count": 32,
   "metadata": {},
   "outputs": [
    {
     "output_type": "execute_result",
     "data": {
      "text/plain": "          W         X         Y         Z       new\nA  0.302665  1.693723 -1.706086 -1.159119 -1.403420\nB -0.134841  0.390528  0.166905  0.184502  0.032064\nC  0.807706  0.072960  0.638787  0.329646  1.446493\nD -0.497104 -0.754070 -0.943406  0.484752 -1.440510\nE -0.116773  1.901755  0.238127  1.996652  0.121354",
      "text/html": "<div>\n<style scoped>\n    .dataframe tbody tr th:only-of-type {\n        vertical-align: middle;\n    }\n\n    .dataframe tbody tr th {\n        vertical-align: top;\n    }\n\n    .dataframe thead th {\n        text-align: right;\n    }\n</style>\n<table border=\"1\" class=\"dataframe\">\n  <thead>\n    <tr style=\"text-align: right;\">\n      <th></th>\n      <th>W</th>\n      <th>X</th>\n      <th>Y</th>\n      <th>Z</th>\n      <th>new</th>\n    </tr>\n  </thead>\n  <tbody>\n    <tr>\n      <th>A</th>\n      <td>0.302665</td>\n      <td>1.693723</td>\n      <td>-1.706086</td>\n      <td>-1.159119</td>\n      <td>-1.403420</td>\n    </tr>\n    <tr>\n      <th>B</th>\n      <td>-0.134841</td>\n      <td>0.390528</td>\n      <td>0.166905</td>\n      <td>0.184502</td>\n      <td>0.032064</td>\n    </tr>\n    <tr>\n      <th>C</th>\n      <td>0.807706</td>\n      <td>0.072960</td>\n      <td>0.638787</td>\n      <td>0.329646</td>\n      <td>1.446493</td>\n    </tr>\n    <tr>\n      <th>D</th>\n      <td>-0.497104</td>\n      <td>-0.754070</td>\n      <td>-0.943406</td>\n      <td>0.484752</td>\n      <td>-1.440510</td>\n    </tr>\n    <tr>\n      <th>E</th>\n      <td>-0.116773</td>\n      <td>1.901755</td>\n      <td>0.238127</td>\n      <td>1.996652</td>\n      <td>0.121354</td>\n    </tr>\n  </tbody>\n</table>\n</div>"
     },
     "metadata": {},
     "execution_count": 32
    }
   ],
   "source": [
    "df['new'] = df['W'] + df['Y']\n",
    "\n",
    "df"
   ]
  },
  {
   "cell_type": "markdown",
   "metadata": {},
   "source": [
    "### Removing Column"
   ]
  },
  {
   "cell_type": "code",
   "execution_count": 33,
   "metadata": {},
   "outputs": [
    {
     "output_type": "execute_result",
     "data": {
      "text/plain": "          W         X         Y         Z\nA  0.302665  1.693723 -1.706086 -1.159119\nB -0.134841  0.390528  0.166905  0.184502\nC  0.807706  0.072960  0.638787  0.329646\nD -0.497104 -0.754070 -0.943406  0.484752\nE -0.116773  1.901755  0.238127  1.996652",
      "text/html": "<div>\n<style scoped>\n    .dataframe tbody tr th:only-of-type {\n        vertical-align: middle;\n    }\n\n    .dataframe tbody tr th {\n        vertical-align: top;\n    }\n\n    .dataframe thead th {\n        text-align: right;\n    }\n</style>\n<table border=\"1\" class=\"dataframe\">\n  <thead>\n    <tr style=\"text-align: right;\">\n      <th></th>\n      <th>W</th>\n      <th>X</th>\n      <th>Y</th>\n      <th>Z</th>\n    </tr>\n  </thead>\n  <tbody>\n    <tr>\n      <th>A</th>\n      <td>0.302665</td>\n      <td>1.693723</td>\n      <td>-1.706086</td>\n      <td>-1.159119</td>\n    </tr>\n    <tr>\n      <th>B</th>\n      <td>-0.134841</td>\n      <td>0.390528</td>\n      <td>0.166905</td>\n      <td>0.184502</td>\n    </tr>\n    <tr>\n      <th>C</th>\n      <td>0.807706</td>\n      <td>0.072960</td>\n      <td>0.638787</td>\n      <td>0.329646</td>\n    </tr>\n    <tr>\n      <th>D</th>\n      <td>-0.497104</td>\n      <td>-0.754070</td>\n      <td>-0.943406</td>\n      <td>0.484752</td>\n    </tr>\n    <tr>\n      <th>E</th>\n      <td>-0.116773</td>\n      <td>1.901755</td>\n      <td>0.238127</td>\n      <td>1.996652</td>\n    </tr>\n  </tbody>\n</table>\n</div>"
     },
     "metadata": {},
     "execution_count": 33
    }
   ],
   "source": [
    "df.drop('new', axis=1)"
   ]
  },
  {
   "cell_type": "code",
   "execution_count": 34,
   "metadata": {},
   "outputs": [
    {
     "output_type": "execute_result",
     "data": {
      "text/plain": "          W         X         Y         Z       new\nA  0.302665  1.693723 -1.706086 -1.159119 -1.403420\nB -0.134841  0.390528  0.166905  0.184502  0.032064\nC  0.807706  0.072960  0.638787  0.329646  1.446493\nD -0.497104 -0.754070 -0.943406  0.484752 -1.440510\nE -0.116773  1.901755  0.238127  1.996652  0.121354",
      "text/html": "<div>\n<style scoped>\n    .dataframe tbody tr th:only-of-type {\n        vertical-align: middle;\n    }\n\n    .dataframe tbody tr th {\n        vertical-align: top;\n    }\n\n    .dataframe thead th {\n        text-align: right;\n    }\n</style>\n<table border=\"1\" class=\"dataframe\">\n  <thead>\n    <tr style=\"text-align: right;\">\n      <th></th>\n      <th>W</th>\n      <th>X</th>\n      <th>Y</th>\n      <th>Z</th>\n      <th>new</th>\n    </tr>\n  </thead>\n  <tbody>\n    <tr>\n      <th>A</th>\n      <td>0.302665</td>\n      <td>1.693723</td>\n      <td>-1.706086</td>\n      <td>-1.159119</td>\n      <td>-1.403420</td>\n    </tr>\n    <tr>\n      <th>B</th>\n      <td>-0.134841</td>\n      <td>0.390528</td>\n      <td>0.166905</td>\n      <td>0.184502</td>\n      <td>0.032064</td>\n    </tr>\n    <tr>\n      <th>C</th>\n      <td>0.807706</td>\n      <td>0.072960</td>\n      <td>0.638787</td>\n      <td>0.329646</td>\n      <td>1.446493</td>\n    </tr>\n    <tr>\n      <th>D</th>\n      <td>-0.497104</td>\n      <td>-0.754070</td>\n      <td>-0.943406</td>\n      <td>0.484752</td>\n      <td>-1.440510</td>\n    </tr>\n    <tr>\n      <th>E</th>\n      <td>-0.116773</td>\n      <td>1.901755</td>\n      <td>0.238127</td>\n      <td>1.996652</td>\n      <td>0.121354</td>\n    </tr>\n  </tbody>\n</table>\n</div>"
     },
     "metadata": {},
     "execution_count": 34
    }
   ],
   "source": [
    "# Not removed inplace unless specified!\n",
    "\n",
    "df"
   ]
  },
  {
   "cell_type": "code",
   "execution_count": 35,
   "metadata": {},
   "outputs": [
    {
     "output_type": "execute_result",
     "data": {
      "text/plain": "          W         X         Y         Z\nA  0.302665  1.693723 -1.706086 -1.159119\nB -0.134841  0.390528  0.166905  0.184502\nC  0.807706  0.072960  0.638787  0.329646\nD -0.497104 -0.754070 -0.943406  0.484752\nE -0.116773  1.901755  0.238127  1.996652",
      "text/html": "<div>\n<style scoped>\n    .dataframe tbody tr th:only-of-type {\n        vertical-align: middle;\n    }\n\n    .dataframe tbody tr th {\n        vertical-align: top;\n    }\n\n    .dataframe thead th {\n        text-align: right;\n    }\n</style>\n<table border=\"1\" class=\"dataframe\">\n  <thead>\n    <tr style=\"text-align: right;\">\n      <th></th>\n      <th>W</th>\n      <th>X</th>\n      <th>Y</th>\n      <th>Z</th>\n    </tr>\n  </thead>\n  <tbody>\n    <tr>\n      <th>A</th>\n      <td>0.302665</td>\n      <td>1.693723</td>\n      <td>-1.706086</td>\n      <td>-1.159119</td>\n    </tr>\n    <tr>\n      <th>B</th>\n      <td>-0.134841</td>\n      <td>0.390528</td>\n      <td>0.166905</td>\n      <td>0.184502</td>\n    </tr>\n    <tr>\n      <th>C</th>\n      <td>0.807706</td>\n      <td>0.072960</td>\n      <td>0.638787</td>\n      <td>0.329646</td>\n    </tr>\n    <tr>\n      <th>D</th>\n      <td>-0.497104</td>\n      <td>-0.754070</td>\n      <td>-0.943406</td>\n      <td>0.484752</td>\n    </tr>\n    <tr>\n      <th>E</th>\n      <td>-0.116773</td>\n      <td>1.901755</td>\n      <td>0.238127</td>\n      <td>1.996652</td>\n    </tr>\n  </tbody>\n</table>\n</div>"
     },
     "metadata": {},
     "execution_count": 35
    }
   ],
   "source": [
    "df.drop('new', axis=1, inplace = True)\n",
    "df"
   ]
  },
  {
   "cell_type": "markdown",
   "metadata": {},
   "source": [
    "### Removing Rows"
   ]
  },
  {
   "cell_type": "code",
   "execution_count": 36,
   "metadata": {},
   "outputs": [
    {
     "output_type": "execute_result",
     "data": {
      "text/plain": "          W         X         Y         Z\nA  0.302665  1.693723 -1.706086 -1.159119\nB -0.134841  0.390528  0.166905  0.184502\nC  0.807706  0.072960  0.638787  0.329646\nD -0.497104 -0.754070 -0.943406  0.484752",
      "text/html": "<div>\n<style scoped>\n    .dataframe tbody tr th:only-of-type {\n        vertical-align: middle;\n    }\n\n    .dataframe tbody tr th {\n        vertical-align: top;\n    }\n\n    .dataframe thead th {\n        text-align: right;\n    }\n</style>\n<table border=\"1\" class=\"dataframe\">\n  <thead>\n    <tr style=\"text-align: right;\">\n      <th></th>\n      <th>W</th>\n      <th>X</th>\n      <th>Y</th>\n      <th>Z</th>\n    </tr>\n  </thead>\n  <tbody>\n    <tr>\n      <th>A</th>\n      <td>0.302665</td>\n      <td>1.693723</td>\n      <td>-1.706086</td>\n      <td>-1.159119</td>\n    </tr>\n    <tr>\n      <th>B</th>\n      <td>-0.134841</td>\n      <td>0.390528</td>\n      <td>0.166905</td>\n      <td>0.184502</td>\n    </tr>\n    <tr>\n      <th>C</th>\n      <td>0.807706</td>\n      <td>0.072960</td>\n      <td>0.638787</td>\n      <td>0.329646</td>\n    </tr>\n    <tr>\n      <th>D</th>\n      <td>-0.497104</td>\n      <td>-0.754070</td>\n      <td>-0.943406</td>\n      <td>0.484752</td>\n    </tr>\n  </tbody>\n</table>\n</div>"
     },
     "metadata": {},
     "execution_count": 36
    }
   ],
   "source": [
    "df.drop('E', axis = 0)"
   ]
  },
  {
   "cell_type": "markdown",
   "metadata": {},
   "source": [
    "### Selecting Rows"
   ]
  },
  {
   "cell_type": "code",
   "execution_count": 37,
   "metadata": {},
   "outputs": [
    {
     "output_type": "execute_result",
     "data": {
      "text/plain": "W    0.302665\nX    1.693723\nY   -1.706086\nZ   -1.159119\nName: A, dtype: float64"
     },
     "metadata": {},
     "execution_count": 37
    }
   ],
   "source": [
    "df.loc['A']"
   ]
  },
  {
   "cell_type": "code",
   "execution_count": 38,
   "metadata": {},
   "outputs": [
    {
     "output_type": "execute_result",
     "data": {
      "text/plain": "W    0.807706\nX    0.072960\nY    0.638787\nZ    0.329646\nName: C, dtype: float64"
     },
     "metadata": {},
     "execution_count": 38
    }
   ],
   "source": [
    "# Select based off of position instead of label\n",
    "\n",
    "df.iloc[2]"
   ]
  },
  {
   "cell_type": "markdown",
   "metadata": {},
   "source": [
    "### Selecting subset of rows and columns"
   ]
  },
  {
   "cell_type": "code",
   "execution_count": 39,
   "metadata": {},
   "outputs": [
    {
     "output_type": "execute_result",
     "data": {
      "text/plain": "0.16690463609281317"
     },
     "metadata": {},
     "execution_count": 39
    }
   ],
   "source": [
    "df.loc['B', 'Y']"
   ]
  },
  {
   "cell_type": "code",
   "execution_count": 40,
   "metadata": {},
   "outputs": [
    {
     "output_type": "execute_result",
     "data": {
      "text/plain": "          W         Y\nA  0.302665 -1.706086\nB -0.134841  0.166905",
      "text/html": "<div>\n<style scoped>\n    .dataframe tbody tr th:only-of-type {\n        vertical-align: middle;\n    }\n\n    .dataframe tbody tr th {\n        vertical-align: top;\n    }\n\n    .dataframe thead th {\n        text-align: right;\n    }\n</style>\n<table border=\"1\" class=\"dataframe\">\n  <thead>\n    <tr style=\"text-align: right;\">\n      <th></th>\n      <th>W</th>\n      <th>Y</th>\n    </tr>\n  </thead>\n  <tbody>\n    <tr>\n      <th>A</th>\n      <td>0.302665</td>\n      <td>-1.706086</td>\n    </tr>\n    <tr>\n      <th>B</th>\n      <td>-0.134841</td>\n      <td>0.166905</td>\n    </tr>\n  </tbody>\n</table>\n</div>"
     },
     "metadata": {},
     "execution_count": 40
    }
   ],
   "source": [
    "df.loc[['A', 'B'], ['W', 'Y']]"
   ]
  },
  {
   "cell_type": "markdown",
   "metadata": {},
   "source": [
    "### Conditional Selection\n",
    "\n",
    "This is very similar to numpy arrays"
   ]
  },
  {
   "cell_type": "code",
   "execution_count": 41,
   "metadata": {},
   "outputs": [
    {
     "output_type": "execute_result",
     "data": {
      "text/plain": "          W         X         Y         Z\nA  0.302665  1.693723 -1.706086 -1.159119\nB -0.134841  0.390528  0.166905  0.184502\nC  0.807706  0.072960  0.638787  0.329646\nD -0.497104 -0.754070 -0.943406  0.484752\nE -0.116773  1.901755  0.238127  1.996652",
      "text/html": "<div>\n<style scoped>\n    .dataframe tbody tr th:only-of-type {\n        vertical-align: middle;\n    }\n\n    .dataframe tbody tr th {\n        vertical-align: top;\n    }\n\n    .dataframe thead th {\n        text-align: right;\n    }\n</style>\n<table border=\"1\" class=\"dataframe\">\n  <thead>\n    <tr style=\"text-align: right;\">\n      <th></th>\n      <th>W</th>\n      <th>X</th>\n      <th>Y</th>\n      <th>Z</th>\n    </tr>\n  </thead>\n  <tbody>\n    <tr>\n      <th>A</th>\n      <td>0.302665</td>\n      <td>1.693723</td>\n      <td>-1.706086</td>\n      <td>-1.159119</td>\n    </tr>\n    <tr>\n      <th>B</th>\n      <td>-0.134841</td>\n      <td>0.390528</td>\n      <td>0.166905</td>\n      <td>0.184502</td>\n    </tr>\n    <tr>\n      <th>C</th>\n      <td>0.807706</td>\n      <td>0.072960</td>\n      <td>0.638787</td>\n      <td>0.329646</td>\n    </tr>\n    <tr>\n      <th>D</th>\n      <td>-0.497104</td>\n      <td>-0.754070</td>\n      <td>-0.943406</td>\n      <td>0.484752</td>\n    </tr>\n    <tr>\n      <th>E</th>\n      <td>-0.116773</td>\n      <td>1.901755</td>\n      <td>0.238127</td>\n      <td>1.996652</td>\n    </tr>\n  </tbody>\n</table>\n</div>"
     },
     "metadata": {},
     "execution_count": 41
    }
   ],
   "source": [
    "df"
   ]
  },
  {
   "cell_type": "code",
   "execution_count": 42,
   "metadata": {},
   "outputs": [
    {
     "output_type": "execute_result",
     "data": {
      "text/plain": "       W      X      Y      Z\nA   True   True  False  False\nB  False   True   True   True\nC   True   True   True   True\nD  False  False  False   True\nE  False   True   True   True",
      "text/html": "<div>\n<style scoped>\n    .dataframe tbody tr th:only-of-type {\n        vertical-align: middle;\n    }\n\n    .dataframe tbody tr th {\n        vertical-align: top;\n    }\n\n    .dataframe thead th {\n        text-align: right;\n    }\n</style>\n<table border=\"1\" class=\"dataframe\">\n  <thead>\n    <tr style=\"text-align: right;\">\n      <th></th>\n      <th>W</th>\n      <th>X</th>\n      <th>Y</th>\n      <th>Z</th>\n    </tr>\n  </thead>\n  <tbody>\n    <tr>\n      <th>A</th>\n      <td>True</td>\n      <td>True</td>\n      <td>False</td>\n      <td>False</td>\n    </tr>\n    <tr>\n      <th>B</th>\n      <td>False</td>\n      <td>True</td>\n      <td>True</td>\n      <td>True</td>\n    </tr>\n    <tr>\n      <th>C</th>\n      <td>True</td>\n      <td>True</td>\n      <td>True</td>\n      <td>True</td>\n    </tr>\n    <tr>\n      <th>D</th>\n      <td>False</td>\n      <td>False</td>\n      <td>False</td>\n      <td>True</td>\n    </tr>\n    <tr>\n      <th>E</th>\n      <td>False</td>\n      <td>True</td>\n      <td>True</td>\n      <td>True</td>\n    </tr>\n  </tbody>\n</table>\n</div>"
     },
     "metadata": {},
     "execution_count": 42
    }
   ],
   "source": [
    "df > 0"
   ]
  },
  {
   "cell_type": "code",
   "execution_count": 43,
   "metadata": {},
   "outputs": [
    {
     "output_type": "execute_result",
     "data": {
      "text/plain": "          W         X         Y         Z\nA  0.302665  1.693723       NaN       NaN\nB       NaN  0.390528  0.166905  0.184502\nC  0.807706  0.072960  0.638787  0.329646\nD       NaN       NaN       NaN  0.484752\nE       NaN  1.901755  0.238127  1.996652",
      "text/html": "<div>\n<style scoped>\n    .dataframe tbody tr th:only-of-type {\n        vertical-align: middle;\n    }\n\n    .dataframe tbody tr th {\n        vertical-align: top;\n    }\n\n    .dataframe thead th {\n        text-align: right;\n    }\n</style>\n<table border=\"1\" class=\"dataframe\">\n  <thead>\n    <tr style=\"text-align: right;\">\n      <th></th>\n      <th>W</th>\n      <th>X</th>\n      <th>Y</th>\n      <th>Z</th>\n    </tr>\n  </thead>\n  <tbody>\n    <tr>\n      <th>A</th>\n      <td>0.302665</td>\n      <td>1.693723</td>\n      <td>NaN</td>\n      <td>NaN</td>\n    </tr>\n    <tr>\n      <th>B</th>\n      <td>NaN</td>\n      <td>0.390528</td>\n      <td>0.166905</td>\n      <td>0.184502</td>\n    </tr>\n    <tr>\n      <th>C</th>\n      <td>0.807706</td>\n      <td>0.072960</td>\n      <td>0.638787</td>\n      <td>0.329646</td>\n    </tr>\n    <tr>\n      <th>D</th>\n      <td>NaN</td>\n      <td>NaN</td>\n      <td>NaN</td>\n      <td>0.484752</td>\n    </tr>\n    <tr>\n      <th>E</th>\n      <td>NaN</td>\n      <td>1.901755</td>\n      <td>0.238127</td>\n      <td>1.996652</td>\n    </tr>\n  </tbody>\n</table>\n</div>"
     },
     "metadata": {},
     "execution_count": 43
    }
   ],
   "source": [
    "df[df > 0]"
   ]
  },
  {
   "cell_type": "code",
   "execution_count": 44,
   "metadata": {},
   "outputs": [
    {
     "output_type": "execute_result",
     "data": {
      "text/plain": "          W         X         Y         Z\nA  0.302665  1.693723 -1.706086 -1.159119\nC  0.807706  0.072960  0.638787  0.329646",
      "text/html": "<div>\n<style scoped>\n    .dataframe tbody tr th:only-of-type {\n        vertical-align: middle;\n    }\n\n    .dataframe tbody tr th {\n        vertical-align: top;\n    }\n\n    .dataframe thead th {\n        text-align: right;\n    }\n</style>\n<table border=\"1\" class=\"dataframe\">\n  <thead>\n    <tr style=\"text-align: right;\">\n      <th></th>\n      <th>W</th>\n      <th>X</th>\n      <th>Y</th>\n      <th>Z</th>\n    </tr>\n  </thead>\n  <tbody>\n    <tr>\n      <th>A</th>\n      <td>0.302665</td>\n      <td>1.693723</td>\n      <td>-1.706086</td>\n      <td>-1.159119</td>\n    </tr>\n    <tr>\n      <th>C</th>\n      <td>0.807706</td>\n      <td>0.072960</td>\n      <td>0.638787</td>\n      <td>0.329646</td>\n    </tr>\n  </tbody>\n</table>\n</div>"
     },
     "metadata": {},
     "execution_count": 44
    }
   ],
   "source": [
    "df[df['W'] > 0]"
   ]
  },
  {
   "cell_type": "code",
   "execution_count": 45,
   "metadata": {},
   "outputs": [
    {
     "output_type": "execute_result",
     "data": {
      "text/plain": "A   -1.706086\nC    0.638787\nName: Y, dtype: float64"
     },
     "metadata": {},
     "execution_count": 45
    }
   ],
   "source": [
    "df[df['W'] > 0]['Y']"
   ]
  },
  {
   "cell_type": "code",
   "execution_count": 46,
   "metadata": {},
   "outputs": [
    {
     "output_type": "execute_result",
     "data": {
      "text/plain": "          Y         X\nA -1.706086  1.693723\nC  0.638787  0.072960",
      "text/html": "<div>\n<style scoped>\n    .dataframe tbody tr th:only-of-type {\n        vertical-align: middle;\n    }\n\n    .dataframe tbody tr th {\n        vertical-align: top;\n    }\n\n    .dataframe thead th {\n        text-align: right;\n    }\n</style>\n<table border=\"1\" class=\"dataframe\">\n  <thead>\n    <tr style=\"text-align: right;\">\n      <th></th>\n      <th>Y</th>\n      <th>X</th>\n    </tr>\n  </thead>\n  <tbody>\n    <tr>\n      <th>A</th>\n      <td>-1.706086</td>\n      <td>1.693723</td>\n    </tr>\n    <tr>\n      <th>C</th>\n      <td>0.638787</td>\n      <td>0.072960</td>\n    </tr>\n  </tbody>\n</table>\n</div>"
     },
     "metadata": {},
     "execution_count": 46
    }
   ],
   "source": [
    "df[df['W'] > 0][['Y', 'X']]"
   ]
  },
  {
   "cell_type": "code",
   "execution_count": 49,
   "metadata": {},
   "outputs": [
    {
     "output_type": "execute_result",
     "data": {
      "text/plain": "Empty DataFrame\nColumns: [W, X, Y, Z]\nIndex: []",
      "text/html": "<div>\n<style scoped>\n    .dataframe tbody tr th:only-of-type {\n        vertical-align: middle;\n    }\n\n    .dataframe tbody tr th {\n        vertical-align: top;\n    }\n\n    .dataframe thead th {\n        text-align: right;\n    }\n</style>\n<table border=\"1\" class=\"dataframe\">\n  <thead>\n    <tr style=\"text-align: right;\">\n      <th></th>\n      <th>W</th>\n      <th>X</th>\n      <th>Y</th>\n      <th>Z</th>\n    </tr>\n  </thead>\n  <tbody>\n  </tbody>\n</table>\n</div>"
     },
     "metadata": {},
     "execution_count": 49
    }
   ],
   "source": [
    "# For 2 conditions | and & operators can be used with parenthesis\n",
    "\n",
    "df[(df['W'] > 0) & (df['Y'] > 1)]"
   ]
  },
  {
   "cell_type": "code",
   "execution_count": 50,
   "metadata": {},
   "outputs": [
    {
     "output_type": "execute_result",
     "data": {
      "text/plain": "          W         X         Y         Z\nA  0.302665  1.693723 -1.706086 -1.159119\nB -0.134841  0.390528  0.166905  0.184502\nC  0.807706  0.072960  0.638787  0.329646\nD -0.497104 -0.754070 -0.943406  0.484752\nE -0.116773  1.901755  0.238127  1.996652",
      "text/html": "<div>\n<style scoped>\n    .dataframe tbody tr th:only-of-type {\n        vertical-align: middle;\n    }\n\n    .dataframe tbody tr th {\n        vertical-align: top;\n    }\n\n    .dataframe thead th {\n        text-align: right;\n    }\n</style>\n<table border=\"1\" class=\"dataframe\">\n  <thead>\n    <tr style=\"text-align: right;\">\n      <th></th>\n      <th>W</th>\n      <th>X</th>\n      <th>Y</th>\n      <th>Z</th>\n    </tr>\n  </thead>\n  <tbody>\n    <tr>\n      <th>A</th>\n      <td>0.302665</td>\n      <td>1.693723</td>\n      <td>-1.706086</td>\n      <td>-1.159119</td>\n    </tr>\n    <tr>\n      <th>B</th>\n      <td>-0.134841</td>\n      <td>0.390528</td>\n      <td>0.166905</td>\n      <td>0.184502</td>\n    </tr>\n    <tr>\n      <th>C</th>\n      <td>0.807706</td>\n      <td>0.072960</td>\n      <td>0.638787</td>\n      <td>0.329646</td>\n    </tr>\n    <tr>\n      <th>D</th>\n      <td>-0.497104</td>\n      <td>-0.754070</td>\n      <td>-0.943406</td>\n      <td>0.484752</td>\n    </tr>\n    <tr>\n      <th>E</th>\n      <td>-0.116773</td>\n      <td>1.901755</td>\n      <td>0.238127</td>\n      <td>1.996652</td>\n    </tr>\n  </tbody>\n</table>\n</div>"
     },
     "metadata": {},
     "execution_count": 50
    }
   ],
   "source": [
    "df"
   ]
  },
  {
   "cell_type": "code",
   "execution_count": 51,
   "metadata": {},
   "outputs": [
    {
     "output_type": "execute_result",
     "data": {
      "text/plain": "  index         W         X         Y         Z\n0     A  0.302665  1.693723 -1.706086 -1.159119\n1     B -0.134841  0.390528  0.166905  0.184502\n2     C  0.807706  0.072960  0.638787  0.329646\n3     D -0.497104 -0.754070 -0.943406  0.484752\n4     E -0.116773  1.901755  0.238127  1.996652",
      "text/html": "<div>\n<style scoped>\n    .dataframe tbody tr th:only-of-type {\n        vertical-align: middle;\n    }\n\n    .dataframe tbody tr th {\n        vertical-align: top;\n    }\n\n    .dataframe thead th {\n        text-align: right;\n    }\n</style>\n<table border=\"1\" class=\"dataframe\">\n  <thead>\n    <tr style=\"text-align: right;\">\n      <th></th>\n      <th>index</th>\n      <th>W</th>\n      <th>X</th>\n      <th>Y</th>\n      <th>Z</th>\n    </tr>\n  </thead>\n  <tbody>\n    <tr>\n      <th>0</th>\n      <td>A</td>\n      <td>0.302665</td>\n      <td>1.693723</td>\n      <td>-1.706086</td>\n      <td>-1.159119</td>\n    </tr>\n    <tr>\n      <th>1</th>\n      <td>B</td>\n      <td>-0.134841</td>\n      <td>0.390528</td>\n      <td>0.166905</td>\n      <td>0.184502</td>\n    </tr>\n    <tr>\n      <th>2</th>\n      <td>C</td>\n      <td>0.807706</td>\n      <td>0.072960</td>\n      <td>0.638787</td>\n      <td>0.329646</td>\n    </tr>\n    <tr>\n      <th>3</th>\n      <td>D</td>\n      <td>-0.497104</td>\n      <td>-0.754070</td>\n      <td>-0.943406</td>\n      <td>0.484752</td>\n    </tr>\n    <tr>\n      <th>4</th>\n      <td>E</td>\n      <td>-0.116773</td>\n      <td>1.901755</td>\n      <td>0.238127</td>\n      <td>1.996652</td>\n    </tr>\n  </tbody>\n</table>\n</div>"
     },
     "metadata": {},
     "execution_count": 51
    }
   ],
   "source": [
    "# Reset the index to default 0, 1, ...n index\n",
    "\n",
    "df.reset_index()"
   ]
  },
  {
   "cell_type": "code",
   "execution_count": 55,
   "metadata": {},
   "outputs": [
    {
     "output_type": "execute_result",
     "data": {
      "text/plain": "['CA', 'NY', 'WY', 'OR', 'CO']"
     },
     "metadata": {},
     "execution_count": 55
    }
   ],
   "source": [
    "newind = 'CA NY WY OR CO'.split()\n",
    "newind"
   ]
  },
  {
   "cell_type": "code",
   "execution_count": 58,
   "metadata": {},
   "outputs": [],
   "source": [
    "df['States'] = newind"
   ]
  },
  {
   "cell_type": "code",
   "execution_count": 59,
   "metadata": {},
   "outputs": [
    {
     "output_type": "execute_result",
     "data": {
      "text/plain": "          W         X         Y         Z States\nA  0.302665  1.693723 -1.706086 -1.159119     CA\nB -0.134841  0.390528  0.166905  0.184502     NY\nC  0.807706  0.072960  0.638787  0.329646     WY\nD -0.497104 -0.754070 -0.943406  0.484752     OR\nE -0.116773  1.901755  0.238127  1.996652     CO",
      "text/html": "<div>\n<style scoped>\n    .dataframe tbody tr th:only-of-type {\n        vertical-align: middle;\n    }\n\n    .dataframe tbody tr th {\n        vertical-align: top;\n    }\n\n    .dataframe thead th {\n        text-align: right;\n    }\n</style>\n<table border=\"1\" class=\"dataframe\">\n  <thead>\n    <tr style=\"text-align: right;\">\n      <th></th>\n      <th>W</th>\n      <th>X</th>\n      <th>Y</th>\n      <th>Z</th>\n      <th>States</th>\n    </tr>\n  </thead>\n  <tbody>\n    <tr>\n      <th>A</th>\n      <td>0.302665</td>\n      <td>1.693723</td>\n      <td>-1.706086</td>\n      <td>-1.159119</td>\n      <td>CA</td>\n    </tr>\n    <tr>\n      <th>B</th>\n      <td>-0.134841</td>\n      <td>0.390528</td>\n      <td>0.166905</td>\n      <td>0.184502</td>\n      <td>NY</td>\n    </tr>\n    <tr>\n      <th>C</th>\n      <td>0.807706</td>\n      <td>0.072960</td>\n      <td>0.638787</td>\n      <td>0.329646</td>\n      <td>WY</td>\n    </tr>\n    <tr>\n      <th>D</th>\n      <td>-0.497104</td>\n      <td>-0.754070</td>\n      <td>-0.943406</td>\n      <td>0.484752</td>\n      <td>OR</td>\n    </tr>\n    <tr>\n      <th>E</th>\n      <td>-0.116773</td>\n      <td>1.901755</td>\n      <td>0.238127</td>\n      <td>1.996652</td>\n      <td>CO</td>\n    </tr>\n  </tbody>\n</table>\n</div>"
     },
     "metadata": {},
     "execution_count": 59
    }
   ],
   "source": [
    "df"
   ]
  },
  {
   "cell_type": "code",
   "execution_count": 60,
   "metadata": {},
   "outputs": [
    {
     "output_type": "execute_result",
     "data": {
      "text/plain": "               W         X         Y         Z\nStates                                        \nCA      0.302665  1.693723 -1.706086 -1.159119\nNY     -0.134841  0.390528  0.166905  0.184502\nWY      0.807706  0.072960  0.638787  0.329646\nOR     -0.497104 -0.754070 -0.943406  0.484752\nCO     -0.116773  1.901755  0.238127  1.996652",
      "text/html": "<div>\n<style scoped>\n    .dataframe tbody tr th:only-of-type {\n        vertical-align: middle;\n    }\n\n    .dataframe tbody tr th {\n        vertical-align: top;\n    }\n\n    .dataframe thead th {\n        text-align: right;\n    }\n</style>\n<table border=\"1\" class=\"dataframe\">\n  <thead>\n    <tr style=\"text-align: right;\">\n      <th></th>\n      <th>W</th>\n      <th>X</th>\n      <th>Y</th>\n      <th>Z</th>\n    </tr>\n    <tr>\n      <th>States</th>\n      <th></th>\n      <th></th>\n      <th></th>\n      <th></th>\n    </tr>\n  </thead>\n  <tbody>\n    <tr>\n      <th>CA</th>\n      <td>0.302665</td>\n      <td>1.693723</td>\n      <td>-1.706086</td>\n      <td>-1.159119</td>\n    </tr>\n    <tr>\n      <th>NY</th>\n      <td>-0.134841</td>\n      <td>0.390528</td>\n      <td>0.166905</td>\n      <td>0.184502</td>\n    </tr>\n    <tr>\n      <th>WY</th>\n      <td>0.807706</td>\n      <td>0.072960</td>\n      <td>0.638787</td>\n      <td>0.329646</td>\n    </tr>\n    <tr>\n      <th>OR</th>\n      <td>-0.497104</td>\n      <td>-0.754070</td>\n      <td>-0.943406</td>\n      <td>0.484752</td>\n    </tr>\n    <tr>\n      <th>CO</th>\n      <td>-0.116773</td>\n      <td>1.901755</td>\n      <td>0.238127</td>\n      <td>1.996652</td>\n    </tr>\n  </tbody>\n</table>\n</div>"
     },
     "metadata": {},
     "execution_count": 60
    }
   ],
   "source": [
    "df.set_index('States')"
   ]
  },
  {
   "cell_type": "code",
   "execution_count": 61,
   "metadata": {},
   "outputs": [
    {
     "output_type": "execute_result",
     "data": {
      "text/plain": "          W         X         Y         Z States\nA  0.302665  1.693723 -1.706086 -1.159119     CA\nB -0.134841  0.390528  0.166905  0.184502     NY\nC  0.807706  0.072960  0.638787  0.329646     WY\nD -0.497104 -0.754070 -0.943406  0.484752     OR\nE -0.116773  1.901755  0.238127  1.996652     CO",
      "text/html": "<div>\n<style scoped>\n    .dataframe tbody tr th:only-of-type {\n        vertical-align: middle;\n    }\n\n    .dataframe tbody tr th {\n        vertical-align: top;\n    }\n\n    .dataframe thead th {\n        text-align: right;\n    }\n</style>\n<table border=\"1\" class=\"dataframe\">\n  <thead>\n    <tr style=\"text-align: right;\">\n      <th></th>\n      <th>W</th>\n      <th>X</th>\n      <th>Y</th>\n      <th>Z</th>\n      <th>States</th>\n    </tr>\n  </thead>\n  <tbody>\n    <tr>\n      <th>A</th>\n      <td>0.302665</td>\n      <td>1.693723</td>\n      <td>-1.706086</td>\n      <td>-1.159119</td>\n      <td>CA</td>\n    </tr>\n    <tr>\n      <th>B</th>\n      <td>-0.134841</td>\n      <td>0.390528</td>\n      <td>0.166905</td>\n      <td>0.184502</td>\n      <td>NY</td>\n    </tr>\n    <tr>\n      <th>C</th>\n      <td>0.807706</td>\n      <td>0.072960</td>\n      <td>0.638787</td>\n      <td>0.329646</td>\n      <td>WY</td>\n    </tr>\n    <tr>\n      <th>D</th>\n      <td>-0.497104</td>\n      <td>-0.754070</td>\n      <td>-0.943406</td>\n      <td>0.484752</td>\n      <td>OR</td>\n    </tr>\n    <tr>\n      <th>E</th>\n      <td>-0.116773</td>\n      <td>1.901755</td>\n      <td>0.238127</td>\n      <td>1.996652</td>\n      <td>CO</td>\n    </tr>\n  </tbody>\n</table>\n</div>"
     },
     "metadata": {},
     "execution_count": 61
    }
   ],
   "source": [
    "# No change until inplace used\n",
    "\n",
    "df"
   ]
  },
  {
   "cell_type": "code",
   "execution_count": 62,
   "metadata": {},
   "outputs": [],
   "source": [
    "df.set_index('States', inplace = True)"
   ]
  },
  {
   "cell_type": "code",
   "execution_count": 63,
   "metadata": {},
   "outputs": [
    {
     "output_type": "execute_result",
     "data": {
      "text/plain": "               W         X         Y         Z\nStates                                        \nCA      0.302665  1.693723 -1.706086 -1.159119\nNY     -0.134841  0.390528  0.166905  0.184502\nWY      0.807706  0.072960  0.638787  0.329646\nOR     -0.497104 -0.754070 -0.943406  0.484752\nCO     -0.116773  1.901755  0.238127  1.996652",
      "text/html": "<div>\n<style scoped>\n    .dataframe tbody tr th:only-of-type {\n        vertical-align: middle;\n    }\n\n    .dataframe tbody tr th {\n        vertical-align: top;\n    }\n\n    .dataframe thead th {\n        text-align: right;\n    }\n</style>\n<table border=\"1\" class=\"dataframe\">\n  <thead>\n    <tr style=\"text-align: right;\">\n      <th></th>\n      <th>W</th>\n      <th>X</th>\n      <th>Y</th>\n      <th>Z</th>\n    </tr>\n    <tr>\n      <th>States</th>\n      <th></th>\n      <th></th>\n      <th></th>\n      <th></th>\n    </tr>\n  </thead>\n  <tbody>\n    <tr>\n      <th>CA</th>\n      <td>0.302665</td>\n      <td>1.693723</td>\n      <td>-1.706086</td>\n      <td>-1.159119</td>\n    </tr>\n    <tr>\n      <th>NY</th>\n      <td>-0.134841</td>\n      <td>0.390528</td>\n      <td>0.166905</td>\n      <td>0.184502</td>\n    </tr>\n    <tr>\n      <th>WY</th>\n      <td>0.807706</td>\n      <td>0.072960</td>\n      <td>0.638787</td>\n      <td>0.329646</td>\n    </tr>\n    <tr>\n      <th>OR</th>\n      <td>-0.497104</td>\n      <td>-0.754070</td>\n      <td>-0.943406</td>\n      <td>0.484752</td>\n    </tr>\n    <tr>\n      <th>CO</th>\n      <td>-0.116773</td>\n      <td>1.901755</td>\n      <td>0.238127</td>\n      <td>1.996652</td>\n    </tr>\n  </tbody>\n</table>\n</div>"
     },
     "metadata": {},
     "execution_count": 63
    }
   ],
   "source": [
    "df"
   ]
  },
  {
   "cell_type": "markdown",
   "metadata": {},
   "source": [
    "### Multi Index or Index Hierarchy"
   ]
  },
  {
   "cell_type": "code",
   "execution_count": 64,
   "metadata": {},
   "outputs": [],
   "source": [
    "# Index Levels\n",
    "\n",
    "outside = ['G1', 'G1', 'G1', 'G2', 'G2', 'G2']\n",
    "inside = [1, 2, 3, 1, 2, 3]\n",
    "hier_index = list(zip(outside, inside))\n",
    "hier_index = pd.MultiIndex.from_tuples(hier_index)"
   ]
  },
  {
   "cell_type": "code",
   "execution_count": 65,
   "metadata": {},
   "outputs": [
    {
     "output_type": "execute_result",
     "data": {
      "text/plain": "MultiIndex([('G1', 1),\n            ('G1', 2),\n            ('G1', 3),\n            ('G2', 1),\n            ('G2', 2),\n            ('G2', 3)],\n           )"
     },
     "metadata": {},
     "execution_count": 65
    }
   ],
   "source": [
    "hier_index"
   ]
  },
  {
   "cell_type": "code",
   "execution_count": 66,
   "metadata": {},
   "outputs": [
    {
     "output_type": "execute_result",
     "data": {
      "text/plain": "             A         B\nG1 1 -0.993263  0.196800\n   2 -1.136645  0.000366\n   3  1.025984 -0.156598\nG2 1 -0.031579  0.649826\n   2  2.154846 -0.610259\n   3 -0.755325 -0.346419",
      "text/html": "<div>\n<style scoped>\n    .dataframe tbody tr th:only-of-type {\n        vertical-align: middle;\n    }\n\n    .dataframe tbody tr th {\n        vertical-align: top;\n    }\n\n    .dataframe thead th {\n        text-align: right;\n    }\n</style>\n<table border=\"1\" class=\"dataframe\">\n  <thead>\n    <tr style=\"text-align: right;\">\n      <th></th>\n      <th></th>\n      <th>A</th>\n      <th>B</th>\n    </tr>\n  </thead>\n  <tbody>\n    <tr>\n      <th rowspan=\"3\" valign=\"top\">G1</th>\n      <th>1</th>\n      <td>-0.993263</td>\n      <td>0.196800</td>\n    </tr>\n    <tr>\n      <th>2</th>\n      <td>-1.136645</td>\n      <td>0.000366</td>\n    </tr>\n    <tr>\n      <th>3</th>\n      <td>1.025984</td>\n      <td>-0.156598</td>\n    </tr>\n    <tr>\n      <th rowspan=\"3\" valign=\"top\">G2</th>\n      <th>1</th>\n      <td>-0.031579</td>\n      <td>0.649826</td>\n    </tr>\n    <tr>\n      <th>2</th>\n      <td>2.154846</td>\n      <td>-0.610259</td>\n    </tr>\n    <tr>\n      <th>3</th>\n      <td>-0.755325</td>\n      <td>-0.346419</td>\n    </tr>\n  </tbody>\n</table>\n</div>"
     },
     "metadata": {},
     "execution_count": 66
    }
   ],
   "source": [
    "df = pd.DataFrame(np.random.randn(6, 2), index = hier_index, columns = ['A', 'B'])\n",
    "\n",
    "df"
   ]
  },
  {
   "cell_type": "code",
   "execution_count": 67,
   "metadata": {},
   "outputs": [
    {
     "output_type": "execute_result",
     "data": {
      "text/plain": "          A         B\n1 -0.993263  0.196800\n2 -1.136645  0.000366\n3  1.025984 -0.156598",
      "text/html": "<div>\n<style scoped>\n    .dataframe tbody tr th:only-of-type {\n        vertical-align: middle;\n    }\n\n    .dataframe tbody tr th {\n        vertical-align: top;\n    }\n\n    .dataframe thead th {\n        text-align: right;\n    }\n</style>\n<table border=\"1\" class=\"dataframe\">\n  <thead>\n    <tr style=\"text-align: right;\">\n      <th></th>\n      <th>A</th>\n      <th>B</th>\n    </tr>\n  </thead>\n  <tbody>\n    <tr>\n      <th>1</th>\n      <td>-0.993263</td>\n      <td>0.196800</td>\n    </tr>\n    <tr>\n      <th>2</th>\n      <td>-1.136645</td>\n      <td>0.000366</td>\n    </tr>\n    <tr>\n      <th>3</th>\n      <td>1.025984</td>\n      <td>-0.156598</td>\n    </tr>\n  </tbody>\n</table>\n</div>"
     },
     "metadata": {},
     "execution_count": 67
    }
   ],
   "source": [
    "# Using Index\n",
    "\n",
    "# First Level\n",
    "\n",
    "df.loc['G1']"
   ]
  },
  {
   "cell_type": "code",
   "execution_count": 68,
   "metadata": {},
   "outputs": [
    {
     "output_type": "execute_result",
     "data": {
      "text/plain": "A   -0.993263\nB    0.196800\nName: 1, dtype: float64"
     },
     "metadata": {},
     "execution_count": 68
    }
   ],
   "source": [
    "df.loc['G1'].loc[1]"
   ]
  },
  {
   "cell_type": "code",
   "execution_count": 69,
   "metadata": {},
   "outputs": [
    {
     "output_type": "execute_result",
     "data": {
      "text/plain": "FrozenList([None, None])"
     },
     "metadata": {},
     "execution_count": 69
    }
   ],
   "source": [
    "df.index.names"
   ]
  },
  {
   "cell_type": "code",
   "execution_count": 70,
   "metadata": {},
   "outputs": [],
   "source": [
    "df.index.names = ['Group', 'Num']"
   ]
  },
  {
   "cell_type": "code",
   "execution_count": 71,
   "metadata": {},
   "outputs": [
    {
     "output_type": "execute_result",
     "data": {
      "text/plain": "                  A         B\nGroup Num                    \nG1    1   -0.993263  0.196800\n      2   -1.136645  0.000366\n      3    1.025984 -0.156598\nG2    1   -0.031579  0.649826\n      2    2.154846 -0.610259\n      3   -0.755325 -0.346419",
      "text/html": "<div>\n<style scoped>\n    .dataframe tbody tr th:only-of-type {\n        vertical-align: middle;\n    }\n\n    .dataframe tbody tr th {\n        vertical-align: top;\n    }\n\n    .dataframe thead th {\n        text-align: right;\n    }\n</style>\n<table border=\"1\" class=\"dataframe\">\n  <thead>\n    <tr style=\"text-align: right;\">\n      <th></th>\n      <th></th>\n      <th>A</th>\n      <th>B</th>\n    </tr>\n    <tr>\n      <th>Group</th>\n      <th>Num</th>\n      <th></th>\n      <th></th>\n    </tr>\n  </thead>\n  <tbody>\n    <tr>\n      <th rowspan=\"3\" valign=\"top\">G1</th>\n      <th>1</th>\n      <td>-0.993263</td>\n      <td>0.196800</td>\n    </tr>\n    <tr>\n      <th>2</th>\n      <td>-1.136645</td>\n      <td>0.000366</td>\n    </tr>\n    <tr>\n      <th>3</th>\n      <td>1.025984</td>\n      <td>-0.156598</td>\n    </tr>\n    <tr>\n      <th rowspan=\"3\" valign=\"top\">G2</th>\n      <th>1</th>\n      <td>-0.031579</td>\n      <td>0.649826</td>\n    </tr>\n    <tr>\n      <th>2</th>\n      <td>2.154846</td>\n      <td>-0.610259</td>\n    </tr>\n    <tr>\n      <th>3</th>\n      <td>-0.755325</td>\n      <td>-0.346419</td>\n    </tr>\n  </tbody>\n</table>\n</div>"
     },
     "metadata": {},
     "execution_count": 71
    }
   ],
   "source": [
    "df"
   ]
  },
  {
   "cell_type": "code",
   "execution_count": 72,
   "metadata": {},
   "outputs": [
    {
     "output_type": "execute_result",
     "data": {
      "text/plain": "            A         B\nNum                    \n1   -0.993263  0.196800\n2   -1.136645  0.000366\n3    1.025984 -0.156598",
      "text/html": "<div>\n<style scoped>\n    .dataframe tbody tr th:only-of-type {\n        vertical-align: middle;\n    }\n\n    .dataframe tbody tr th {\n        vertical-align: top;\n    }\n\n    .dataframe thead th {\n        text-align: right;\n    }\n</style>\n<table border=\"1\" class=\"dataframe\">\n  <thead>\n    <tr style=\"text-align: right;\">\n      <th></th>\n      <th>A</th>\n      <th>B</th>\n    </tr>\n    <tr>\n      <th>Num</th>\n      <th></th>\n      <th></th>\n    </tr>\n  </thead>\n  <tbody>\n    <tr>\n      <th>1</th>\n      <td>-0.993263</td>\n      <td>0.196800</td>\n    </tr>\n    <tr>\n      <th>2</th>\n      <td>-1.136645</td>\n      <td>0.000366</td>\n    </tr>\n    <tr>\n      <th>3</th>\n      <td>1.025984</td>\n      <td>-0.156598</td>\n    </tr>\n  </tbody>\n</table>\n</div>"
     },
     "metadata": {},
     "execution_count": 72
    }
   ],
   "source": [
    "df.xs('G1')"
   ]
  },
  {
   "cell_type": "code",
   "execution_count": 73,
   "metadata": {},
   "outputs": [
    {
     "output_type": "execute_result",
     "data": {
      "text/plain": "A   -0.993263\nB    0.196800\nName: (G1, 1), dtype: float64"
     },
     "metadata": {},
     "execution_count": 73
    }
   ],
   "source": [
    "df.xs(['G1', 1])"
   ]
  },
  {
   "cell_type": "code",
   "execution_count": 75,
   "metadata": {},
   "outputs": [
    {
     "output_type": "execute_result",
     "data": {
      "text/plain": "              A         B\nGroup                    \nG1    -0.993263  0.196800\nG2    -0.031579  0.649826",
      "text/html": "<div>\n<style scoped>\n    .dataframe tbody tr th:only-of-type {\n        vertical-align: middle;\n    }\n\n    .dataframe tbody tr th {\n        vertical-align: top;\n    }\n\n    .dataframe thead th {\n        text-align: right;\n    }\n</style>\n<table border=\"1\" class=\"dataframe\">\n  <thead>\n    <tr style=\"text-align: right;\">\n      <th></th>\n      <th>A</th>\n      <th>B</th>\n    </tr>\n    <tr>\n      <th>Group</th>\n      <th></th>\n      <th></th>\n    </tr>\n  </thead>\n  <tbody>\n    <tr>\n      <th>G1</th>\n      <td>-0.993263</td>\n      <td>0.196800</td>\n    </tr>\n    <tr>\n      <th>G2</th>\n      <td>-0.031579</td>\n      <td>0.649826</td>\n    </tr>\n  </tbody>\n</table>\n</div>"
     },
     "metadata": {},
     "execution_count": 75
    }
   ],
   "source": [
    "df.xs(1, level = 'Num')"
   ]
  },
  {
   "cell_type": "code",
   "execution_count": null,
   "metadata": {},
   "outputs": [],
   "source": []
  }
 ]
}